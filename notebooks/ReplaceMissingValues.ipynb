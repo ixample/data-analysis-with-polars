{
 "cells": [
  {
   "cell_type": "markdown",
   "id": "37402c9b-9b3b-42ee-b99e-a4486562f068",
   "metadata": {},
   "source": [
    "## Replacing missing values\n",
    "By the end of this lecture you will be able to:\n",
    "- replace missing values with a constant\n",
    "- replace missing values with a strategy"
   ]
  },
  {
   "cell_type": "code",
   "execution_count": null,
   "id": "c6eeec38-daf3-4680-b36d-9ad03c782454",
   "metadata": {},
   "outputs": [],
   "source": [
    "import polars as pl"
   ]
  },
  {
   "cell_type": "markdown",
   "id": "cfb3d8d0-f405-432f-ac0e-813196f0e024",
   "metadata": {},
   "source": [
    "We create a simple `DataFrame` for this lecture"
   ]
  },
  {
   "cell_type": "code",
   "execution_count": null,
   "id": "e26a300f-5120-4a2d-81a1-645a9655a421",
   "metadata": {},
   "outputs": [],
   "source": [
    "df = pl.DataFrame(\n",
    "    {\n",
    "        \"col1\":[0,None,2,3],\n",
    "        \"col2\":[0,None,None,3],\n",
    "        \"strings\":[\"a\",None,\"c\",\"d\"]\n",
    "    }\n",
    ")\n",
    "df"
   ]
  },
  {
   "cell_type": "markdown",
   "id": "7be1ad8b-db72-4bb4-9aab-88369f943a28",
   "metadata": {},
   "source": [
    "## Replace missing values with a constant\n",
    "We replace missing values in an expression using `fill_null`"
   ]
  },
  {
   "cell_type": "code",
   "execution_count": null,
   "id": "28488f4f-c692-4883-9f84-e77b2614924a",
   "metadata": {},
   "outputs": [],
   "source": [
    "(\n",
    "    df\n",
    "    .with_column(\n",
    "        pl.all().fill_null(0).suffix(\"_new\")\n",
    "    )\n",
    ")"
   ]
  },
  {
   "cell_type": "markdown",
   "id": "2b36237e-62d2-4b7c-94e2-fc4ddc8cc2e5",
   "metadata": {},
   "source": [
    "Note that `fill_null` replaced `null` with a string `\"0\"` in `strings_new`\n",
    "\n",
    "We can also replace the missing values with a string "
   ]
  },
  {
   "cell_type": "code",
   "execution_count": null,
   "id": "0a9aa86c-5197-4429-b611-9ed06b1c0401",
   "metadata": {},
   "outputs": [],
   "source": [
    "(\n",
    "    df\n",
    "    .with_column(\n",
    "        pl.all().fill_null(\"missing\").suffix(\"_new\")\n",
    "    )\n",
    ")"
   ]
  },
  {
   "cell_type": "markdown",
   "id": "3ec033fe-1f33-46c1-b543-83e30dbbc405",
   "metadata": {},
   "source": [
    "In this case `fill_null` has `cast` the columns from integer to string dtype!\n",
    "\n",
    "\n",
    "\n",
    "## Replace missing values with a strategy\n",
    "We can also replace missing values with a stragegy including:\n",
    "- forward: replace with the previous non-`null` value\n",
    "- backward: replace with the next non-`null` value\n",
    "- min: replace with the smallest value in the `Series`\n",
    "- max: replace with the largest value in the `Series`\n",
    "- mean: replace with the median value in the `Series`\n",
    "- zero: replace with `0`\n",
    "- one: replace with `1`\n",
    "\n",
    "### Forward strategy\n",
    "In the forward strategy the missing values are replaced with the previous non-`null` values"
   ]
  },
  {
   "cell_type": "code",
   "execution_count": null,
   "id": "243c3bc1-b41a-4e86-9fe4-c0eb06c25ed1",
   "metadata": {},
   "outputs": [],
   "source": [
    "(\n",
    "    df\n",
    "    .with_columns(\n",
    "        pl.all().fill_null(strategy=\"forward\").suffix(\"_new\")\n",
    "    )\n",
    ")"
   ]
  },
  {
   "cell_type": "markdown",
   "id": "de9b1dbd-e01b-459f-bd3a-7ddb93831524",
   "metadata": {},
   "source": [
    "We can set a limit on how many rows to fill-forward or backward with `limit`"
   ]
  },
  {
   "cell_type": "code",
   "execution_count": null,
   "id": "930a5567-0d5f-4c78-a288-39fd70e9281f",
   "metadata": {},
   "outputs": [],
   "source": [
    "(\n",
    "    df\n",
    "    .with_columns(\n",
    "        pl.all().fill_null(strategy=\"forward\",limit=1).suffix(\"_new\")\n",
    "    )\n",
    ")"
   ]
  },
  {
   "cell_type": "markdown",
   "id": "32a40ac6-32f2-4585-9c97-c3a7ae7d9c9d",
   "metadata": {},
   "source": [
    "## Exercises\n",
    "In the exercises you will develop your understanding of:\n",
    "- replacing missing values with a constant\n",
    "- replacing missing values with a strategy"
   ]
  },
  {
   "cell_type": "markdown",
   "id": "c7d1f974-96f1-4633-8f3f-adbf3f3694c6",
   "metadata": {},
   "source": [
    "### Exercise 1\n",
    "Filter the `DataFrame` to have only the two rows with missing values in the `Embarked` column and then replace the missing values in the `Embarked` column with `\"unknown\"`"
   ]
  },
  {
   "cell_type": "code",
   "execution_count": null,
   "id": "aadfe1d3-e150-4196-90c0-6e337dee98d6",
   "metadata": {},
   "outputs": [],
   "source": [
    "csvFile = \"../data/titanic.csv\"\n",
    "(\n",
    "    pl.read_csv(csvFile)\n",
    "   <blank>\n",
    ")"
   ]
  },
  {
   "cell_type": "markdown",
   "id": "b5865d7c-4479-4f20-af32-baf78d6d06d5",
   "metadata": {},
   "source": [
    "### Exercise 2\n",
    "Add a new column called `Age_filled` where missing values are replaced with the  value from the following row."
   ]
  },
  {
   "cell_type": "code",
   "execution_count": null,
   "id": "00512f96-6466-4f5c-98f1-4cf81d96abda",
   "metadata": {},
   "outputs": [],
   "source": [
    "csvFile = \"../data/titanic.csv\"\n",
    "(\n",
    "    pl.read_csv(csvFile)\n",
    "    <blank>\n",
    "    .select([\"Age\",\"Age_filled\"])\n",
    ")"
   ]
  },
  {
   "cell_type": "markdown",
   "id": "0361bba1-258b-4e6d-a8f7-12940ebdfc86",
   "metadata": {},
   "source": [
    "Add three new columns called `Age_mean`, `Age_median` and `Age_interpolated` where missing values are replaced with the mean, median and interpolated values."
   ]
  },
  {
   "cell_type": "code",
   "execution_count": null,
   "id": "1ea4ed60-98fb-4a00-bd46-06a7a7c59f2c",
   "metadata": {},
   "outputs": [],
   "source": [
    "csvFile = \"../data/titanic.csv\"\n",
    "(\n",
    "    pl.read_csv(csvFile)\n",
    "    <blank>\n",
    "    .select([\"Age\",\"Age_mean\",\"Age_median\",\"Age_interpolated\"])\n",
    "    .filter(pl.col(\"Age\").is_null())\n",
    ")"
   ]
  },
  {
   "cell_type": "markdown",
   "id": "6aedabb7-d2ea-4265-b3a9-2c141f363929",
   "metadata": {},
   "source": [
    "## Solutions\n",
    "\n",
    "### Solution to Exercise 1\n",
    "Filter the `DataFrame` to have only the two rows with missing values in the `Embarked` column and then replace the missing values in the `Embarked` column with `\"unknown\"`"
   ]
  },
  {
   "cell_type": "code",
   "execution_count": null,
   "id": "98f1df41-8194-441a-a9fd-1bac7a9685c7",
   "metadata": {
    "jupyter": {
     "source_hidden": true
    },
    "tags": []
   },
   "outputs": [],
   "source": [
    "csvFile = \"../data/titanic.csv\"\n",
    "(\n",
    "    pl.read_csv(csvFile)\n",
    "    .filter(\n",
    "        pl.col(\"Embarked\").is_null()\n",
    "    )\n",
    "    .with_column(\n",
    "        pl.col(\"Embarked\").fill_null(\"unknown\")\n",
    "    )\n",
    ")"
   ]
  },
  {
   "cell_type": "markdown",
   "id": "9c661c26-3a05-421f-890f-6f786b27eae0",
   "metadata": {},
   "source": [
    "### Solution to Exercise 2\n",
    "Add a new column called `Age_filled` where missing values are replaced with the  value from the following row."
   ]
  },
  {
   "cell_type": "code",
   "execution_count": null,
   "id": "198d8bd6-bfb6-40b0-a570-337308cf8b1b",
   "metadata": {
    "jupyter": {
     "source_hidden": true
    },
    "tags": []
   },
   "outputs": [],
   "source": [
    "csvFile = \"../data/titanic.csv\"\n",
    "(\n",
    "    pl.read_csv(csvFile)\n",
    "    .with_column(\n",
    "        pl.col(\"Age\").fill_null(strategy=\"backward\").alias(\"Age_filled\")\n",
    "    )\n",
    "    .select([\"Age\",\"Age_filled\"])\n",
    ")"
   ]
  },
  {
   "cell_type": "markdown",
   "id": "12c98d41-25e0-43b9-b9f5-6b2a10f42b44",
   "metadata": {},
   "source": [
    "Solution to Exercise 2 cont:\n",
    "\n",
    "Add three new columns called `Age_mean`, `Age_median` and `Age_interpolated` where missing values are replaced with the mean, median and interpolated values."
   ]
  },
  {
   "cell_type": "code",
   "execution_count": null,
   "id": "a3b9f481-9d88-44f1-9305-609b55446b6c",
   "metadata": {
    "jupyter": {
     "source_hidden": true
    },
    "tags": []
   },
   "outputs": [],
   "source": [
    "csvFile = \"../data/titanic.csv\"\n",
    "(\n",
    "    pl.read_csv(csvFile)\n",
    "    .with_columns(\n",
    "        [\n",
    "            pl.col(\"Age\").fill_null(strategy=\"mean\").alias(\"Age_mean\"),\n",
    "            pl.col(\"Age\").fill_null(pl.col(\"Age\").median()).alias(\"Age_median\"),\n",
    "            pl.col(\"Age\").interpolate().alias(\"Age_interpolated\"),\n",
    "\n",
    "        ]\n",
    "            )\n",
    "    .select([\"Age\",\"Age_mean\",\"Age_median\",\"Age_interpolated\"])\n",
    "    .filter(pl.col(\"Age\").is_null())\n",
    ")"
   ]
  }
 ],
 "metadata": {
  "kernelspec": {
   "display_name": "Python 3 (ipykernel)",
   "language": "python",
   "name": "python3"
  },
  "language_info": {
   "codemirror_mode": {
    "name": "ipython",
    "version": 3
   },
   "file_extension": ".py",
   "mimetype": "text/x-python",
   "name": "python",
   "nbconvert_exporter": "python",
   "pygments_lexer": "ipython3",
   "version": "3.10.1"
  }
 },
 "nbformat": 4,
 "nbformat_minor": 5
}
