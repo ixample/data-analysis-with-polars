{
 "cells": [
  {
   "cell_type": "markdown",
   "id": "8f1a348d-60e8-43b3-9618-bac97c4c3e03",
   "metadata": {},
   "source": [
    "# Visualisation with Plotly\n",
    "By the end of this lecture on you will be able to:\n",
    "- work with Plotly via Pandas or directly from Polars\n",
    "- create bar, row, grouped bar and  scatter charts with Plotly\n",
    "- create time series charts with Plotly"
   ]
  },
  {
   "cell_type": "code",
   "execution_count": null,
   "id": "31958b81-dcc3-4cf9-9e77-f89bdee12927",
   "metadata": {},
   "outputs": [],
   "source": [
    "import polars as pl\n",
    "import plotly.express as px"
   ]
  },
  {
   "cell_type": "code",
   "execution_count": null,
   "id": "3db18c26-04ac-4123-ae5f-182167f4cad6",
   "metadata": {},
   "outputs": [],
   "source": [
    "csvFile = '../data/titanic.csv'"
   ]
  },
  {
   "cell_type": "code",
   "execution_count": null,
   "id": "fd891629-7372-4c59-8a7c-aabd338baf8f",
   "metadata": {},
   "outputs": [],
   "source": [
    "df = pl.read_csv(csvFile)\n",
    "df.head(3)"
   ]
  },
  {
   "cell_type": "markdown",
   "id": "5ee7b9a8-adc1-4558-989d-5e24599195fd",
   "metadata": {},
   "source": [
    "## Using Plotly via Pandas\n",
    "With a **Pandas** `DataFrame` in Plotly we can pass the `DataFrame` as the first argument and then the column names as subsequent arguments"
   ]
  },
  {
   "cell_type": "code",
   "execution_count": null,
   "id": "9f5e8174-f3e4-420d-8fbc-73edff1ee6b2",
   "metadata": {},
   "outputs": [],
   "source": [
    "px.scatter(\n",
    "    df.to_pandas(),\n",
    "    x=\"Age\",\n",
    "    y=\"Fare\"\n",
    ")"
   ]
  },
  {
   "cell_type": "markdown",
   "id": "a3b8bb63-2505-4efb-aec3-a9f99fbd98da",
   "metadata": {},
   "source": [
    "This approach is handy as it saves us from writing the name of the `DataFrame` variable for each column. \n",
    "\n",
    "Unfortunately, at present we cannot pass a **Polars** `DataFrame` in the same way. This is because if Plotly does not recognise the type of the first entry it calls `pd.DataFrame` on it. Calling `pd.DataFrame` on a Polars `DataFrame` does not work as it: \n",
    "- transposes the data and\n",
    "- drops the column names\n",
    "\n",
    "We see this below for the Titanic data"
   ]
  },
  {
   "cell_type": "code",
   "execution_count": null,
   "id": "37749a4e-afb6-44c8-a4a3-656389ac535c",
   "metadata": {},
   "outputs": [],
   "source": [
    "import pandas as pd\n",
    "pd.DataFrame(df)"
   ]
  },
  {
   "cell_type": "markdown",
   "id": "6c2f4275-53e0-49f5-9043-306cbaf549ef",
   "metadata": {},
   "source": [
    "This beaviour will be corrected at some point within the internals of Pandas and Polars.\n",
    "\n",
    "If you want to use the approach of converting to Pandas be aware that:\n",
    "- converting to Pandas requires copying your data and \n",
    "- Plotly also copies your data internally\n",
    "\n",
    "Therefore it is best to limit the columns to those needed for the plot with `select`"
   ]
  },
  {
   "cell_type": "code",
   "execution_count": null,
   "id": "3679f2e5-662b-4234-a72f-4df90f042efa",
   "metadata": {},
   "outputs": [],
   "source": [
    "px.scatter(\n",
    "    (\n",
    "        df\n",
    "        .select([\"Age\",\"Fare\"])\n",
    "        .to_pandas()\n",
    "    ),\n",
    "    x=\"Age\",\n",
    "    y=\"Fare\"\n",
    ")"
   ]
  },
  {
   "cell_type": "markdown",
   "id": "44506a19-828f-428e-b919-83edf2101dd2",
   "metadata": {},
   "source": [
    "## Working with Plotly directly\n",
    "In the rest of this notebook we see how to work with Plotly directly from a Polars `DataFrame`.\n",
    "\n",
    "The key point is that we pass columns directly to the `x`,`y`,`color` arguments without passing the `DataFrame` first"
   ]
  },
  {
   "cell_type": "markdown",
   "id": "fb59839f-efbb-4d33-a9b2-3422e7f88c8a",
   "metadata": {},
   "source": [
    "## Bar chart\n",
    "We can make a bar chart with Plotly by specifying the dataframe columns with the `x` and `y` arguments"
   ]
  },
  {
   "cell_type": "code",
   "execution_count": null,
   "id": "00e08aa6-0c42-433f-b7d6-42700a5a4d20",
   "metadata": {},
   "outputs": [],
   "source": [
    "classCounts = (\n",
    "    df['Pclass']\n",
    "    .value_counts()\n",
    "    .sort(\"Pclass\")\n",
    "    .with_column(\n",
    "        pl.col(\"Pclass\").cast(pl.Utf8)\n",
    "    )\n",
    ")\n",
    "px.bar(\n",
    "    x=classCounts[\"Pclass\"],\n",
    "    y=classCounts[\"counts\"]\n",
    ")"
   ]
  },
  {
   "cell_type": "markdown",
   "id": "8c0d8a7d-01ed-4d06-af7b-58c5b924801b",
   "metadata": {},
   "source": [
    "Note that we have to cast the `Pclass` column from `Int64` to `Utf8` (string) for Plotly to process it correctly.\n",
    "\n",
    "We can format the chart in the normal way for Plotly. In this example we add a title and axis labels"
   ]
  },
  {
   "cell_type": "code",
   "execution_count": null,
   "id": "33d545f4-d548-435e-aea1-d7dff901348d",
   "metadata": {},
   "outputs": [],
   "source": [
    "px.bar(\n",
    "    x=classCounts[\"Pclass\"],\n",
    "    y=classCounts[\"counts\"],\n",
    "    title=\"Number of passengers per class\",\n",
    "    labels = {\n",
    "        \"x\":\"Passenger class\",\n",
    "        \"y\":\"Number of passengers\",\n",
    "    },\n",
    ")"
   ]
  },
  {
   "cell_type": "markdown",
   "id": "89cabaca-f990-44e1-86ae-a13661d4fe18",
   "metadata": {},
   "source": [
    "## Row chart\n",
    "We plot the same data as a horizontal row chart by:\n",
    "- switching the `x` and `y` arguments and\n",
    "- setting `orientation='h'`"
   ]
  },
  {
   "cell_type": "code",
   "execution_count": null,
   "id": "20db026b-7419-4568-954f-75ef9956ad01",
   "metadata": {},
   "outputs": [],
   "source": [
    "px.bar(\n",
    "    y=classCounts[\"Pclass\"],\n",
    "    x=classCounts[\"counts\"],\n",
    "    orientation='h'\n",
    ")"
   ]
  },
  {
   "cell_type": "markdown",
   "id": "879d3a6e-b778-49ad-a67d-95f5188fc5df",
   "metadata": {},
   "source": [
    "## Grouped bar chart\n",
    "We use the example of the survival rate broken down by passenger class from the lecture on group operations using `over`"
   ]
  },
  {
   "cell_type": "code",
   "execution_count": null,
   "id": "027536a2-d806-479e-a1b2-150ee1b72b0a",
   "metadata": {},
   "outputs": [],
   "source": [
    "survivedPercentageDf = (\n",
    "    pl.read_csv(csvFile)\n",
    "    .groupby([\"Pclass\",\"Survived\"])\n",
    "    .agg(\n",
    "        pl.col(\"Name\").count().alias(\"counts\")\n",
    "    )\n",
    "    .with_column(\n",
    "        (100*(pl.col(\"counts\")/pl.col(\"counts\").sum().over(\"Pclass\"))).round(3).alias(\"% Survived\")\n",
    "    )\n",
    "    .sort([\"Pclass\",\"Survived\"])\n",
    ")"
   ]
  },
  {
   "cell_type": "markdown",
   "id": "73e39ee5-6dd1-4131-81df-c61d66d07f70",
   "metadata": {},
   "source": [
    "We create a grouped bar chart by passing the column to group the bars by to the `color` argument"
   ]
  },
  {
   "cell_type": "code",
   "execution_count": null,
   "id": "7e253cbe-9f00-4adf-ae0c-a13250897ac9",
   "metadata": {},
   "outputs": [],
   "source": [
    "fig = px.histogram(\n",
    "          x = survivedPercentageDf[\"Pclass\"], \n",
    "          y = survivedPercentageDf[\"% Survived\"],\n",
    "          color = survivedPercentageDf['Survived'], \n",
    "          barmode = 'group',\n",
    "          title=\"% survival by class\",\n",
    "          labels = {\n",
    "              \"x\":\"Passenger class\",\n",
    "              \"y\":\"% Survived\",\n",
    "              \"color\":\"Survived\"\n",
    "          },\n",
    "          height=400\n",
    ")\n",
    "fig.show()"
   ]
  },
  {
   "cell_type": "markdown",
   "id": "94f3e3b7-eba8-4c4a-b075-47f3098f8be2",
   "metadata": {},
   "source": [
    "## Scatter plot and plot size\n",
    "We make a scatter plot of `log10(Age)` and `log10(Fare`).\n",
    "\n",
    "We colour the points by survival. If we keep `Survived` as an integer-column Plotly sets a continuous color scale. Here we cast `Survived` to string so that Plotly uses a discrete color scale"
   ]
  },
  {
   "cell_type": "code",
   "execution_count": null,
   "id": "73d2fc12-5527-4bec-abdc-f7b215a8f3c7",
   "metadata": {},
   "outputs": [],
   "source": [
    "px.scatter(\n",
    "    x=df[\"Age\"].log(10),\n",
    "    y=df[\"Fare\"].log(10),\n",
    "    color=df[\"Survived\"].cast(pl.Utf8),\n",
    "    labels = {\n",
    "        \"x\":\"Age\",\n",
    "        \"y\":\"Fare\",\n",
    "        \"color\":\"Survived\"\n",
    "    },\n",
    "    width=800,\n",
    "    height=600\n",
    ")"
   ]
  },
  {
   "cell_type": "markdown",
   "id": "3abb99f5-1312-4bd4-aee2-6fbc734d8445",
   "metadata": {},
   "source": [
    "To control the shape of the chart in Jupyter we must set the width **and** height fields"
   ]
  },
  {
   "cell_type": "markdown",
   "id": "d8c0d653-f3ca-4ebb-b140-4a9db77dedc9",
   "metadata": {},
   "source": [
    "## Line chart\n",
    "For the line chart we bring in some new data: a time series of ocean wave heights from the buoys near the stormy coast of Ireland"
   ]
  },
  {
   "cell_type": "code",
   "execution_count": null,
   "id": "28a36b9b-fe2d-4652-bf24-eb880f6d29c3",
   "metadata": {},
   "outputs": [],
   "source": [
    "waveCsvFile = \"../data/wave_data.csv\""
   ]
  },
  {
   "cell_type": "markdown",
   "id": "2e179443-1078-45c0-abb9-65eb65f926d3",
   "metadata": {},
   "source": [
    "We are primarily interested in looking at time series of the `significant_wave_height` column. This measures the wave height in metres at each station (i.e. at each buoy).\n",
    "\n",
    "We show the first two rows of this `DataFrame` here"
   ]
  },
  {
   "cell_type": "code",
   "execution_count": null,
   "id": "34ba01af-04b6-4c9c-a1de-14eb45cf7752",
   "metadata": {},
   "outputs": [],
   "source": [
    "(\n",
    "    pl.read_csv(waveCsvFile,parse_dates=True)\n",
    "    .select([\"time\",\"stationID\",\"significant_wave_height\"])\n",
    "    .head(2)\n",
    ")"
   ]
  },
  {
   "cell_type": "markdown",
   "id": "785d1eac-7fe4-4401-aa4d-212eb4d0ca27",
   "metadata": {},
   "source": [
    "We use `groupby_dynamic` to group the wave data by station and in 1 hour blocks. We take the hourly mean by station.\n",
    "\n",
    "We apply a filter at the end of this query to restrict the plot to the 6 stations with the largest waves"
   ]
  },
  {
   "cell_type": "code",
   "execution_count": null,
   "id": "ae49fdca-f9b3-4d48-972a-5f03704eabe1",
   "metadata": {},
   "outputs": [],
   "source": [
    "stationAggs = (\n",
    "    pl.read_csv(waveCsvFile,parse_dates=True)\n",
    "    .groupby_dynamic('time',every=\"1h\",by=\"stationID\")\n",
    "    .agg(\n",
    "            pl.col(pl.Float64).mean().suffix(\"_mean\"),\n",
    "    )\n",
    "    # Apply a filter to output the stations with the largest waves\n",
    "    .filter(\n",
    "        pl.col('significant_wave_height_mean').mean().over(\"stationID\").rank(method='dense',reverse=True) < 7\n",
    "    )\n",
    ")\n",
    "stationAggs.head(3)"
   ]
  },
  {
   "cell_type": "markdown",
   "id": "7e7421ac-e6ed-45f1-b12c-3d91f98c8951",
   "metadata": {},
   "source": [
    "We can now produce a time series plot of this hourly data by station. We pass:\n",
    "- the `time` column as the `x`-axis\n",
    "- the `significant_wave_height_mean` as the `y`-axis\n",
    "- the `stationID` as the `color`-axis"
   ]
  },
  {
   "cell_type": "code",
   "execution_count": null,
   "id": "6e536a0d-a221-45d0-a8fd-bdeb9491cf53",
   "metadata": {},
   "outputs": [],
   "source": [
    "px.line(\n",
    "    x=stationAggs[\"time\"],\n",
    "    y=stationAggs[\"significant_wave_height_mean\"],\n",
    "    color=stationAggs[\"stationID\"],\n",
    "    title=\"Mean wave height in hourly intervals\",\n",
    "    labels = {\n",
    "        \"x\":\"Date\",\n",
    "        \"y\":\"Wave height (m)\",\n",
    "    },\n",
    "    width=800,\n",
    "    height=400\n",
    ")"
   ]
  },
  {
   "cell_type": "markdown",
   "id": "674218ce-e169-498b-9f31-4b9e76907d80",
   "metadata": {},
   "source": [
    "The chart shows the arrival of some large waves on 25th September 2022"
   ]
  },
  {
   "cell_type": "markdown",
   "id": "b7ad093c-013a-49e0-9816-aef868a6c621",
   "metadata": {},
   "source": [
    "## Exercises\n",
    "In the exercises you will develop your understanding of:\n",
    "- creating charts via Pandas or directly from Polars\n",
    "- creating charts with control over axis labels and sizing\n",
    "\n",
    "### Exercise 1\n",
    "Make a bar chart of the `SibSp` column showing how many passengers there are with 0,1,2 etc siblings. Ensure the chart is correctly ordered in the number of siblings (that means the x-axis must be in order from 0,1,2 etc)\n",
    "\n",
    "Do this first by converting to Pandas\n",
    "\n",
    "Expand the following cell if you want some hints"
   ]
  },
  {
   "cell_type": "code",
   "execution_count": null,
   "id": "5562e1cc-fe07-4ec6-b92b-982d459829f2",
   "metadata": {
    "jupyter": {
     "source_hidden": true
    },
    "tags": []
   },
   "outputs": [],
   "source": [
    "#Hint 1: Do a value counts on the `SibSp` column\n",
    "#Hint 2: Cast the `SibSp` column to string"
   ]
  },
  {
   "cell_type": "code",
   "execution_count": null,
   "id": "896c6e04-91df-4e7f-b75f-abb4e70860cb",
   "metadata": {},
   "outputs": [],
   "source": [
    "df = pl.read_csv(csvFile)"
   ]
  },
  {
   "cell_type": "code",
   "execution_count": null,
   "id": "838e072c-90d7-45fd-8e2b-3c053346ea67",
   "metadata": {},
   "outputs": [],
   "source": []
  },
  {
   "cell_type": "markdown",
   "id": "cf063f4d-3b7a-42d3-bedd-e49ebde02560",
   "metadata": {},
   "source": [
    "Do this again working directly with Polars"
   ]
  },
  {
   "cell_type": "code",
   "execution_count": null,
   "id": "0a07f5a5-318f-4e34-b818-ecf6ab53ff3a",
   "metadata": {},
   "outputs": [],
   "source": []
  },
  {
   "cell_type": "markdown",
   "id": "8170a691-6cdc-4271-85ac-272026b01ecf",
   "metadata": {},
   "source": [
    "### Exercise 2\n",
    "Inspect the columns in the stationsAggs `DataFrame`. Note the `mean_wave_period_mean` column that has the mean wave period (the time between wave crests) in seconds."
   ]
  },
  {
   "cell_type": "code",
   "execution_count": null,
   "id": "53166b34-4aec-4701-ae60-b57ebf834010",
   "metadata": {},
   "outputs": [],
   "source": [
    "stationAggs = (\n",
    "    pl.read_csv(waveCsvFile,parse_dates=True)\n",
    "    .groupby_dynamic('time',every=\"1h\",by=\"stationID\")\n",
    "    .agg(\n",
    "            pl.col(pl.Float64).mean().suffix(\"_mean\"),\n",
    "    )\n",
    "    # Apply a filter to output the stations with the largest waves\n",
    "    .filter(\n",
    "        pl.col('significant_wave_height_mean').mean().over(\"stationID\").rank(method='dense',reverse=True) < 7\n",
    "    )\n",
    ")\n",
    "stationAggs.head(3)"
   ]
  },
  {
   "cell_type": "markdown",
   "id": "6916ee77-81ce-430c-9e1e-78fefc0cb9c1",
   "metadata": {},
   "source": [
    "Make a time series plot of the mean wave period showing it has a similar pattern to the wave height plot above"
   ]
  },
  {
   "cell_type": "code",
   "execution_count": null,
   "id": "90bfd2e6-0b7a-4c85-ab62-12cc7e7b5263",
   "metadata": {},
   "outputs": [],
   "source": []
  },
  {
   "cell_type": "markdown",
   "id": "e06e931e-02c3-4fb1-abb1-288f3f2cabcc",
   "metadata": {},
   "source": [
    "Now make a scatter plot with:\n",
    "- the significant wave height on the x-axis\n",
    "- the mean wave period on the y-axis\n",
    "- coloured by station"
   ]
  },
  {
   "cell_type": "code",
   "execution_count": null,
   "id": "be011bec-0f6f-40ee-9930-5a9ededaab30",
   "metadata": {},
   "outputs": [],
   "source": []
  },
  {
   "cell_type": "markdown",
   "id": "7d0dc246-4b18-4907-96c6-c917c525b68b",
   "metadata": {},
   "source": [
    "Add labels and a title:\n",
    "- on the x-axis \"Wave height (m)\"\n",
    "- on the y-axis \"Wave period (s)\"\n",
    "- on the color axis \"Station ID\"\n",
    "- for the title \"Wave height versus period\""
   ]
  },
  {
   "cell_type": "code",
   "execution_count": null,
   "id": "c95c505f-9b2e-4f76-9fdb-351b39f06326",
   "metadata": {},
   "outputs": [],
   "source": []
  },
  {
   "cell_type": "markdown",
   "id": "fb860840-7590-4a61-8852-166b60020023",
   "metadata": {},
   "source": [
    "Make the plot area have equal width and height"
   ]
  },
  {
   "cell_type": "code",
   "execution_count": null,
   "id": "99a354f1-e5ff-40e4-b3c5-d67008bc87f4",
   "metadata": {},
   "outputs": [],
   "source": []
  },
  {
   "cell_type": "markdown",
   "id": "3e8a0ff9-2185-49e4-b8d9-759a26384254",
   "metadata": {},
   "source": [
    "## Solutions\n",
    "\n",
    "### Solution to exercise 1\n",
    "Make a bar chart of the `SibSp` column showing how many passengers there are with 0,1,2 etc siblings. Ensure the chart is correctly ordered in the number of siblings (that means the x-axis must be in order from 0,1,2 etc)\n",
    "\n",
    "Do this first by converting to Pandas\n",
    "\n",
    "Expand the following cell if you want some hints"
   ]
  },
  {
   "cell_type": "code",
   "execution_count": null,
   "id": "7601a2be-1197-4856-afcc-927607e756b2",
   "metadata": {
    "jupyter": {
     "source_hidden": true
    },
    "tags": []
   },
   "outputs": [],
   "source": [
    "#Hint 1: Do a value counts on the `SibSp` column\n",
    "#Hint 2: Cast the `SibSp` column to string"
   ]
  },
  {
   "cell_type": "code",
   "execution_count": null,
   "id": "4d821437-2d0e-4fad-a73f-7ec3a19e5fde",
   "metadata": {
    "jupyter": {
     "source_hidden": true
    },
    "tags": []
   },
   "outputs": [],
   "source": [
    "(\n",
    "    px.bar(\n",
    "        df[\"SibSp\"]\n",
    "        .value_counts()\n",
    "        .with_columns(\n",
    "            pl.col(\"SibSp\").cast(pl.Utf8)\n",
    "        )\n",
    "        .sort(\"SibSp\")\n",
    "        .to_pandas(),\n",
    "        x=\"SibSp\",\n",
    "        y=\"counts\"\n",
    "    )\n",
    ")        "
   ]
  },
  {
   "cell_type": "markdown",
   "id": "04885467-2d61-4bc6-ad8a-73dd7526cdcc",
   "metadata": {},
   "source": [
    "Do this again working directly with Polars"
   ]
  },
  {
   "cell_type": "code",
   "execution_count": null,
   "id": "cbbcee10-6c3d-444b-97e3-7428e195662a",
   "metadata": {
    "jupyter": {
     "source_hidden": true
    },
    "tags": []
   },
   "outputs": [],
   "source": [
    "siblingCount = (\n",
    "    df[\"SibSp\"]\n",
    "    .value_counts()\n",
    "    .with_columns(\n",
    "        pl.col(\"SibSp\").cast(pl.Utf8)\n",
    "    )\n",
    "    .sort(\"SibSp\")\n",
    ")\n",
    "(\n",
    "    px.bar(\n",
    "        x=siblingCount[\"SibSp\"],\n",
    "        y=siblingCount[\"counts\"]\n",
    "    )\n",
    ")        "
   ]
  },
  {
   "cell_type": "markdown",
   "id": "9383c9f3-bae2-4a20-9a3c-8aecf9b3d4cf",
   "metadata": {},
   "source": [
    "### Solution to Exercise 2\n",
    "\n",
    "Inspect the columns in the stationsAggs `DataFrame`. Note the `mean_wave_period_mean` column that has the mean wave period (the time between wave crests) in seconds.\n",
    "\n",
    "Make a time series plot of the mean wave period (we will add in labels etc below)"
   ]
  },
  {
   "cell_type": "code",
   "execution_count": null,
   "id": "1f0d2c92-ca08-41a9-9264-05208ca3212e",
   "metadata": {
    "jupyter": {
     "source_hidden": true
    },
    "tags": []
   },
   "outputs": [],
   "source": [
    "px.line(\n",
    "    x=stationAggs[\"time\"],\n",
    "    y=stationAggs[\"mean_wave_period_mean\"],\n",
    "    color=stationAggs[\"stationID\"]\n",
    ")"
   ]
  },
  {
   "cell_type": "markdown",
   "id": "351de5f4-dddd-4f79-a54a-7673e66e35cd",
   "metadata": {},
   "source": [
    "Make a scatter plot with:\n",
    "- the significant wave height on the x-axis\n",
    "- the mean wave period on the y-axis\n",
    "- coloured by station"
   ]
  },
  {
   "cell_type": "code",
   "execution_count": null,
   "id": "a05145c4-10cd-40dd-89db-f8a0d4aa93f9",
   "metadata": {
    "jupyter": {
     "source_hidden": true
    },
    "tags": []
   },
   "outputs": [],
   "source": [
    "(\n",
    "    px.scatter(\n",
    "        x=stationAggs[\"significant_wave_height_mean\"],\n",
    "        y=stationAggs[\"mean_wave_period_mean\"],        \n",
    "        color=stationAggs[\"stationID\"]\n",
    "    )\n",
    ")"
   ]
  },
  {
   "cell_type": "markdown",
   "id": "f9699a96-f8db-4d3e-8922-566ef2b8319d",
   "metadata": {},
   "source": [
    "Add labels and a title:\n",
    "- on the x-axis \"Wave height (m)\"\n",
    "- on the y-axis \"Wave period (s)\"\n",
    "- on the color axis \"Station ID\"\n",
    "- for the title \"Wave height versus period\""
   ]
  },
  {
   "cell_type": "code",
   "execution_count": null,
   "id": "5b1ad5eb-f315-42d9-8f16-216957f68de6",
   "metadata": {
    "jupyter": {
     "source_hidden": true
    },
    "tags": []
   },
   "outputs": [],
   "source": [
    "(\n",
    "    px.scatter(\n",
    "        x=stationAggs[\"significant_wave_height_mean\"],\n",
    "        y=stationAggs[\"mean_wave_period_mean\"],        \n",
    "        color=stationAggs[\"stationID\"],\n",
    "        labels={\n",
    "            \"x\":\"Wave height (m)\",\n",
    "            \"t\":\"Wave period (s)\",\n",
    "        },\n",
    "        title=\"Wave height versus period\",\n",
    "    )\n",
    ")"
   ]
  },
  {
   "cell_type": "markdown",
   "id": "8d8c67ff-8048-422e-bc23-75a507e69be9",
   "metadata": {},
   "source": [
    "Make the plot area have equal width and height"
   ]
  },
  {
   "cell_type": "code",
   "execution_count": null,
   "id": "88db2c9b-bbc9-48f1-b9bc-be1439ed983a",
   "metadata": {
    "jupyter": {
     "source_hidden": true
    },
    "tags": []
   },
   "outputs": [],
   "source": [
    "(\n",
    "    px.scatter(\n",
    "        x=stationAggs[\"significant_wave_height_mean\"],\n",
    "        y=stationAggs[\"mean_wave_period_mean\"],        \n",
    "        color=stationAggs[\"stationID\"],\n",
    "        labels={\n",
    "            \"x\":\"Wave height (m)\",\n",
    "            \"t\":\"Wave period (s)\",\n",
    "        },\n",
    "        title=\"Wave height versus period\",\n",
    "        width=600,\n",
    "        height=500\n",
    "    )\n",
    ")"
   ]
  }
 ],
 "metadata": {
  "kernelspec": {
   "display_name": "Python 3 (ipykernel)",
   "language": "python",
   "name": "python3"
  },
  "language_info": {
   "codemirror_mode": {
    "name": "ipython",
    "version": 3
   },
   "file_extension": ".py",
   "mimetype": "text/x-python",
   "name": "python",
   "nbconvert_exporter": "python",
   "pygments_lexer": "ipython3",
   "version": "3.10.1"
  }
 },
 "nbformat": 4,
 "nbformat_minor": 5
}
