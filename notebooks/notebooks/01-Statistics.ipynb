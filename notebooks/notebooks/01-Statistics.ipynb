{
 "cells": [
  {
   "cell_type": "markdown",
   "id": "5686a2c5-6046-42c4-afae-934f88b879e2",
   "metadata": {},
   "source": [
    "# Statistics\n",
    "By the end of this lecture you will be able to:\n",
    "- calculate statistics on a `DataFrame` or expression\n",
    "- get a summary with `describe`\n",
    "- calculate cumulative statistics"
   ]
  },
  {
   "cell_type": "code",
   "execution_count": null,
   "id": "b80f1989-72d2-4ae5-902b-7c1ff0d38e82",
   "metadata": {
    "tags": []
   },
   "outputs": [],
   "source": [
    "import polars as pl"
   ]
  },
  {
   "cell_type": "code",
   "execution_count": null,
   "id": "0463baf3-9101-44bd-89c4-a14992eeb699",
   "metadata": {
    "tags": []
   },
   "outputs": [],
   "source": [
    "csvFile = \"../data/titanic.csv\""
   ]
  },
  {
   "cell_type": "code",
   "execution_count": null,
   "id": "e23647a7-cbb5-49a9-9de4-aef6466b6872",
   "metadata": {
    "tags": []
   },
   "outputs": [],
   "source": [
    "df = pl.read_csv(csvFile)\n",
    "df.head(3)"
   ]
  },
  {
   "cell_type": "markdown",
   "id": "dd900f23-ff7d-4e70-8131-e3c314d488e5",
   "metadata": {},
   "source": [
    "## Statistics on a `DataFrame`\n",
    "\n",
    "We can call statistical methods on a `DataFrame`"
   ]
  },
  {
   "cell_type": "code",
   "execution_count": null,
   "id": "a2378c7b-1e82-40fc-909a-7279dd81f27f",
   "metadata": {
    "tags": []
   },
   "outputs": [],
   "source": [
    "df.mean()"
   ]
  },
  {
   "cell_type": "markdown",
   "id": "a24e72c4-bfcd-4191-888f-9b9b0bd5fdbd",
   "metadata": {},
   "source": [
    "## Summary of a `DataFrame`\n",
    "\n",
    "We can get an overview of the `DataFrame` with `describe`"
   ]
  },
  {
   "cell_type": "code",
   "execution_count": null,
   "id": "065a5182-7a8f-4204-8f85-30406c4a4ed1",
   "metadata": {
    "tags": []
   },
   "outputs": [],
   "source": [
    "df.describe()"
   ]
  },
  {
   "cell_type": "markdown",
   "id": "bff3dcd0-5848-4fc2-9d74-7fc738038509",
   "metadata": {},
   "source": [
    "For string columns the values are cast to the dtype of that column.\n",
    "\n",
    "## Statistics in an expression\n",
    "We can calculate statistics in an expression"
   ]
  },
  {
   "cell_type": "code",
   "execution_count": null,
   "id": "af781845-4a7f-42d8-9051-2e3e480f84c1",
   "metadata": {
    "tags": []
   },
   "outputs": [],
   "source": [
    "(\n",
    "    df\n",
    "    .select(\n",
    "        pl.col('Fare').mean()\n",
    "    )\n",
    ")"
   ]
  },
  {
   "cell_type": "markdown",
   "id": "d5c1ba6d-eb36-41b4-bdb5-75148ebe9fe4",
   "metadata": {},
   "source": [
    "The statistics available include:\n",
    "- count\n",
    "- sum\n",
    "- product\n",
    "- min\n",
    "- median\n",
    "- mean\n",
    "- max\n",
    "- std (standard deviation)\n",
    "- var (variance)\n",
    "- skew\n",
    "- kurtosis\n",
    "- entropy"
   ]
  },
  {
   "cell_type": "markdown",
   "id": "43d8721a-8124-48b1-bfd1-09420dcd3b35",
   "metadata": {},
   "source": [
    "### Multiple statistics\n",
    "We can use `suffix` when calculating multiple statistics on the same column or columns"
   ]
  },
  {
   "cell_type": "code",
   "execution_count": null,
   "id": "94617a80-07a1-416d-89ff-60ac69d40357",
   "metadata": {},
   "outputs": [],
   "source": [
    "(\n",
    "    df.select(\n",
    "        [\n",
    "            pl.col(pl.Float64).min().suffix(\"_min\"),\n",
    "            pl.col(pl.Float64).max().suffix(\"_max\"),\n",
    "        ]\n",
    "    ).select(pl.all())\n",
    ")"
   ]
  },
  {
   "cell_type": "markdown",
   "id": "fa0eda0d-5065-4f96-b026-ee1a151473e4",
   "metadata": {},
   "source": [
    "## Cumulative statistics\n",
    "We can also calcualte cumulative statistics"
   ]
  },
  {
   "cell_type": "code",
   "execution_count": null,
   "id": "383c1a8e-3aa1-45e0-a853-6f6776a940ef",
   "metadata": {},
   "outputs": [],
   "source": [
    "(\n",
    "    df\n",
    "    .select(\n",
    "        pl.col(\"Fare\").cummax()\n",
    "    )\n",
    "    .head(3)\n",
    ")"
   ]
  },
  {
   "cell_type": "markdown",
   "id": "eae5a842-16a2-42b0-a309-9ca4e760a31c",
   "metadata": {},
   "source": [
    "# Exercises\n",
    "\n",
    "In the exercises you will develop your understanding of:\n",
    "- calculating statistics\n",
    "- calculating cumulative statistics\n",
    "\n",
    "### Exercise 1 - calculating multiple statistics\n",
    "Calculate the mean and median of the `Age` column for passengers in 1st class"
   ]
  },
  {
   "cell_type": "code",
   "execution_count": null,
   "id": "a6b59cea-16a8-46bc-9747-446aaab3c760",
   "metadata": {
    "tags": []
   },
   "outputs": [],
   "source": [
    "df = pl.read_csv(csvFile)\n",
    "(\n",
    "    df\n",
    "    <blank>\n",
    ")"
   ]
  },
  {
   "cell_type": "markdown",
   "id": "2a8aeb30-9e6e-4d68-a249-e3979ec5008e",
   "metadata": {},
   "source": [
    "Calculate the mean and median of all of the floating point columns for passengers in 1st class"
   ]
  },
  {
   "cell_type": "code",
   "execution_count": null,
   "id": "098e39d5-7fab-40c1-b823-5a67dc97be36",
   "metadata": {
    "tags": []
   },
   "outputs": [],
   "source": []
  },
  {
   "cell_type": "markdown",
   "id": "37424464-2595-45a9-b46f-fbd4b30eee4a",
   "metadata": {},
   "source": [
    "### Exercise 2\n",
    "Calculate the cumulative sum of the `Age` and `Fare` columns"
   ]
  },
  {
   "cell_type": "code",
   "execution_count": null,
   "id": "ca37384c-9251-40d0-98c2-f85859d76be4",
   "metadata": {
    "tags": []
   },
   "outputs": [],
   "source": [
    "df = pl.read_csv(csvFile)\n",
    "(\n",
    "    df\n",
    "    <blank>\n",
    ")"
   ]
  },
  {
   "cell_type": "markdown",
   "id": "4581425d-043c-48da-8e82-1fcfa4586976",
   "metadata": {},
   "source": [
    "# Solutions"
   ]
  },
  {
   "cell_type": "markdown",
   "id": "0f80afbd-27be-4386-aeea-89e966a8f8df",
   "metadata": {},
   "source": [
    "### Solution to Exercise 1 \n",
    "Calculate the mean and median of the `Age` column for passengers in 1st class"
   ]
  },
  {
   "cell_type": "code",
   "execution_count": null,
   "id": "c9090a20-5fcb-4d8d-82a8-daa04eb0a3b4",
   "metadata": {
    "jupyter": {
     "source_hidden": true
    },
    "tags": []
   },
   "outputs": [],
   "source": [
    "df = pl.read_csv(csvFile)\n",
    "(\n",
    "    df\n",
    "    .filter(\n",
    "        pl.col('Pclass') == 1\n",
    "    )\n",
    "    .select(\n",
    "        [\n",
    "            pl.col('Age').mean().alias('Age_mean'),\n",
    "            pl.col('Age').median().alias('Age_median')\n",
    "        ]\n",
    "    )\n",
    ")"
   ]
  },
  {
   "cell_type": "markdown",
   "id": "94d54017-b4c0-4300-b1eb-7e16dadff6b0",
   "metadata": {},
   "source": [
    "Calculate the mean and median of all of the floating point columns for passengers in 1st class"
   ]
  },
  {
   "cell_type": "code",
   "execution_count": null,
   "id": "30d65f2c-24a1-4ab3-bc5a-d48605ffd140",
   "metadata": {
    "jupyter": {
     "source_hidden": true
    },
    "tags": []
   },
   "outputs": [],
   "source": [
    "df = pl.read_csv(csvFile)\n",
    "(\n",
    "    df\n",
    "    .filter(\n",
    "        pl.col('Pclass')==1\n",
    "    )\n",
    "    .select(\n",
    "        [\n",
    "            pl.col(pl.Float64).mean().suffix('_mean'),\n",
    "            pl.col(pl.Float64).median().suffix('_median')\n",
    "        ]\n",
    "    )\n",
    ")"
   ]
  },
  {
   "cell_type": "markdown",
   "id": "3d379d91-4852-4b6e-915f-a2f9cf382804",
   "metadata": {},
   "source": [
    "### Solution to Exercise 2 \n",
    "Calculate the cumulative sum of the `Age` and `Fare` columns"
   ]
  },
  {
   "cell_type": "code",
   "execution_count": null,
   "id": "4f5d6714-4673-474f-b1fb-f43491f1233b",
   "metadata": {
    "jupyter": {
     "source_hidden": true
    },
    "tags": []
   },
   "outputs": [],
   "source": [
    "df = pl.read_csv(csvFile)\n",
    "(\n",
    "    df\n",
    "    .select(\n",
    "        pl.col([\"Age\",\"Fare\"]).cumsum()\n",
    "    )\n",
    ")"
   ]
  },
  {
   "cell_type": "code",
   "execution_count": null,
   "id": "5991673c-8d73-4151-be74-948fd83bae75",
   "metadata": {},
   "outputs": [],
   "source": []
  }
 ],
 "metadata": {
  "kernelspec": {
   "display_name": "Python 3 (ipykernel)",
   "language": "python",
   "name": "python3"
  },
  "language_info": {
   "codemirror_mode": {
    "name": "ipython",
    "version": 3
   },
   "file_extension": ".py",
   "mimetype": "text/x-python",
   "name": "python",
   "nbconvert_exporter": "python",
   "pygments_lexer": "ipython3",
   "version": "3.10.1"
  }
 },
 "nbformat": 4,
 "nbformat_minor": 5
}
