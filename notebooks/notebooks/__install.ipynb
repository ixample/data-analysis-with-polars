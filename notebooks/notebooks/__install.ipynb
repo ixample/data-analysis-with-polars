{
 "cells": [
  {
   "cell_type": "code",
   "execution_count": null,
   "metadata": {},
   "outputs": [],
   "source": [
    "%pip install polars --quiet\n",
    "%pip install duckdb --quiet\n",
    "%pip install pyarrow --quiet\n",
    "%pip install pandas --quiet\n",
    "%pip install polars --quiet\n",
    "%pip install numpy --quiet\n",
    "%pip install altair --quiet\n",
    "%pip install altair_viewer --quiet"
   ]
  }
 ],
 "metadata": {
  "language_info": {
   "name": "python"
  },
  "orig_nbformat": 4
 },
 "nbformat": 4,
 "nbformat_minor": 2
}
