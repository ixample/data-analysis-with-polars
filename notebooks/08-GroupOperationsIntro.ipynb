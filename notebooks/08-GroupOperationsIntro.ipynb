{
 "cells": [
  {
   "cell_type": "markdown",
   "id": "a046a482-3531-4092-8ca5-aa41e534cf38",
   "metadata": {},
   "source": [
    "## Introduction to group operations\n",
    "By the end of this lecture you will be able to:\n",
    "- do group operations by a single column\n",
    "- do group operations by multiple columns\n",
    "- calculate percentage breakdowns within groups\n",
    "- cache group operations with the query optimiser"
   ]
  },
  {
   "cell_type": "code",
   "execution_count": null,
   "id": "9ea1ef1f-11b5-4aa5-9d82-8a4a752bcd2f",
   "metadata": {},
   "outputs": [],
   "source": [
    "import polars as pl"
   ]
  },
  {
   "cell_type": "code",
   "execution_count": null,
   "id": "da7cea1f-04c6-479e-9563-ca7a78177027",
   "metadata": {},
   "outputs": [],
   "source": [
    "csvFile = \"../data/titanic.csv\""
   ]
  },
  {
   "cell_type": "code",
   "execution_count": null,
   "id": "52fc6bd9-a102-4fc9-93f4-4ed5a4fb6aa9",
   "metadata": {},
   "outputs": [],
   "source": [
    "df = pl.read_csv(csvFile)\n",
    "df.head(3)"
   ]
  },
  {
   "cell_type": "markdown",
   "id": "3f8bb206-af8e-40d3-98ff-b952b09e8b64",
   "metadata": {},
   "source": [
    "## Group operations - groupby,aggregate and join\n",
    "We want to add a column that has the sum of the fares for all the passengers in the class as that passenger.\n",
    "\n",
    "To do this manually we must first groupby each class and take the sum of the `Fare` "
   ]
  },
  {
   "cell_type": "code",
   "execution_count": null,
   "id": "cc13f534-0fe3-41ff-8068-f740819edc8d",
   "metadata": {},
   "outputs": [],
   "source": [
    "sumFareByClass = (\n",
    "    df\n",
    "    .groupby(\"Pclass\")\n",
    "    .agg(\n",
    "        pl.col(\"Fare\").sum().suffix(\"_sum\")\n",
    "        )\n",
    ")\n",
    "sumFareByClass"
   ]
  },
  {
   "cell_type": "markdown",
   "id": "fe3c5426-22c6-404b-8dc2-b8fae075aeb8",
   "metadata": {},
   "source": [
    "We then have to do a left join of the original `DataFrame` df with `sumFareByClass` (we cover joins in more detail in the Section on combining data)"
   ]
  },
  {
   "cell_type": "code",
   "execution_count": null,
   "id": "f2d6bf86-7f60-4691-8e23-bdc083cf8352",
   "metadata": {},
   "outputs": [],
   "source": [
    "(\n",
    "    df\n",
    "    .join(\n",
    "        sumFareByClass,\n",
    "        on=\"Pclass\",\n",
    "        how=\"left\"\n",
    "    )\n",
    "    .select([\"PassengerId\",\"Pclass\",\"Fare\",\"Fare_sum\"])\n",
    "    .head(3)\n",
    ")"
   ]
  },
  {
   "cell_type": "markdown",
   "id": "a45b2260-bb06-42ed-898d-7b625df60486",
   "metadata": {},
   "source": [
    "In Polars we can do this groupby-aggregate-join with the `over` expression"
   ]
  },
  {
   "cell_type": "code",
   "execution_count": null,
   "id": "d8edcf30-a215-40f8-ae17-5e6dd2686ceb",
   "metadata": {},
   "outputs": [],
   "source": [
    "(\n",
    "    df\n",
    "    .with_column(\n",
    "        pl.col(\"Fare\").sum().over(\"Pclass\").alias(\"Fare_sum\")\n",
    "    )\n",
    "    .select([\"PassengerId\",\"Survived\",\"Pclass\",\"Fare\",\"Fare_sum\"])\n",
    "    .head(3)\n",
    ")"
   ]
  },
  {
   "cell_type": "markdown",
   "id": "4a76d383-6853-4912-ad57-68c07e4567be",
   "metadata": {},
   "source": [
    "The syntax is for `over` is:\n",
    "```python\n",
    "(\n",
    "    df\n",
    "    .with_column(\n",
    "        pl.col(\"Fare\").sum().over(\"Pclass\")\n",
    "    )\n",
    ")\n",
    "```\n",
    "which means:\n",
    "- take the sum of the `Fare` column for each class in `Pclass`\n",
    "- for this row the value will be the sum for the class this passenger belongs to\n",
    "\n",
    "> In Pandas the equivalent method is `.groupby.transform`"
   ]
  },
  {
   "cell_type": "markdown",
   "id": "74ab22f7-e999-4af0-9db7-cf8db8bf0d73",
   "metadata": {},
   "source": [
    "## Group operation over multiple columns\n",
    "We can also do group operations over multiple columns.\n",
    "\n",
    "In this example we get the sum of the Fare for each group of passengers where we group by passenger class and whether they survived"
   ]
  },
  {
   "cell_type": "code",
   "execution_count": null,
   "id": "dafbe180-e760-4482-9082-86a6a73bf61a",
   "metadata": {},
   "outputs": [],
   "source": [
    "(\n",
    "    df\n",
    "    .with_column(\n",
    "        pl.col(\"Fare\").sum().over([\"Pclass\",\"Survived\"]).alias(\"Fare_sum\")\n",
    "    )\n",
    "    .select([\"PassengerId\",\"Survived\",\"Pclass\",\"Fare\",\"Fare_sum\"])\n",
    "    .head(3)\n",
    ")"
   ]
  },
  {
   "cell_type": "markdown",
   "id": "b5b3c65e-750f-4c58-94bb-a05b70f9f2c9",
   "metadata": {},
   "source": [
    "## Arithmetic in group operations\n",
    "We calculate the percentage of the total fare paid for that passenger class by each passenger"
   ]
  },
  {
   "cell_type": "code",
   "execution_count": null,
   "id": "535be68d-394c-4417-9005-4de4c961c893",
   "metadata": {},
   "outputs": [],
   "source": [
    "(\n",
    "    df\n",
    "    .with_column(\n",
    "        (100*(pl.col(\"Fare\") / pl.col(\"Fare\").sum().over(\"Pclass\"))).alias(\"Fare_percent\")\n",
    "    )\n",
    "    .select([\"PassengerId\",\"Survived\",\"Pclass\",\"Fare\",\"Fare_percent\"])\n",
    "    .sample(5)\n",
    ")"
   ]
  },
  {
   "cell_type": "markdown",
   "id": "39430120-41f4-4397-b45f-442ce83bf041",
   "metadata": {},
   "source": [
    "## Caching groups\n",
    "When we compute a window expression over a column Polars calculates the groups for that column.\n",
    "\n",
    "If we calculate multiple window expressions over the same column then Polars caches the groups on the first calculation to re-use them for the subsequent window expressions.\n",
    "\n",
    "However, Polars can only do this if the window expressions are in the same `select` or `with_columns` statement.\n",
    "\n",
    "We explore the effect of this caching in the exercises."
   ]
  },
  {
   "cell_type": "markdown",
   "id": "13ed71ee-b119-480f-a8c0-6a79d107d1db",
   "metadata": {},
   "source": [
    "## Window expressions in lazy mode\n",
    "With window expressions in lazy mode Polars detects that only a subset of columns are requred and only reads these columns from the CSV (see `PROJECT` in the optimised query plan) "
   ]
  },
  {
   "cell_type": "code",
   "execution_count": null,
   "id": "8e6c6611-4df8-4eea-adbb-d9c830bb5889",
   "metadata": {},
   "outputs": [],
   "source": [
    "print(\n",
    "    pl.scan_csv(csvFile)\n",
    "    .with_columns(\n",
    "        [\n",
    "            (100*(pl.col(\"Fare\") / pl.col(\"Fare\").sum().over(\"Pclass\"))).alias(\"Fare_percent\"),\n",
    "            (100*(pl.col(\"Fare\") / pl.col(\"Fare\").max().over(\"Pclass\"))).alias(\"Fare_over_fare_max\")\n",
    "        ]\n",
    "    )\n",
    "    .select([\"Fare\",\"Fare_percent\",\"Fare_over_fare_max\"])\n",
    "    .describe_optimized_plan()\n",
    ")"
   ]
  },
  {
   "cell_type": "markdown",
   "id": "2a7d501d-91c1-4940-97db-db8672abc3b2",
   "metadata": {},
   "source": [
    "## Exercises\n",
    "In the exercises you will develop your understanding of:\n",
    "- calculating window expressions on a single column\n",
    "- calculating window expressions on multiple columns\n",
    "- doing multiple window expressions in a single `with_columns` statement\n",
    "\n",
    "### Exercise 1\n",
    "\n",
    "Count the number of passengers in each group of: passenger class and survival. Name the column of counts `counts`"
   ]
  },
  {
   "cell_type": "code",
   "execution_count": null,
   "id": "ecc3447f-a305-4f8f-b8f7-0375a7797246",
   "metadata": {},
   "outputs": [],
   "source": [
    "(\n",
    "    pl.read_csv(csvFile)\n",
    "    <blank>\n",
    ")"
   ]
  },
  {
   "cell_type": "markdown",
   "id": "a29b8099-4dfc-40ad-b09b-0fa5595f99ac",
   "metadata": {},
   "source": [
    "Continue by calculating the percentage breakdown of passenger survival within each passenger class group. Call this column `percent`.\n",
    "\n",
    "Sort the output by passenger class and survival"
   ]
  },
  {
   "cell_type": "code",
   "execution_count": null,
   "id": "1064a044-9eba-45f4-93f4-a1f59c8f950d",
   "metadata": {},
   "outputs": [],
   "source": []
  },
  {
   "cell_type": "markdown",
   "id": "b9161a7b-f73d-41eb-89c0-44a1ea2adfef",
   "metadata": {},
   "source": [
    "### Exercise 2\n",
    "Window functions allow us to do multiple groupbys in the same `select` or `with_column`. Polars can cache the groupbys in the same `with_columns` statement.\n",
    "\n",
    "In this exercise we explore the effect of this caching on performance.\n",
    "\n",
    "We begin by creating a `DataFrame` with groups and values"
   ]
  },
  {
   "cell_type": "code",
   "execution_count": null,
   "id": "50a45b7c-0bb2-49db-bcfd-68ecfcab68d2",
   "metadata": {},
   "outputs": [],
   "source": [
    "import numpy as np\n",
    "np.random.seed(0)\n",
    "\n",
    "N = 1_000_000\n",
    "cardinality = N // 2\n",
    "groups = np.random.randint(0,cardinality,N)\n",
    "df = pl.DataFrame(\n",
    "        {\n",
    "            \"groups\":groups,\n",
    "            \"values\":np.random.standard_normal(N)\n",
    "        }\n",
    "    )\n",
    "df.head(3)"
   ]
  },
  {
   "cell_type": "markdown",
   "id": "aafbdb8d-c863-4c06-8c06-7d074099e7b1",
   "metadata": {},
   "source": [
    "We want to add: \n",
    "- a `max` column with the maximum value per group and \n",
    "- a `min` column with the minimum value per group.\n",
    "\n",
    "\n",
    "Time how long this takes with two `with_column` statements"
   ]
  },
  {
   "cell_type": "code",
   "execution_count": null,
   "id": "f075d6fe-808e-4db5-ab88-6686e2358134",
   "metadata": {},
   "outputs": [],
   "source": [
    "%%timeit -n1 -r3\n",
    "(\n",
    "    df\n",
    "    <blank>\n",
    ")"
   ]
  },
  {
   "cell_type": "markdown",
   "id": "07e1229d-a494-4814-abf7-4ac89c988699",
   "metadata": {},
   "source": [
    "Time how long this takes in a single `with_columns` statement"
   ]
  },
  {
   "cell_type": "code",
   "execution_count": null,
   "id": "a9df980d-8fe2-4668-a07a-a5a2aa9ab20e",
   "metadata": {},
   "outputs": [],
   "source": [
    "%%timeit -n1 -r3\n",
    "(\n",
    "    df\n",
    "    <blank>\n",
    ")"
   ]
  },
  {
   "cell_type": "markdown",
   "id": "5b35feef-d8dc-4d74-8e4c-7f51c1e8cd31",
   "metadata": {},
   "source": [
    "Can Polars cache the window expressions across `with_column` statements in lazy mode?"
   ]
  },
  {
   "cell_type": "code",
   "execution_count": null,
   "id": "de8a602c-e79f-4a9d-a4c7-6b8160b6d758",
   "metadata": {},
   "outputs": [],
   "source": [
    "%%timeit -n1 -r3\n",
    "(\n",
    "    pl.scan_csv(csvFile)\n",
    "    <blank>\n",
    ")"
   ]
  },
  {
   "cell_type": "markdown",
   "id": "a1db466e-6be8-49ad-a62a-014b3268abee",
   "metadata": {},
   "source": [
    "## Solutions\n",
    "\n",
    "### Solution to exercise 1"
   ]
  },
  {
   "cell_type": "markdown",
   "id": "be87a30b-1219-405b-aba4-939c5ab68d6d",
   "metadata": {},
   "source": [
    "Count the number of passengers in each group of passenger class and survival"
   ]
  },
  {
   "cell_type": "code",
   "execution_count": null,
   "id": "7f2deea2-a60d-4893-9202-a60dc5b113f1",
   "metadata": {
    "jupyter": {
     "source_hidden": true
    },
    "tags": []
   },
   "outputs": [],
   "source": [
    "(\n",
    "    pl.read_csv(csvFile)\n",
    "    .groupby([\"Pclass\",\"Survived\"])\n",
    "    .agg(\n",
    "        pl.col(\"Name\").count().alias(\"counts\")\n",
    "    )\n",
    ")"
   ]
  },
  {
   "cell_type": "markdown",
   "id": "5e6ec614-b946-4c86-9fb3-650e8a7e23c1",
   "metadata": {},
   "source": [
    "Calculate the percentage breakdown of passenger survival within each passenger class group. Calculate the percentage as 0-100.\n",
    "\n",
    "Sort the output by passenger class and survival"
   ]
  },
  {
   "cell_type": "code",
   "execution_count": null,
   "id": "28c7b1b4-52b0-47e0-8dc6-a6d49a16fbb0",
   "metadata": {
    "jupyter": {
     "source_hidden": true
    },
    "tags": []
   },
   "outputs": [],
   "source": [
    "(\n",
    "    pl.read_csv(csvFile)\n",
    "    .groupby([\"Pclass\",\"Survived\"])\n",
    "    .agg(\n",
    "        pl.col(\"Name\").count().alias(\"counts\")\n",
    "    )\n",
    "    .with_column(\n",
    "        100*(pl.col(\"counts\")/pl.col(\"counts\").sum().over(\"Pclass\")).round(3).alias(\"percent\")\n",
    "    )\n",
    "    .sort([\"Pclass\",\"Survived\"])\n",
    ")"
   ]
  },
  {
   "cell_type": "markdown",
   "id": "72ddc670-0676-4261-8f30-e27dccae200d",
   "metadata": {},
   "source": [
    "### Solution to exercise 2\n",
    "\n",
    "Window functions allow us to do multiple groupbys in the same `select` or `with_column`. Polars can cache the groupbys in the same `with_columns` statement.\n",
    "\n",
    "In this exercise we explore the effect of this caching on performance.\n",
    "\n",
    "We begin by creating a `DataFrame` with groups and values"
   ]
  },
  {
   "cell_type": "code",
   "execution_count": null,
   "id": "78904f1f-7051-424a-8889-80d3d28f5937",
   "metadata": {},
   "outputs": [],
   "source": [
    "import numpy as np\n",
    "np.random.seed(0)\n",
    "\n",
    "N = 1_000_000\n",
    "cardinality = N // 2\n",
    "groups = np.random.randint(0,cardinality,N)\n",
    "df = pl.DataFrame(\n",
    "        {\n",
    "            \"groups\":groups,\n",
    "            \"values\":np.random.standard_normal(N)\n",
    "        }\n",
    "    )\n",
    "df.head(3)"
   ]
  },
  {
   "cell_type": "markdown",
   "id": "9197b506-fca9-4f59-8b06-062601a7edd2",
   "metadata": {},
   "source": [
    "We want to add a `max` column with the maximum value per group and a `min` column with the minimum value per group.\n",
    "\n",
    "\n",
    "Do this with two `with_column` statements"
   ]
  },
  {
   "cell_type": "code",
   "execution_count": null,
   "id": "6861f302-4bc4-4814-9ed4-c3024234b859",
   "metadata": {
    "jupyter": {
     "source_hidden": true
    },
    "tags": []
   },
   "outputs": [],
   "source": [
    "%%timeit -n1 -r3\n",
    "(\n",
    "    df\n",
    "    .with_column(\n",
    "        pl.col(\"values\").max().over(\"groups\").alias(\"max\")\n",
    "    )\n",
    "    .with_column(\n",
    "        pl.col(\"values\").min().over(\"groups\").alias(\"min\")\n",
    "    )\n",
    ")"
   ]
  },
  {
   "cell_type": "markdown",
   "id": "0b06faca-5f2e-4245-b49d-ad73a427febf",
   "metadata": {},
   "source": [
    "Do this in a single `with_columns` statement"
   ]
  },
  {
   "cell_type": "code",
   "execution_count": null,
   "id": "7b6484c0-93af-4ec3-8b77-caee12f80a77",
   "metadata": {
    "jupyter": {
     "source_hidden": true
    },
    "tags": []
   },
   "outputs": [],
   "source": [
    "%%timeit -n1 -r3\n",
    "(\n",
    "    df\n",
    "    .with_columns(\n",
    "        [\n",
    "            pl.col(\"values\").max().over(\"groups\").alias(\"max\"),\n",
    "            pl.col(\"values\").min().over(\"groups\").alias(\"min\")\n",
    "        ]\n",
    "    )\n",
    ")"
   ]
  },
  {
   "cell_type": "markdown",
   "id": "a3d9144a-882e-42dc-9a16-fe9d5c23eb03",
   "metadata": {},
   "source": [
    "Can Polars cache the window expressions across `with_column` statements in lazy mode?"
   ]
  },
  {
   "cell_type": "code",
   "execution_count": null,
   "id": "072024bc-92aa-4c75-8c31-a008bf471cce",
   "metadata": {
    "jupyter": {
     "source_hidden": true
    },
    "tags": []
   },
   "outputs": [],
   "source": [
    "%%timeit -n1 -r3\n",
    "(\n",
    "    df\n",
    "    .lazy()\n",
    "    .with_column(\n",
    "        pl.col(\"values\").max().over(\"groups\").alias(\"max\")\n",
    "    )\n",
    "    .with_column(\n",
    "        pl.col(\"values\").min().over(\"groups\").alias(\"min\")\n",
    "    )\n",
    "    .collect()\n",
    ")"
   ]
  },
  {
   "cell_type": "markdown",
   "id": "c7c24dcd-7229-4bcc-803a-0a0798ed3dbd",
   "metadata": {},
   "source": [
    "Not at this point!"
   ]
  },
  {
   "cell_type": "code",
   "execution_count": null,
   "id": "d7c508d7-7283-4e8f-824f-03df7206b5ff",
   "metadata": {},
   "outputs": [],
   "source": []
  }
 ],
 "metadata": {
  "kernelspec": {
   "display_name": "Python 3 (ipykernel)",
   "language": "python",
   "name": "python3"
  },
  "language_info": {
   "codemirror_mode": {
    "name": "ipython",
    "version": 3
   },
   "file_extension": ".py",
   "mimetype": "text/x-python",
   "name": "python",
   "nbconvert_exporter": "python",
   "pygments_lexer": "ipython3",
   "version": "3.10.1"
  }
 },
 "nbformat": 4,
 "nbformat_minor": 5
}
