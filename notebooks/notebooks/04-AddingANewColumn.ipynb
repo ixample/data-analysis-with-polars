{
 "cells": [
  {
   "cell_type": "markdown",
   "id": "3eec8164-8b94-4866-b8aa-0c1cc4936a8f",
   "metadata": {},
   "source": [
    "## Selecting columns 4: Transforming and adding a column\n",
    "By the end of this lecture you will be able to:\n",
    "- transform an existing column in place using `with_column`\n",
    "- add a new column with an expression\n",
    "- add a new column with column arithmetic\n",
    "- add a column with constant values using `pl.lit`"
   ]
  },
  {
   "cell_type": "code",
   "execution_count": null,
   "id": "d1adc172-fe22-401e-a538-1e8e3fafe8d3",
   "metadata": {
    "tags": []
   },
   "outputs": [],
   "source": [
    "import polars as pl"
   ]
  },
  {
   "cell_type": "code",
   "execution_count": null,
   "id": "c5939bea-b4f8-4007-8ad9-8786e029ea3b",
   "metadata": {
    "tags": []
   },
   "outputs": [],
   "source": [
    "csvFile = \"../data/titanic.csv\""
   ]
  },
  {
   "cell_type": "code",
   "execution_count": null,
   "id": "a3626abb-3d5a-44c6-85e1-fcd9f3826a63",
   "metadata": {
    "tags": []
   },
   "outputs": [],
   "source": [
    "df = pl.read_csv(csvFile)\n",
    "df.head(3)"
   ]
  },
  {
   "cell_type": "markdown",
   "id": "5c3111de-803f-4dfe-8168-34c40392ba8d",
   "metadata": {},
   "source": [
    "## Transforming an existing column\n",
    "\n",
    "We can transform an existing column by passing the column to `with_column`.\n",
    "\n",
    "In this example we round `Fare` to 0 significant figures."
   ]
  },
  {
   "cell_type": "code",
   "execution_count": null,
   "id": "9d1160a0-6e7c-4dd4-b11d-53ccb06d978e",
   "metadata": {
    "tags": []
   },
   "outputs": [],
   "source": [
    "df = pl.read_csv(csvFile)\n",
    "(\n",
    "    df\n",
    "    .with_column(\n",
    "        pl.col(\"Fare\").round(0)\n",
    "        )\n",
    "    .head(3)\n",
    ")"
   ]
  },
  {
   "cell_type": "markdown",
   "id": "b45f6cb6-b15e-4727-8834-9938ff91ae9d",
   "metadata": {},
   "source": [
    "## Adding a new column from an existing column\n",
    "We can create a new column from an existing column by renaming it with `alias`"
   ]
  },
  {
   "cell_type": "code",
   "execution_count": null,
   "id": "ae20907f-8ba2-452b-b5bd-c1cbee1fab3b",
   "metadata": {
    "tags": []
   },
   "outputs": [],
   "source": [
    "df = pl.read_csv(csvFile)\n",
    "(\n",
    "    df\n",
    "    .with_column(\n",
    "        pl.col('Fare').round(0).alias('roundFare')\n",
    "    )\n",
    "    .head(3)\n",
    ")"
   ]
  },
  {
   "cell_type": "markdown",
   "id": "7c59f9d6-8e62-4fe4-9b45-604fa82d8af5",
   "metadata": {},
   "source": [
    "## Difference between `with_column` and `select`\n",
    "- The `select` method returns a subset of the columns but `with_column` method returns all of the columns\n",
    "- `with_column` accepts expressions only - no strings"
   ]
  },
  {
   "cell_type": "markdown",
   "id": "98c37e9f-44ef-4be5-844e-0db6adc40bb7",
   "metadata": {},
   "source": [
    "## Adding or transforming a column with column arithmetic\n",
    "\n",
    "We can transform columns with arithmetic in an expression."
   ]
  },
  {
   "cell_type": "code",
   "execution_count": null,
   "id": "5416a720-675f-4ab5-b93f-990c6ccf6598",
   "metadata": {
    "tags": []
   },
   "outputs": [],
   "source": [
    "df = pl.read_csv(csvFile)\n",
    "(\n",
    "    df\n",
    "    .with_column(\n",
    "        (pl.col(\"Fare\") * 2).alias(\"doubleFare\")\n",
    "    )\n",
    "    .head(3)\n",
    ")"
   ]
  },
  {
   "cell_type": "markdown",
   "id": "3c8f0883-4232-4f70-9daf-fb0d3ae09358",
   "metadata": {},
   "source": [
    "We can also combine multiple columns in an expression"
   ]
  },
  {
   "cell_type": "code",
   "execution_count": null,
   "id": "a377a583-1918-4109-bc7c-23053fb8e919",
   "metadata": {
    "tags": []
   },
   "outputs": [],
   "source": [
    "df = pl.read_csv(csvFile)\n",
    "(\n",
    "    df\n",
    "    .with_column(\n",
    "        (pl.col(\"Fare\") + pl.col(\"Age\")).alias(\"farePlusAge\")\n",
    "    )\n",
    "    .head(3)\n",
    ")"
   ]
  },
  {
   "cell_type": "markdown",
   "id": "bd5e4efd-c2f0-48ff-b19d-b0c050c836da",
   "metadata": {},
   "source": [
    "## Adding a new column with a constant value\n",
    "\n",
    "Use the literal function `pl.lit` to specify a constant value in Polars.\n",
    "\n",
    "Here we add a new column called `Aboard` with a value `yes` for all passengers "
   ]
  },
  {
   "cell_type": "code",
   "execution_count": null,
   "id": "2b8a4c10-bc6c-476d-b7e2-5bde96a2e5b0",
   "metadata": {
    "tags": []
   },
   "outputs": [],
   "source": [
    "df = pl.read_csv(csvFile)\n",
    "(\n",
    "    df\n",
    "    .with_column(\n",
    "        pl.lit('yes').alias('Aboard')\n",
    "    )\n",
    "    .select(['Name','Aboard'])\n",
    "    .head(2)\n",
    ")"
   ]
  },
  {
   "cell_type": "markdown",
   "id": "bb0df250-a7c6-4c68-be2a-d7d7e7651edb",
   "metadata": {
    "tags": []
   },
   "source": [
    "# Exercises\n",
    "\n",
    "In the exercises you will develop your understanding of:\n",
    "- transforming an existing column\n",
    "- adding a new column from existing columns\n",
    "- adding a new column with a constant value\n",
    "\n",
    "## Exercise 1: Add a new column for family size\n",
    "\n",
    "Add a new column called `familySize` with is the sum of the number of siblings (`SibSp` columns), the number of parents or children (`Parch` columns) plus one for the passenger themself.\n",
    "\n",
    "Print out the first 3 rows.\n",
    "\n",
    "Hint: Add the two columns inside `()` and then apply `.alias`"
   ]
  },
  {
   "cell_type": "code",
   "execution_count": null,
   "id": "42f98196-410e-4934-95fb-5d8a670f2d72",
   "metadata": {
    "tags": []
   },
   "outputs": [],
   "source": [
    "df = pl.read_csv(csvFile)\n",
    "(\n",
    "    df\n",
    "    <blank>\n",
    ")"
   ]
  },
  {
   "cell_type": "markdown",
   "id": "c087e751-e097-48ac-ac41-b4213b6764c1",
   "metadata": {},
   "source": [
    "## Exercise 2: Create a decades column\n",
    "Add a new column called `decade` that converts the `Age` column to the passengers age in decades e.g. 15.2 goes to 10, where 10 is an integer.\n",
    "\n",
    "Print out the first 3 rows.\n",
    "\n",
    "Hint: use `cast` to convert the dtype"
   ]
  },
  {
   "cell_type": "code",
   "execution_count": null,
   "id": "3de6c9dd-0baa-4a73-b0b4-360e7c629278",
   "metadata": {
    "tags": []
   },
   "outputs": [],
   "source": [
    "df = pl.read_csv(csvFile)\n",
    "(\n",
    "    df\n",
    "    <blank>\n",
    ")"
   ]
  },
  {
   "cell_type": "markdown",
   "id": "6c8a38c0-a771-47c1-a361-ff4263dd70b4",
   "metadata": {},
   "source": [
    "## Exercise 3: Create a new literal column\n",
    "Add a new binary column called `Aboard` that has the value `1` for all passengers.\n",
    "\n",
    "Print out the first 3 rows"
   ]
  },
  {
   "cell_type": "code",
   "execution_count": null,
   "id": "69550fff-77ee-4def-9807-5d2daed60247",
   "metadata": {},
   "outputs": [],
   "source": [
    "df = pl.read_csv(csvFile)\n",
    "(\n",
    "    df\n",
    "    <blank>\n",
    ")"
   ]
  },
  {
   "cell_type": "markdown",
   "id": "78e031ea-355d-4072-bdc3-876e7c2766e7",
   "metadata": {},
   "source": [
    "## Exercise 4: Add a new Boolean column based on an expression\n",
    "\n",
    "Add a new Boolean column `overThirty` that captures whether a passenger's age is 30 years or older"
   ]
  },
  {
   "cell_type": "code",
   "execution_count": null,
   "id": "87ad7227-a382-447e-a7d0-e4fa745ab07c",
   "metadata": {
    "tags": []
   },
   "outputs": [],
   "source": [
    "df = pl.read_csv(csvFile)\n",
    "(\n",
    "    df\n",
    "    <blank>\n",
    ")"
   ]
  },
  {
   "cell_type": "markdown",
   "id": "006972d9-b4b0-41da-81c6-e2596c5a1bac",
   "metadata": {},
   "source": [
    "## Solutions\n",
    "\n",
    "## Solution to exercise 1: Add a new column for family size"
   ]
  },
  {
   "cell_type": "code",
   "execution_count": null,
   "id": "f1a4943b-50e8-44a2-bc0b-f21a193787af",
   "metadata": {
    "jupyter": {
     "source_hidden": true
    },
    "tags": []
   },
   "outputs": [],
   "source": [
    "df = pl.read_csv(csvFile)\n",
    "(\n",
    "    df\n",
    "    .with_column( \n",
    "        (\n",
    "        pl.col('SibSp') + pl.col('Parch') + 1\n",
    "        ).alias('familySize')\n",
    "    )\n",
    "    .head(3)\n",
    ")"
   ]
  },
  {
   "cell_type": "markdown",
   "id": "eb5c8a7b-e788-413c-9c6f-4d036e3068f8",
   "metadata": {},
   "source": [
    "## Solution to exercise 2: Create a decades column"
   ]
  },
  {
   "cell_type": "code",
   "execution_count": null,
   "id": "b918114b-66fa-4ceb-9209-474e421ac949",
   "metadata": {
    "jupyter": {
     "source_hidden": true
    },
    "tags": []
   },
   "outputs": [],
   "source": [
    "df = pl.read_csv(csvFile)\n",
    "(\n",
    "    df\n",
    "    .with_column( \n",
    "        ((pl.col('Age')/10).floor()).cast(pl.Int64).alias('decade')\n",
    "    )\n",
    "    .select(['Age','decade'])\n",
    "    .head(3)\n",
    ")\n"
   ]
  },
  {
   "cell_type": "markdown",
   "id": "248ae068-a5de-410a-963f-aaf03a3af91b",
   "metadata": {},
   "source": [
    "## Solution to exercise 3: Create a new literal column"
   ]
  },
  {
   "cell_type": "code",
   "execution_count": null,
   "id": "39258f98-ebc4-4b9b-bee8-9aafc49180a3",
   "metadata": {
    "jupyter": {
     "source_hidden": true
    },
    "tags": []
   },
   "outputs": [],
   "source": [
    "df = pl.read_csv(csvFile)\n",
    "(\n",
    "    df\n",
    "    .with_column(\n",
    "        pl.lit(1).alias('Aboard')\n",
    "    )\n",
    "    .head(3)\n",
    ")"
   ]
  },
  {
   "cell_type": "markdown",
   "id": "294a0ce3-5595-4295-ab78-5c18a697cacb",
   "metadata": {
    "jupyter": {
     "outputs_hidden": true
    },
    "tags": []
   },
   "source": [
    "## Solution to Exercise 4: Add a new Boolean column based on an expression"
   ]
  },
  {
   "cell_type": "code",
   "execution_count": null,
   "id": "7ab35381-12f8-4194-bdd2-6a3e44151cad",
   "metadata": {
    "jupyter": {
     "source_hidden": true
    },
    "tags": []
   },
   "outputs": [],
   "source": [
    "df = pl.read_csv(csvFile)\n",
    "(\n",
    "    df\n",
    "    .with_column(\n",
    "        (pl.col(\"Age\") >= 30).alias(\"overThirty\")\n",
    "    )\n",
    "    .head(3)\n",
    ")"
   ]
  }
 ],
 "metadata": {
  "kernelspec": {
   "display_name": "Python 3 (ipykernel)",
   "language": "python",
   "name": "python3"
  },
  "language_info": {
   "codemirror_mode": {
    "name": "ipython",
    "version": 3
   },
   "file_extension": ".py",
   "mimetype": "text/x-python",
   "name": "python",
   "nbconvert_exporter": "python",
   "pygments_lexer": "ipython3",
   "version": "3.10.1"
  }
 },
 "nbformat": 4,
 "nbformat_minor": 5
}
