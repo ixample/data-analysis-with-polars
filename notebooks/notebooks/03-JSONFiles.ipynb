{
 "cells": [
  {
   "cell_type": "markdown",
   "id": "d5e1d8d8-7d1b-412c-8d7f-c99f44db57a3",
   "metadata": {},
   "source": [
    "# Read JSON and newline delimited JSON\n",
    "By the end of this lecture you will be able to:\n",
    "- read JSON\n",
    "- read newline delimited JSON\n",
    "\n",
    "A newline delimited JSON is a file with a valid JSON object per line. You can learn more about newline delimited JSON here: https://medium.com/@kandros/newline-delimited-json-is-awesome-8f6259ed4b4b\n"
   ]
  },
  {
   "cell_type": "code",
   "execution_count": null,
   "id": "4731cf26-7649-4d23-8fed-d3fcf78c7e84",
   "metadata": {},
   "outputs": [],
   "source": [
    "import polars as pl"
   ]
  },
  {
   "cell_type": "markdown",
   "id": "75171cd3-7d91-4f67-b603-5b61b8a0aa99",
   "metadata": {},
   "source": [
    "We read the following valid JSON string. \n",
    "\n",
    "We convert the string to bytes with the `b` suffix to be read by `pl.read_json`"
   ]
  },
  {
   "cell_type": "code",
   "execution_count": null,
   "id": "a4be106a-988a-49c2-a196-4bfd4088e51f",
   "metadata": {},
   "outputs": [],
   "source": [
    "jsonString = b\"\"\"\n",
    "    [\n",
    "        {\"id\":1,\"values\":\"a\"},\n",
    "        {\"id\":2,\"values\":\"b\"},\n",
    "        {\"id\":3,\"values\":null}\n",
    "    ]\n",
    "\"\"\""
   ]
  },
  {
   "cell_type": "code",
   "execution_count": null,
   "id": "d709c9e7-6cd0-4c57-bd28-d80501673520",
   "metadata": {},
   "outputs": [],
   "source": [
    "pl.read_json(jsonString)"
   ]
  },
  {
   "cell_type": "markdown",
   "id": "7a01ef53-1e94-40f2-a7ff-6543543502e9",
   "metadata": {},
   "source": [
    "## Nested data\n",
    "\n",
    "JSON may contain arbitrarily nested structures. Polars tries to cast these nested structures to its own nested dtypes. \n",
    "\n",
    "### Nested key-value pairs\n",
    "For example Polars converts the key-value pair in `values` to a `pl.Struct` dtype *if the types in the nested structure are consistent* - otherwise an `Exception` is raised"
   ]
  },
  {
   "cell_type": "code",
   "execution_count": null,
   "id": "1ac601ba-0c0c-48be-8710-cda2cdd91d0e",
   "metadata": {},
   "outputs": [],
   "source": [
    "nestedJsonString = b\"\"\"\n",
    "    [\n",
    "        {\"id\":1,\"values\":{\"a\":0,\"b\":1}},\n",
    "        {\"id\":2,\"values\":{\"a\":0,\"b\":1}},\n",
    "        {\"id\":3,\"values\":null}\n",
    "    ]\n",
    "\"\"\""
   ]
  },
  {
   "cell_type": "code",
   "execution_count": null,
   "id": "6be9557b-3052-494f-8023-dceabcfc5c80",
   "metadata": {},
   "outputs": [],
   "source": [
    "pl.read_json(nestedJsonString)"
   ]
  },
  {
   "cell_type": "markdown",
   "id": "c7b7be71-335f-45e2-91ce-93fbc929d8cb",
   "metadata": {},
   "source": [
    "### Nested arrays\n",
    "Polars attempts to convert arrays to a `pl.List` dtype"
   ]
  },
  {
   "cell_type": "code",
   "execution_count": null,
   "id": "8a4b9f07-9c1a-4ec0-a907-be8aa3e8d8c8",
   "metadata": {},
   "outputs": [],
   "source": [
    "nestedArrayJsonString = b\"\"\"\n",
    "    [\n",
    "        {\"id\":1,\"values\":[0,1]},\n",
    "        {\"id\":2,\"values\":[0,1.0]}\n",
    "    ]\n",
    "\"\"\""
   ]
  },
  {
   "cell_type": "code",
   "execution_count": null,
   "id": "4646be1c-0b5f-4a34-97d6-177dfcbe1dbc",
   "metadata": {},
   "outputs": [],
   "source": [
    "pl.read_json(nestedArrayJsonString)"
   ]
  },
  {
   "cell_type": "markdown",
   "id": "d159d500-0910-47b1-98b3-9415728dafdf",
   "metadata": {},
   "source": [
    "## Newline delimited JSON\n",
    "In a similar way we read newline delimited JSON with `pl.read_ndjson`"
   ]
  },
  {
   "cell_type": "code",
   "execution_count": null,
   "id": "5beedff5-8e79-4d7c-8655-d3c80fcf123c",
   "metadata": {},
   "outputs": [],
   "source": [
    "newlineDelimitedJsonString = b\"\"\"\n",
    "        {\"id\":1,\"values\":\"a\"}\\n\n",
    "        {\"id\":2,\"values\":\"b\"}\\n\n",
    "        {\"id\":3,\"values\":null}\\n\n",
    "\"\"\""
   ]
  },
  {
   "cell_type": "code",
   "execution_count": null,
   "id": "291c7f88-4381-4882-b540-d6d04f3eb7c4",
   "metadata": {},
   "outputs": [],
   "source": [
    "pl.read_ndjson(newlineDelimitedJsonString)"
   ]
  },
  {
   "cell_type": "markdown",
   "id": "5b6bd748-7bb3-41b4-ae80-a8e9569df5b7",
   "metadata": {},
   "source": [
    "There are no exerices to this lecture"
   ]
  }
 ],
 "metadata": {
  "kernelspec": {
   "display_name": "Python 3 (ipykernel)",
   "language": "python",
   "name": "python3"
  },
  "language_info": {
   "codemirror_mode": {
    "name": "ipython",
    "version": 3
   },
   "file_extension": ".py",
   "mimetype": "text/x-python",
   "name": "python",
   "nbconvert_exporter": "python",
   "pygments_lexer": "ipython3",
   "version": "3.10.1"
  }
 },
 "nbformat": 4,
 "nbformat_minor": 5
}
