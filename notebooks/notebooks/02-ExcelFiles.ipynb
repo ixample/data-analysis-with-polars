{
 "cells": [
  {
   "cell_type": "markdown",
   "id": "865b117d-6180-4877-86c1-4ee812ce9a03",
   "metadata": {},
   "source": [
    "# Excel files\n",
    "By the end of this lecture you will be able to:\n",
    "- read an Excel worksheet into a `DataFrame`\n",
    "- read multiple Excel worksheets into a `dict`\n",
    "- pass arguments to the XML parser\n",
    "- pass arguments to the CSV parser"
   ]
  },
  {
   "cell_type": "code",
   "execution_count": null,
   "id": "1b54799b-e85f-4054-9261-0fc17f387ba3",
   "metadata": {},
   "outputs": [],
   "source": [
    "import polars as pl\n",
    "import pandas as pd"
   ]
  },
  {
   "cell_type": "markdown",
   "id": "1c20e094-8d91-4a26-be52-ee35324b4a28",
   "metadata": {},
   "source": [
    "## Creating an Excel file\n",
    "We create a simple Excel file with one worksheet from a CSV file. Polars does not support writing to Excel files so we write the Excel file with Pandas.\n",
    "\n",
    "For this Pandas functionality we must install the openpyxl package"
   ]
  },
  {
   "cell_type": "code",
   "execution_count": null,
   "id": "b8a10f74-5620-4f78-aceb-7092dc29c039",
   "metadata": {},
   "outputs": [],
   "source": [
    "## Uncomment and run this cell to install openpyxl\n",
    "# %pip install openpyxl"
   ]
  },
  {
   "cell_type": "markdown",
   "id": "330fbac9-bc80-4670-ad55-325fd9aa38ff",
   "metadata": {},
   "source": [
    "We set the path to our CSV file and the Excel file that we will create in this directory"
   ]
  },
  {
   "cell_type": "code",
   "execution_count": null,
   "id": "d5659be5-9f69-433a-85f7-17ec8391fd20",
   "metadata": {},
   "outputs": [],
   "source": [
    "csvFile = \"../data/titanic.csv\"\n",
    "excelFile = \"titanic.xlsx\""
   ]
  },
  {
   "cell_type": "markdown",
   "id": "a3ad1f5a-9629-4049-8772-62b41e20ec20",
   "metadata": {},
   "source": [
    "We read the CSV, convert to Pandas and write to `excelFile`"
   ]
  },
  {
   "cell_type": "code",
   "execution_count": null,
   "id": "4488120e-b449-447e-820b-92ee4dfa5216",
   "metadata": {},
   "outputs": [],
   "source": [
    "df = pl.read_csv(csvFile)\n",
    "dfPandas = df.to_pandas()\n",
    "dfPandas.to_excel(excelFile)"
   ]
  },
  {
   "cell_type": "markdown",
   "id": "bd90f23b-ab37-4524-bfae-1e87bf82bfd4",
   "metadata": {},
   "source": [
    "In the simplest cases we can just read the first sheet in the Excel file with `pl.read_excel`"
   ]
  },
  {
   "cell_type": "code",
   "execution_count": null,
   "id": "ba44c4e8-2adf-4440-aea2-5836f81fab26",
   "metadata": {},
   "outputs": [],
   "source": [
    "df = pl.read_excel(excelFile)\n",
    "df.head(2)"
   ]
  },
  {
   "cell_type": "markdown",
   "id": "169f917c-5140-4040-8c3a-74f7aa682b92",
   "metadata": {},
   "source": [
    "## Specifying the worksheet\n",
    "We specify the worksheet with integer id numbers or names.\n",
    "\n",
    "### Specifying with id numbers\n",
    "We specify the sheet by numbers with the `sheet_id` argument.\n",
    "- By default `sheet_id = 1` and Polars reads the first worksheet\n",
    "- If we set `sheet_id = 0` Polars returns all sheets as a `dict` that maps string sheet names to `DataFrames`"
   ]
  },
  {
   "cell_type": "code",
   "execution_count": null,
   "id": "57ae2b35-18ff-48dd-8235-e90c622c242c",
   "metadata": {},
   "outputs": [],
   "source": [
    "excelDict = pl.read_excel(excelFile,sheet_id=0)\n",
    "excelDict.keys()"
   ]
  },
  {
   "cell_type": "markdown",
   "id": "3c6bd1cc-e68f-4ade-b50a-71cace801ace",
   "metadata": {},
   "source": [
    "### Specifying with sheet name\n",
    "By default there is no `sheet_name` and the `sheet_id = 1` argument controls the behaviour. We can instead specify the sheet by name with the `sheet_name` argument. "
   ]
  },
  {
   "cell_type": "code",
   "execution_count": null,
   "id": "d2ec2a87-0a5c-42c3-9720-a473367ae5e8",
   "metadata": {},
   "outputs": [],
   "source": [
    "(\n",
    "    pl.read_excel(\n",
    "        excelFile,\n",
    "        sheet_name=\"Sheet1\"\n",
    "    )\n",
    "    .head(2)\n",
    ")"
   ]
  },
  {
   "cell_type": "markdown",
   "id": "2f4c0465-e625-4b1a-b886-fd956e50f6a1",
   "metadata": {},
   "source": [
    "## How does Polars read Excel files?\n",
    "\n",
    "Unlike the other I/O options Polars does not have a parser or dependency in Rust to read excel files. Instead Polars uses [the xlsx2csv library](https://github.com/dilshod/xlsx2csv).\n",
    "The option to read Excel files is only available from the Python API for Polars.\n",
    "\n",
    "When we call `pl.read_excel`:\n",
    "- Polars calls xlsx2csv with the path to the Excel file\n",
    "- xlsx2csv parses the XML and converts it to a CSV in-memory\n",
    "- Polars parses the CSV with `pl.read_csv`\n",
    "\n",
    "\n",
    "## Controlling how the Excel file is parsed\n",
    "The parsing process has two stages as set out above:\n",
    "- `xlsx2csv` parsing the XML to create an in-memory CSV\n",
    "- `pl.read_csv` parsing the CSV to create a `DataFrame`\n",
    "\n",
    "Each of these stages accepts arguments to control the parsing.\n",
    "\n",
    "### Parsing the XML\n",
    "We can pass arguments to xlsx2csv to control how it parses the XML. This includes:\n",
    "- specifying the date format with `DATEFORMAT %Y/%m/%d`\n",
    "- specifying the format for floats with `FLOATFORMAT %.15f`\n",
    "- skip empty lines\n",
    "\n",
    "See https://github.com/dilshod/xlsx2csv for the full set of options.\n",
    "\n",
    "We pass these arguments as a `dict` to the `xlsx2csv_options` argument"
   ]
  },
  {
   "cell_type": "code",
   "execution_count": null,
   "id": "f4b5e08a-48f8-4bf5-abc7-9cdeecfd9505",
   "metadata": {},
   "outputs": [],
   "source": [
    "(\n",
    "    pl.read_excel(\n",
    "        excelFile,\n",
    "        xlsx2csv_options =\n",
    "            {\n",
    "                \"skip_empty_lines\": True,\n",
    "            }\n",
    "    )\n",
    "    .head(2)\n",
    ")"
   ]
  },
  {
   "cell_type": "markdown",
   "id": "a6d76384-a2ba-4f94-ae64-927666900beb",
   "metadata": {},
   "source": [
    "### Parsing the CSV\n",
    "Once xlsx2csv has created the CSV we can pass arguments that we would pass to `pl.read_csv`.\n",
    "\n",
    "In this example we rename the first column using `new_columns`"
   ]
  },
  {
   "cell_type": "code",
   "execution_count": null,
   "id": "5a3ed793-a8a7-4237-84f1-8a43f2130b9e",
   "metadata": {},
   "outputs": [],
   "source": [
    "(\n",
    "    pl.read_excel(\n",
    "        excelFile,\n",
    "        read_csv_options =\n",
    "            {\n",
    "                \"new_columns\":[\"Id\"]\n",
    "            }\n",
    "    )\n",
    "    .head(2)\n",
    ")"
   ]
  },
  {
   "cell_type": "markdown",
   "id": "a77f81a5-c21c-491a-ab7b-fc9ea31fab7f",
   "metadata": {},
   "source": [
    "Reading Exceil files happens in eager mode only, we cannot do a lazy scan of an Excel file.\n",
    "\n",
    "Parsing the XML in Excel files is slow - consider converting your data to CSV, Parquet or Arrow formats if possible.\n",
    "\n",
    "## Exercises\n",
    "In the exercises you will develop your understanding of:\n",
    "- passing arguments to `pl.read_excel`\n",
    "\n",
    "### Exercise 1\n",
    "We:\n",
    "- create a Polars `DataFrame` from the NYC taxi extract\n",
    "- convert it to a Pandas `DataFrame`\n",
    "- write the Pandas `DataFrame` to an Excel file"
   ]
  },
  {
   "cell_type": "code",
   "execution_count": null,
   "id": "3a71d779-65a7-4ce1-9a96-ae7e8e5c8e27",
   "metadata": {},
   "outputs": [],
   "source": [
    "nycCSVFile = \"../data/nyc_trip_data_1k.csv\"\n",
    "(\n",
    "    pl.read_csv(nycCSVFile)\n",
    "    .to_pandas()\n",
    "    .to_excel(\"nyc.xlsx\")\n",
    ")"
   ]
  },
  {
   "cell_type": "markdown",
   "id": "f02b35eb-fd8c-40cd-8073-a240ffbf72d0",
   "metadata": {},
   "source": [
    "Create a `DataFrame` from the `nyx.xlsx` file with the date columns automatically parsed as datetime dtypes"
   ]
  },
  {
   "cell_type": "code",
   "execution_count": null,
   "id": "60f6b22a-5446-48f2-be3b-6899fd579d18",
   "metadata": {},
   "outputs": [],
   "source": []
  },
  {
   "cell_type": "markdown",
   "id": "9328a5e1-1404-4cc6-8236-38ead2bce364",
   "metadata": {},
   "source": [
    "## Solutions\n",
    "\n",
    "### Solution to Exercise 1\n",
    "Create a `DataFrame` from the `nyx.xlsx` file with the date columns automatically parsed as datetime dtypes"
   ]
  },
  {
   "cell_type": "code",
   "execution_count": null,
   "id": "ea33d36c-6a5f-42c9-bab5-05bf0e5eeff5",
   "metadata": {
    "jupyter": {
     "source_hidden": true
    },
    "tags": []
   },
   "outputs": [],
   "source": [
    "pl.read_excel(\"nyc.xlsx\",read_csv_options={\"parse_dates\":True})"
   ]
  },
  {
   "cell_type": "code",
   "execution_count": null,
   "id": "cba67a04-3c9f-4c5b-be1a-63556b5191a2",
   "metadata": {},
   "outputs": [],
   "source": []
  }
 ],
 "metadata": {
  "kernelspec": {
   "display_name": "Python 3 (ipykernel)",
   "language": "python",
   "name": "python3"
  },
  "language_info": {
   "codemirror_mode": {
    "name": "ipython",
    "version": 3
   },
   "file_extension": ".py",
   "mimetype": "text/x-python",
   "name": "python",
   "nbconvert_exporter": "python",
   "pygments_lexer": "ipython3",
   "version": "3.10.1"
  }
 },
 "nbformat": 4,
 "nbformat_minor": 5
}
