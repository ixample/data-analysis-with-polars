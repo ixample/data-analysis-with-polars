{
 "cells": [
  {
   "cell_type": "markdown",
   "id": "b06a7473-8d52-4c0d-b469-37add3272a53",
   "metadata": {},
   "source": [
    "# Filtering rows 2: Using `filter` and the Expression API\n",
    "\n",
    "By the end of this lecture you will be able to:\n",
    "- select rows with the `filter` method\n",
    "- add a row number column\n",
    "- select rows with multiple conditions\n",
    "- explain the difference between `[]` and `filter`\n",
    "\n",
    "The `filter` method is our first example of the *Expression API*.\n",
    "\n",
    "_**Learning to use the *Expression API* is the most important step to writing high performance queries in Polars**_\n"
   ]
  },
  {
   "cell_type": "code",
   "execution_count": 1,
   "id": "9fd758ec-0727-4c1e-87ae-04fd47b267b6",
   "metadata": {
    "tags": []
   },
   "outputs": [],
   "source": [
    "import polars as pl"
   ]
  },
  {
   "cell_type": "code",
   "execution_count": 2,
   "id": "43c1d48b-a1cc-4374-bfd5-83817c491923",
   "metadata": {
    "tags": []
   },
   "outputs": [],
   "source": [
    "csvFile = \"../data/titanic.csv\""
   ]
  },
  {
   "cell_type": "code",
   "execution_count": 3,
   "id": "23ec4b89-5819-4654-a3c8-d43a7a7b31fd",
   "metadata": {
    "tags": []
   },
   "outputs": [
    {
     "data": {
      "text/html": [
       "<div><style>\n",
       ".dataframe > thead > tr > th,\n",
       ".dataframe > tbody > tr > td {\n",
       "  text-align: right;\n",
       "}\n",
       "</style>\n",
       "<small>shape: (3, 12)</small><table border=\"1\" class=\"dataframe\"><thead><tr><th>PassengerId</th><th>Survived</th><th>Pclass</th><th>Name</th><th>Sex</th><th>Age</th><th>SibSp</th><th>Parch</th><th>Ticket</th><th>Fare</th><th>Cabin</th><th>Embarked</th></tr><tr><td>i64</td><td>i64</td><td>i64</td><td>str</td><td>str</td><td>f64</td><td>i64</td><td>i64</td><td>str</td><td>f64</td><td>str</td><td>str</td></tr></thead><tbody><tr><td>1</td><td>0</td><td>3</td><td>&quot;Braund, Mr. Ow…</td><td>&quot;male&quot;</td><td>22.0</td><td>1</td><td>0</td><td>&quot;A/5 21171&quot;</td><td>7.25</td><td>null</td><td>&quot;S&quot;</td></tr><tr><td>2</td><td>1</td><td>1</td><td>&quot;Cumings, Mrs. …</td><td>&quot;female&quot;</td><td>38.0</td><td>1</td><td>0</td><td>&quot;PC 17599&quot;</td><td>71.2833</td><td>&quot;C85&quot;</td><td>&quot;C&quot;</td></tr><tr><td>3</td><td>1</td><td>3</td><td>&quot;Heikkinen, Mis…</td><td>&quot;female&quot;</td><td>26.0</td><td>0</td><td>0</td><td>&quot;STON/O2. 31012…</td><td>7.925</td><td>null</td><td>&quot;S&quot;</td></tr></tbody></table></div>"
      ],
      "text/plain": [
       "shape: (3, 12)\n",
       "┌─────────────┬──────────┬────────┬───────────────────┬───┬───────────┬─────────┬───────┬──────────┐\n",
       "│ PassengerId ┆ Survived ┆ Pclass ┆ Name              ┆ … ┆ Ticket    ┆ Fare    ┆ Cabin ┆ Embarked │\n",
       "│ ---         ┆ ---      ┆ ---    ┆ ---               ┆   ┆ ---       ┆ ---     ┆ ---   ┆ ---      │\n",
       "│ i64         ┆ i64      ┆ i64    ┆ str               ┆   ┆ str       ┆ f64     ┆ str   ┆ str      │\n",
       "╞═════════════╪══════════╪════════╪═══════════════════╪═══╪═══════════╪═════════╪═══════╪══════════╡\n",
       "│ 1           ┆ 0        ┆ 3      ┆ Braund, Mr. Owen  ┆ … ┆ A/5 21171 ┆ 7.25    ┆ null  ┆ S        │\n",
       "│             ┆          ┆        ┆ Harris            ┆   ┆           ┆         ┆       ┆          │\n",
       "│ 2           ┆ 1        ┆ 1      ┆ Cumings, Mrs.     ┆ … ┆ PC 17599  ┆ 71.2833 ┆ C85   ┆ C        │\n",
       "│             ┆          ┆        ┆ John Bradley      ┆   ┆           ┆         ┆       ┆          │\n",
       "│             ┆          ┆        ┆ (Flor…            ┆   ┆           ┆         ┆       ┆          │\n",
       "│ 3           ┆ 1        ┆ 3      ┆ Heikkinen, Miss.  ┆ … ┆ STON/O2.  ┆ 7.925   ┆ null  ┆ S        │\n",
       "│             ┆          ┆        ┆ Laina             ┆   ┆ 3101282   ┆         ┆       ┆          │\n",
       "└─────────────┴──────────┴────────┴───────────────────┴───┴───────────┴─────────┴───────┴──────────┘"
      ]
     },
     "execution_count": 3,
     "metadata": {},
     "output_type": "execute_result"
    }
   ],
   "source": [
    "df = pl.read_csv(csvFile)\n",
    "df.head(3)"
   ]
  },
  {
   "cell_type": "markdown",
   "id": "c7ee8c91-cfd2-42a4-8c15-cc0e6a2215f7",
   "metadata": {},
   "source": [
    "## Selecting rows with `filter`\n",
    "\n",
    "We first use an *expression* in the `filter` method before we examine the syntax in more detail.\n",
    "\n",
    "In this example we choose all the first class passengers."
   ]
  },
  {
   "cell_type": "code",
   "execution_count": 4,
   "id": "565f8f0e-b6de-4f03-8bba-e347eb96588b",
   "metadata": {
    "tags": []
   },
   "outputs": [
    {
     "data": {
      "text/html": [
       "<div><style>\n",
       ".dataframe > thead > tr > th,\n",
       ".dataframe > tbody > tr > td {\n",
       "  text-align: right;\n",
       "}\n",
       "</style>\n",
       "<small>shape: (3, 12)</small><table border=\"1\" class=\"dataframe\"><thead><tr><th>PassengerId</th><th>Survived</th><th>Pclass</th><th>Name</th><th>Sex</th><th>Age</th><th>SibSp</th><th>Parch</th><th>Ticket</th><th>Fare</th><th>Cabin</th><th>Embarked</th></tr><tr><td>i64</td><td>i64</td><td>i64</td><td>str</td><td>str</td><td>f64</td><td>i64</td><td>i64</td><td>str</td><td>f64</td><td>str</td><td>str</td></tr></thead><tbody><tr><td>2</td><td>1</td><td>1</td><td>&quot;Cumings, Mrs. …</td><td>&quot;female&quot;</td><td>38.0</td><td>1</td><td>0</td><td>&quot;PC 17599&quot;</td><td>71.2833</td><td>&quot;C85&quot;</td><td>&quot;C&quot;</td></tr><tr><td>4</td><td>1</td><td>1</td><td>&quot;Futrelle, Mrs.…</td><td>&quot;female&quot;</td><td>35.0</td><td>1</td><td>0</td><td>&quot;113803&quot;</td><td>53.1</td><td>&quot;C123&quot;</td><td>&quot;S&quot;</td></tr><tr><td>7</td><td>0</td><td>1</td><td>&quot;McCarthy, Mr. …</td><td>&quot;male&quot;</td><td>54.0</td><td>0</td><td>0</td><td>&quot;17463&quot;</td><td>51.8625</td><td>&quot;E46&quot;</td><td>&quot;S&quot;</td></tr></tbody></table></div>"
      ],
      "text/plain": [
       "shape: (3, 12)\n",
       "┌─────────────┬──────────┬────────┬────────────────────┬───┬──────────┬─────────┬───────┬──────────┐\n",
       "│ PassengerId ┆ Survived ┆ Pclass ┆ Name               ┆ … ┆ Ticket   ┆ Fare    ┆ Cabin ┆ Embarked │\n",
       "│ ---         ┆ ---      ┆ ---    ┆ ---                ┆   ┆ ---      ┆ ---     ┆ ---   ┆ ---      │\n",
       "│ i64         ┆ i64      ┆ i64    ┆ str                ┆   ┆ str      ┆ f64     ┆ str   ┆ str      │\n",
       "╞═════════════╪══════════╪════════╪════════════════════╪═══╪══════════╪═════════╪═══════╪══════════╡\n",
       "│ 2           ┆ 1        ┆ 1      ┆ Cumings, Mrs. John ┆ … ┆ PC 17599 ┆ 71.2833 ┆ C85   ┆ C        │\n",
       "│             ┆          ┆        ┆ Bradley (Flor…     ┆   ┆          ┆         ┆       ┆          │\n",
       "│ 4           ┆ 1        ┆ 1      ┆ Futrelle, Mrs.     ┆ … ┆ 113803   ┆ 53.1    ┆ C123  ┆ S        │\n",
       "│             ┆          ┆        ┆ Jacques Heath (Li… ┆   ┆          ┆         ┆       ┆          │\n",
       "│ 7           ┆ 0        ┆ 1      ┆ McCarthy, Mr.      ┆ … ┆ 17463    ┆ 51.8625 ┆ E46   ┆ S        │\n",
       "│             ┆          ┆        ┆ Timothy J          ┆   ┆          ┆         ┆       ┆          │\n",
       "└─────────────┴──────────┴────────┴────────────────────┴───┴──────────┴─────────┴───────┴──────────┘"
      ]
     },
     "execution_count": 4,
     "metadata": {},
     "output_type": "execute_result"
    }
   ],
   "source": [
    "df.filter(\n",
    "    pl.col('Pclass') == 1\n",
    ").head(3)"
   ]
  },
  {
   "cell_type": "markdown",
   "id": "4bcfcb0f-cf3e-4103-90a9-7091f4fc4052",
   "metadata": {},
   "source": [
    "## Syntax of `filter`\n",
    "Inside the `filter` method we pass our first _**expression**_ and apply a Boolean condition to it:\n",
    "\n",
    "`pl.col('Pclass') == 1`\n",
    "\n",
    "This expression has two parts:\n",
    "- `pl.col('Pclass')` expression selects the `Pclass` column from `df`\n",
    "- `== 1` applies a Boolean condition to this expression\n",
    "\n",
    "In this example we choose all rows with the number of parents & children (`Parch`) is greater than 1"
   ]
  },
  {
   "cell_type": "code",
   "execution_count": 5,
   "id": "0ed1dc92-b8e0-42f2-b624-14c354bc6455",
   "metadata": {
    "tags": []
   },
   "outputs": [
    {
     "data": {
      "text/html": [
       "<div><style>\n",
       ".dataframe > thead > tr > th,\n",
       ".dataframe > tbody > tr > td {\n",
       "  text-align: right;\n",
       "}\n",
       "</style>\n",
       "<small>shape: (3, 12)</small><table border=\"1\" class=\"dataframe\"><thead><tr><th>PassengerId</th><th>Survived</th><th>Pclass</th><th>Name</th><th>Sex</th><th>Age</th><th>SibSp</th><th>Parch</th><th>Ticket</th><th>Fare</th><th>Cabin</th><th>Embarked</th></tr><tr><td>i64</td><td>i64</td><td>i64</td><td>str</td><td>str</td><td>f64</td><td>i64</td><td>i64</td><td>str</td><td>f64</td><td>str</td><td>str</td></tr></thead><tbody><tr><td>9</td><td>1</td><td>3</td><td>&quot;Johnson, Mrs. …</td><td>&quot;female&quot;</td><td>27.0</td><td>0</td><td>2</td><td>&quot;347742&quot;</td><td>11.1333</td><td>null</td><td>&quot;S&quot;</td></tr><tr><td>14</td><td>0</td><td>3</td><td>&quot;Andersson, Mr.…</td><td>&quot;male&quot;</td><td>39.0</td><td>1</td><td>5</td><td>&quot;347082&quot;</td><td>31.275</td><td>null</td><td>&quot;S&quot;</td></tr><tr><td>26</td><td>1</td><td>3</td><td>&quot;Asplund, Mrs. …</td><td>&quot;female&quot;</td><td>38.0</td><td>1</td><td>5</td><td>&quot;347077&quot;</td><td>31.3875</td><td>null</td><td>&quot;S&quot;</td></tr></tbody></table></div>"
      ],
      "text/plain": [
       "shape: (3, 12)\n",
       "┌─────────────┬──────────┬────────┬──────────────────────┬───┬────────┬─────────┬───────┬──────────┐\n",
       "│ PassengerId ┆ Survived ┆ Pclass ┆ Name                 ┆ … ┆ Ticket ┆ Fare    ┆ Cabin ┆ Embarked │\n",
       "│ ---         ┆ ---      ┆ ---    ┆ ---                  ┆   ┆ ---    ┆ ---     ┆ ---   ┆ ---      │\n",
       "│ i64         ┆ i64      ┆ i64    ┆ str                  ┆   ┆ str    ┆ f64     ┆ str   ┆ str      │\n",
       "╞═════════════╪══════════╪════════╪══════════════════════╪═══╪════════╪═════════╪═══════╪══════════╡\n",
       "│ 9           ┆ 1        ┆ 3      ┆ Johnson, Mrs. Oscar  ┆ … ┆ 347742 ┆ 11.1333 ┆ null  ┆ S        │\n",
       "│             ┆          ┆        ┆ W (Elisabeth…        ┆   ┆        ┆         ┆       ┆          │\n",
       "│ 14          ┆ 0        ┆ 3      ┆ Andersson, Mr.       ┆ … ┆ 347082 ┆ 31.275  ┆ null  ┆ S        │\n",
       "│             ┆          ┆        ┆ Anders Johan         ┆   ┆        ┆         ┆       ┆          │\n",
       "│ 26          ┆ 1        ┆ 3      ┆ Asplund, Mrs. Carl   ┆ … ┆ 347077 ┆ 31.3875 ┆ null  ┆ S        │\n",
       "│             ┆          ┆        ┆ Oscar (Selma …       ┆   ┆        ┆         ┆       ┆          │\n",
       "└─────────────┴──────────┴────────┴──────────────────────┴───┴────────┴─────────┴───────┴──────────┘"
      ]
     },
     "execution_count": 5,
     "metadata": {},
     "output_type": "execute_result"
    }
   ],
   "source": [
    "df.filter(\n",
    "    pl.col('Parch') > 1\n",
    ").head(3)"
   ]
  },
  {
   "cell_type": "markdown",
   "id": "3798de4e-44f2-4087-8af7-405848494ce6",
   "metadata": {},
   "source": [
    "## Key differences between `[]` and `filter`\n",
    "\n",
    "- `[]` indexing can only be used in eager mode, `filter` can also be used in lazy mode\n",
    "- `filter` expressions can be **optimised** in lazy mode by the query optimiser\n",
    "\n",
    "Use cases for `[]`:\n",
    "- inspecting data in interactive mode\n",
    "\n",
    "Use cases for `filter`:\n",
    "- all other times"
   ]
  },
  {
   "cell_type": "markdown",
   "id": "981c0392-3dbe-4f89-b0ae-d71d92f782ba",
   "metadata": {},
   "source": [
    "### Conditions based on row numbers\n",
    "\n",
    "We can add an explicit row number column using `with_row_count` on a `DataFrame`"
   ]
  },
  {
   "cell_type": "code",
   "execution_count": 7,
   "id": "37a1d007-a652-4e0c-9685-18821d7b6e89",
   "metadata": {
    "tags": []
   },
   "outputs": [
    {
     "data": {
      "text/html": [
       "<div><style>\n",
       ".dataframe > thead > tr > th,\n",
       ".dataframe > tbody > tr > td {\n",
       "  text-align: right;\n",
       "}\n",
       "</style>\n",
       "<small>shape: (3, 13)</small><table border=\"1\" class=\"dataframe\"><thead><tr><th>row_nr</th><th>PassengerId</th><th>Survived</th><th>Pclass</th><th>Name</th><th>Sex</th><th>Age</th><th>SibSp</th><th>Parch</th><th>Ticket</th><th>Fare</th><th>Cabin</th><th>Embarked</th></tr><tr><td>u32</td><td>i64</td><td>i64</td><td>i64</td><td>str</td><td>str</td><td>f64</td><td>i64</td><td>i64</td><td>str</td><td>f64</td><td>str</td><td>str</td></tr></thead><tbody><tr><td>0</td><td>1</td><td>0</td><td>3</td><td>&quot;Braund, Mr. Ow…</td><td>&quot;male&quot;</td><td>22.0</td><td>1</td><td>0</td><td>&quot;A/5 21171&quot;</td><td>7.25</td><td>null</td><td>&quot;S&quot;</td></tr><tr><td>1</td><td>2</td><td>1</td><td>1</td><td>&quot;Cumings, Mrs. …</td><td>&quot;female&quot;</td><td>38.0</td><td>1</td><td>0</td><td>&quot;PC 17599&quot;</td><td>71.2833</td><td>&quot;C85&quot;</td><td>&quot;C&quot;</td></tr><tr><td>2</td><td>3</td><td>1</td><td>3</td><td>&quot;Heikkinen, Mis…</td><td>&quot;female&quot;</td><td>26.0</td><td>0</td><td>0</td><td>&quot;STON/O2. 31012…</td><td>7.925</td><td>null</td><td>&quot;S&quot;</td></tr></tbody></table></div>"
      ],
      "text/plain": [
       "shape: (3, 13)\n",
       "┌────────┬─────────────┬──────────┬────────┬───┬──────────────────┬─────────┬───────┬──────────┐\n",
       "│ row_nr ┆ PassengerId ┆ Survived ┆ Pclass ┆ … ┆ Ticket           ┆ Fare    ┆ Cabin ┆ Embarked │\n",
       "│ ---    ┆ ---         ┆ ---      ┆ ---    ┆   ┆ ---              ┆ ---     ┆ ---   ┆ ---      │\n",
       "│ u32    ┆ i64         ┆ i64      ┆ i64    ┆   ┆ str              ┆ f64     ┆ str   ┆ str      │\n",
       "╞════════╪═════════════╪══════════╪════════╪═══╪══════════════════╪═════════╪═══════╪══════════╡\n",
       "│ 0      ┆ 1           ┆ 0        ┆ 3      ┆ … ┆ A/5 21171        ┆ 7.25    ┆ null  ┆ S        │\n",
       "│ 1      ┆ 2           ┆ 1        ┆ 1      ┆ … ┆ PC 17599         ┆ 71.2833 ┆ C85   ┆ C        │\n",
       "│ 2      ┆ 3           ┆ 1        ┆ 3      ┆ … ┆ STON/O2. 3101282 ┆ 7.925   ┆ null  ┆ S        │\n",
       "└────────┴─────────────┴──────────┴────────┴───┴──────────────────┴─────────┴───────┴──────────┘"
      ]
     },
     "execution_count": 7,
     "metadata": {},
     "output_type": "execute_result"
    }
   ],
   "source": [
    "df = pl.read_csv(csvFile)\n",
    "df = df.with_row_count(name='row_nr')\n",
    "df.head(3)"
   ]
  },
  {
   "cell_type": "markdown",
   "id": "db593ef1-e1c0-4480-93cb-75a3ff3779ef",
   "metadata": {},
   "source": [
    "We can then use `filter` to apply a condition based on row number"
   ]
  },
  {
   "cell_type": "code",
   "execution_count": 8,
   "id": "570a7939-eb47-4723-968e-1e0ce0b618fe",
   "metadata": {
    "tags": []
   },
   "outputs": [
    {
     "data": {
      "text/html": [
       "<div><style>\n",
       ".dataframe > thead > tr > th,\n",
       ".dataframe > tbody > tr > td {\n",
       "  text-align: right;\n",
       "}\n",
       "</style>\n",
       "<small>shape: (4, 13)</small><table border=\"1\" class=\"dataframe\"><thead><tr><th>row_nr</th><th>PassengerId</th><th>Survived</th><th>Pclass</th><th>Name</th><th>Sex</th><th>Age</th><th>SibSp</th><th>Parch</th><th>Ticket</th><th>Fare</th><th>Cabin</th><th>Embarked</th></tr><tr><td>u32</td><td>i64</td><td>i64</td><td>i64</td><td>str</td><td>str</td><td>f64</td><td>i64</td><td>i64</td><td>str</td><td>f64</td><td>str</td><td>str</td></tr></thead><tbody><tr><td>0</td><td>1</td><td>0</td><td>3</td><td>&quot;Braund, Mr. Ow…</td><td>&quot;male&quot;</td><td>22.0</td><td>1</td><td>0</td><td>&quot;A/5 21171&quot;</td><td>7.25</td><td>null</td><td>&quot;S&quot;</td></tr><tr><td>1</td><td>2</td><td>1</td><td>1</td><td>&quot;Cumings, Mrs. …</td><td>&quot;female&quot;</td><td>38.0</td><td>1</td><td>0</td><td>&quot;PC 17599&quot;</td><td>71.2833</td><td>&quot;C85&quot;</td><td>&quot;C&quot;</td></tr><tr><td>2</td><td>3</td><td>1</td><td>3</td><td>&quot;Heikkinen, Mis…</td><td>&quot;female&quot;</td><td>26.0</td><td>0</td><td>0</td><td>&quot;STON/O2. 31012…</td><td>7.925</td><td>null</td><td>&quot;S&quot;</td></tr><tr><td>3</td><td>4</td><td>1</td><td>1</td><td>&quot;Futrelle, Mrs.…</td><td>&quot;female&quot;</td><td>35.0</td><td>1</td><td>0</td><td>&quot;113803&quot;</td><td>53.1</td><td>&quot;C123&quot;</td><td>&quot;S&quot;</td></tr></tbody></table></div>"
      ],
      "text/plain": [
       "shape: (4, 13)\n",
       "┌────────┬─────────────┬──────────┬────────┬───┬──────────────────┬─────────┬───────┬──────────┐\n",
       "│ row_nr ┆ PassengerId ┆ Survived ┆ Pclass ┆ … ┆ Ticket           ┆ Fare    ┆ Cabin ┆ Embarked │\n",
       "│ ---    ┆ ---         ┆ ---      ┆ ---    ┆   ┆ ---              ┆ ---     ┆ ---   ┆ ---      │\n",
       "│ u32    ┆ i64         ┆ i64      ┆ i64    ┆   ┆ str              ┆ f64     ┆ str   ┆ str      │\n",
       "╞════════╪═════════════╪══════════╪════════╪═══╪══════════════════╪═════════╪═══════╪══════════╡\n",
       "│ 0      ┆ 1           ┆ 0        ┆ 3      ┆ … ┆ A/5 21171        ┆ 7.25    ┆ null  ┆ S        │\n",
       "│ 1      ┆ 2           ┆ 1        ┆ 1      ┆ … ┆ PC 17599         ┆ 71.2833 ┆ C85   ┆ C        │\n",
       "│ 2      ┆ 3           ┆ 1        ┆ 3      ┆ … ┆ STON/O2. 3101282 ┆ 7.925   ┆ null  ┆ S        │\n",
       "│ 3      ┆ 4           ┆ 1        ┆ 1      ┆ … ┆ 113803           ┆ 53.1    ┆ C123  ┆ S        │\n",
       "└────────┴─────────────┴──────────┴────────┴───┴──────────────────┴─────────┴───────┴──────────┘"
      ]
     },
     "execution_count": 8,
     "metadata": {},
     "output_type": "execute_result"
    }
   ],
   "source": [
    "df.filter(\n",
    "    pl.col('row_nr') < 4\n",
    ")"
   ]
  },
  {
   "cell_type": "markdown",
   "id": "b005c15d-86d7-449b-977c-780810f62146",
   "metadata": {},
   "source": [
    "## Select rows with multiple conditions\n",
    "\n",
    "### Apply `AND` conditions\n",
    "\n",
    "We can apply filter `AND` conditions by **chaining** calls to `filter`."
   ]
  },
  {
   "cell_type": "code",
   "execution_count": 9,
   "id": "ecb9410d-dfc6-4845-aea6-5378d9b1a66f",
   "metadata": {
    "tags": []
   },
   "outputs": [
    {
     "data": {
      "text/html": [
       "<div><style>\n",
       ".dataframe > thead > tr > th,\n",
       ".dataframe > tbody > tr > td {\n",
       "  text-align: right;\n",
       "}\n",
       "</style>\n",
       "<small>shape: (3, 12)</small><table border=\"1\" class=\"dataframe\"><thead><tr><th>PassengerId</th><th>Survived</th><th>Pclass</th><th>Name</th><th>Sex</th><th>Age</th><th>SibSp</th><th>Parch</th><th>Ticket</th><th>Fare</th><th>Cabin</th><th>Embarked</th></tr><tr><td>i64</td><td>i64</td><td>i64</td><td>str</td><td>str</td><td>f64</td><td>i64</td><td>i64</td><td>str</td><td>f64</td><td>str</td><td>str</td></tr></thead><tbody><tr><td>97</td><td>0</td><td>1</td><td>&quot;Goldschmidt, M…</td><td>&quot;male&quot;</td><td>71.0</td><td>0</td><td>0</td><td>&quot;PC 17754&quot;</td><td>34.6542</td><td>&quot;A5&quot;</td><td>&quot;C&quot;</td></tr><tr><td>494</td><td>0</td><td>1</td><td>&quot;Artagaveytia, …</td><td>&quot;male&quot;</td><td>71.0</td><td>0</td><td>0</td><td>&quot;PC 17609&quot;</td><td>49.5042</td><td>null</td><td>&quot;C&quot;</td></tr><tr><td>631</td><td>1</td><td>1</td><td>&quot;Barkworth, Mr.…</td><td>&quot;male&quot;</td><td>80.0</td><td>0</td><td>0</td><td>&quot;27042&quot;</td><td>30.0</td><td>&quot;A23&quot;</td><td>&quot;S&quot;</td></tr></tbody></table></div>"
      ],
      "text/plain": [
       "shape: (3, 12)\n",
       "┌─────────────┬──────────┬────────┬────────────────────┬───┬──────────┬─────────┬───────┬──────────┐\n",
       "│ PassengerId ┆ Survived ┆ Pclass ┆ Name               ┆ … ┆ Ticket   ┆ Fare    ┆ Cabin ┆ Embarked │\n",
       "│ ---         ┆ ---      ┆ ---    ┆ ---                ┆   ┆ ---      ┆ ---     ┆ ---   ┆ ---      │\n",
       "│ i64         ┆ i64      ┆ i64    ┆ str                ┆   ┆ str      ┆ f64     ┆ str   ┆ str      │\n",
       "╞═════════════╪══════════╪════════╪════════════════════╪═══╪══════════╪═════════╪═══════╪══════════╡\n",
       "│ 97          ┆ 0        ┆ 1      ┆ Goldschmidt, Mr.   ┆ … ┆ PC 17754 ┆ 34.6542 ┆ A5    ┆ C        │\n",
       "│             ┆          ┆        ┆ George B           ┆   ┆          ┆         ┆       ┆          │\n",
       "│ 494         ┆ 0        ┆ 1      ┆ Artagaveytia, Mr.  ┆ … ┆ PC 17609 ┆ 49.5042 ┆ null  ┆ C        │\n",
       "│             ┆          ┆        ┆ Ramon              ┆   ┆          ┆         ┆       ┆          │\n",
       "│ 631         ┆ 1        ┆ 1      ┆ Barkworth, Mr.     ┆ … ┆ 27042    ┆ 30.0    ┆ A23   ┆ S        │\n",
       "│             ┆          ┆        ┆ Algernon Henry Wi… ┆   ┆          ┆         ┆       ┆          │\n",
       "└─────────────┴──────────┴────────┴────────────────────┴───┴──────────┴─────────┴───────┴──────────┘"
      ]
     },
     "execution_count": 9,
     "metadata": {},
     "output_type": "execute_result"
    }
   ],
   "source": [
    "dfFiltered = (\n",
    "    pl.read_csv(csvFile)\n",
    "    .filter(\n",
    "        pl.col('Pclass') == 1\n",
    "    )\n",
    "    .filter(\n",
    "        pl.col('Age') > 70\n",
    "    )\n",
    ")\n",
    "dfFiltered.head(3)"
   ]
  },
  {
   "cell_type": "markdown",
   "id": "5662c5bd-1d16-4da9-8e75-146dc37c7c6a",
   "metadata": {},
   "source": [
    "In eager mode chaining requires scanning the `DataFrame` for each `filter` call.\n",
    "\n",
    "It is better to **concatenate** multiple `AND` conditions in a single `filter` call using `&`"
   ]
  },
  {
   "cell_type": "code",
   "execution_count": null,
   "id": "efd6e69a-8b42-42af-90eb-098fa3a3a90e",
   "metadata": {
    "tags": []
   },
   "outputs": [],
   "source": [
    "df.filter(\n",
    "    (pl.col('Age') > 70) & (pl.col('Pclass') == 1)\n",
    ").head(3)"
   ]
  },
  {
   "cell_type": "markdown",
   "id": "49f7c1ce-d67f-49e2-ac8e-e4ea8ab418ea",
   "metadata": {},
   "source": [
    "### Apply `AND` condition on a range\n",
    "\n",
    "If our `AND` condition is looking for values that are `<`,`<=` and `>`,`>=` we can use `in_between`.\n",
    "\n",
    "The condition is `<` and `>` unless the `include_bounds` argument is set. See the docstrings for the full options https://pola-rs.github.io/polars/py-polars/html/reference/api/polars.Expr.is_between.html#polars.Expr.is_between"
   ]
  },
  {
   "cell_type": "code",
   "execution_count": 10,
   "id": "f58fbbfc-264e-4faa-bb38-5c9b5a941f4f",
   "metadata": {},
   "outputs": [
    {
     "data": {
      "text/html": [
       "<div><style>\n",
       ".dataframe > thead > tr > th,\n",
       ".dataframe > tbody > tr > td {\n",
       "  text-align: right;\n",
       "}\n",
       "</style>\n",
       "<small>shape: (4, 13)</small><table border=\"1\" class=\"dataframe\"><thead><tr><th>row_nr</th><th>PassengerId</th><th>Survived</th><th>Pclass</th><th>Name</th><th>Sex</th><th>Age</th><th>SibSp</th><th>Parch</th><th>Ticket</th><th>Fare</th><th>Cabin</th><th>Embarked</th></tr><tr><td>u32</td><td>i64</td><td>i64</td><td>i64</td><td>str</td><td>str</td><td>f64</td><td>i64</td><td>i64</td><td>str</td><td>f64</td><td>str</td><td>str</td></tr></thead><tbody><tr><td>59</td><td>60</td><td>0</td><td>3</td><td>&quot;Goodwin, Maste…</td><td>&quot;male&quot;</td><td>11.0</td><td>5</td><td>2</td><td>&quot;CA 2144&quot;</td><td>46.9</td><td>null</td><td>&quot;S&quot;</td></tr><tr><td>542</td><td>543</td><td>0</td><td>3</td><td>&quot;Andersson, Mis…</td><td>&quot;female&quot;</td><td>11.0</td><td>4</td><td>2</td><td>&quot;347082&quot;</td><td>31.275</td><td>null</td><td>&quot;S&quot;</td></tr><tr><td>731</td><td>732</td><td>0</td><td>3</td><td>&quot;Hassan, Mr. Ho…</td><td>&quot;male&quot;</td><td>11.0</td><td>0</td><td>0</td><td>&quot;2699&quot;</td><td>18.7875</td><td>null</td><td>&quot;C&quot;</td></tr><tr><td>802</td><td>803</td><td>1</td><td>1</td><td>&quot;Carter, Master…</td><td>&quot;male&quot;</td><td>11.0</td><td>1</td><td>2</td><td>&quot;113760&quot;</td><td>120.0</td><td>&quot;B96 B98&quot;</td><td>&quot;S&quot;</td></tr></tbody></table></div>"
      ],
      "text/plain": [
       "shape: (4, 13)\n",
       "┌────────┬─────────────┬──────────┬────────┬───┬─────────┬─────────┬─────────┬──────────┐\n",
       "│ row_nr ┆ PassengerId ┆ Survived ┆ Pclass ┆ … ┆ Ticket  ┆ Fare    ┆ Cabin   ┆ Embarked │\n",
       "│ ---    ┆ ---         ┆ ---      ┆ ---    ┆   ┆ ---     ┆ ---     ┆ ---     ┆ ---      │\n",
       "│ u32    ┆ i64         ┆ i64      ┆ i64    ┆   ┆ str     ┆ f64     ┆ str     ┆ str      │\n",
       "╞════════╪═════════════╪══════════╪════════╪═══╪═════════╪═════════╪═════════╪══════════╡\n",
       "│ 59     ┆ 60          ┆ 0        ┆ 3      ┆ … ┆ CA 2144 ┆ 46.9    ┆ null    ┆ S        │\n",
       "│ 542    ┆ 543         ┆ 0        ┆ 3      ┆ … ┆ 347082  ┆ 31.275  ┆ null    ┆ S        │\n",
       "│ 731    ┆ 732         ┆ 0        ┆ 3      ┆ … ┆ 2699    ┆ 18.7875 ┆ null    ┆ C        │\n",
       "│ 802    ┆ 803         ┆ 1        ┆ 1      ┆ … ┆ 113760  ┆ 120.0   ┆ B96 B98 ┆ S        │\n",
       "└────────┴─────────────┴──────────┴────────┴───┴─────────┴─────────┴─────────┴──────────┘"
      ]
     },
     "execution_count": 10,
     "metadata": {},
     "output_type": "execute_result"
    }
   ],
   "source": [
    "(\n",
    "    df\n",
    "    .filter(\n",
    "        pl.col(\"Age\").is_between(10.5,11.5)\n",
    "    )\n",
    ")"
   ]
  },
  {
   "cell_type": "markdown",
   "id": "2f1610a5-8326-40c9-a890-59a97fff67f3",
   "metadata": {},
   "source": [
    "### Apply `OR` conditions\n",
    "\n",
    "We can apply an OR filter using the pipe `|` operator"
   ]
  },
  {
   "cell_type": "code",
   "execution_count": 11,
   "id": "8f48cef1-7bdc-47de-9c8f-267bd4592910",
   "metadata": {
    "tags": []
   },
   "outputs": [
    {
     "data": {
      "text/html": [
       "<div><style>\n",
       ".dataframe > thead > tr > th,\n",
       ".dataframe > tbody > tr > td {\n",
       "  text-align: right;\n",
       "}\n",
       "</style>\n",
       "<small>shape: (3, 13)</small><table border=\"1\" class=\"dataframe\"><thead><tr><th>row_nr</th><th>PassengerId</th><th>Survived</th><th>Pclass</th><th>Name</th><th>Sex</th><th>Age</th><th>SibSp</th><th>Parch</th><th>Ticket</th><th>Fare</th><th>Cabin</th><th>Embarked</th></tr><tr><td>u32</td><td>i64</td><td>i64</td><td>i64</td><td>str</td><td>str</td><td>f64</td><td>i64</td><td>i64</td><td>str</td><td>f64</td><td>str</td><td>str</td></tr></thead><tbody><tr><td>1</td><td>2</td><td>1</td><td>1</td><td>&quot;Cumings, Mrs. …</td><td>&quot;female&quot;</td><td>38.0</td><td>1</td><td>0</td><td>&quot;PC 17599&quot;</td><td>71.2833</td><td>&quot;C85&quot;</td><td>&quot;C&quot;</td></tr><tr><td>3</td><td>4</td><td>1</td><td>1</td><td>&quot;Futrelle, Mrs.…</td><td>&quot;female&quot;</td><td>35.0</td><td>1</td><td>0</td><td>&quot;113803&quot;</td><td>53.1</td><td>&quot;C123&quot;</td><td>&quot;S&quot;</td></tr><tr><td>6</td><td>7</td><td>0</td><td>1</td><td>&quot;McCarthy, Mr. …</td><td>&quot;male&quot;</td><td>54.0</td><td>0</td><td>0</td><td>&quot;17463&quot;</td><td>51.8625</td><td>&quot;E46&quot;</td><td>&quot;S&quot;</td></tr></tbody></table></div>"
      ],
      "text/plain": [
       "shape: (3, 13)\n",
       "┌────────┬─────────────┬──────────┬────────┬───┬──────────┬─────────┬───────┬──────────┐\n",
       "│ row_nr ┆ PassengerId ┆ Survived ┆ Pclass ┆ … ┆ Ticket   ┆ Fare    ┆ Cabin ┆ Embarked │\n",
       "│ ---    ┆ ---         ┆ ---      ┆ ---    ┆   ┆ ---      ┆ ---     ┆ ---   ┆ ---      │\n",
       "│ u32    ┆ i64         ┆ i64      ┆ i64    ┆   ┆ str      ┆ f64     ┆ str   ┆ str      │\n",
       "╞════════╪═════════════╪══════════╪════════╪═══╪══════════╪═════════╪═══════╪══════════╡\n",
       "│ 1      ┆ 2           ┆ 1        ┆ 1      ┆ … ┆ PC 17599 ┆ 71.2833 ┆ C85   ┆ C        │\n",
       "│ 3      ┆ 4           ┆ 1        ┆ 1      ┆ … ┆ 113803   ┆ 53.1    ┆ C123  ┆ S        │\n",
       "│ 6      ┆ 7           ┆ 0        ┆ 1      ┆ … ┆ 17463    ┆ 51.8625 ┆ E46   ┆ S        │\n",
       "└────────┴─────────────┴──────────┴────────┴───┴──────────┴─────────┴───────┴──────────┘"
      ]
     },
     "execution_count": 11,
     "metadata": {},
     "output_type": "execute_result"
    }
   ],
   "source": [
    "df.filter(\n",
    "    (pl.col('Age') > 70) | (pl.col('Pclass') == 1)\n",
    ").head(3)"
   ]
  },
  {
   "cell_type": "markdown",
   "id": "f070fc5d-f3b9-4696-a767-6ab3fc940a40",
   "metadata": {},
   "source": [
    "If our `OR` statement is only testing for equality we can use `is_in`"
   ]
  },
  {
   "cell_type": "code",
   "execution_count": 31,
   "id": "74b359c9-cb55-4e9b-9863-6b35709c97b2",
   "metadata": {},
   "outputs": [
    {
     "name": "stdout",
     "output_type": "stream",
     "text": [
      "DF [\"row_nr\", \"PassengerId\", \"Survived\", \"Pclass\"]; PROJECT */13 COLUMNS; SELECTION: \"col(\\\"PassengerId\\\").is_in([Series])\"\n"
     ]
    }
   ],
   "source": [
    "print(\n",
    "    df\n",
    "    .lazy()\n",
    "    .filter(\n",
    "        pl.col(\"PassengerId\").is_in([3,4])\n",
    "    ).explain()\n",
    ")\n",
    "\n"
   ]
  },
  {
   "cell_type": "markdown",
   "id": "94787c49-833d-4b79-9efe-301d49511ec1",
   "metadata": {},
   "source": [
    "# Exercises\n",
    "In the exercises you will develop your understanding of\n",
    "- using the `filter` method\n",
    "- adding a row number column\n",
    "- using the `filter` method with `AND` and `OR` conditions"
   ]
  },
  {
   "cell_type": "markdown",
   "id": "7e114028-cf26-4773-9078-1e68d9221b50",
   "metadata": {},
   "source": [
    "## Exercise 1: Select all rows where `Age` is greater than 30"
   ]
  },
  {
   "cell_type": "code",
   "execution_count": 40,
   "id": "3979c416-8da6-44cc-8408-a5930159bdd4",
   "metadata": {
    "tags": []
   },
   "outputs": [
    {
     "data": {
      "text/html": [
       "<div><style>\n",
       ".dataframe > thead > tr > th,\n",
       ".dataframe > tbody > tr > td {\n",
       "  text-align: right;\n",
       "}\n",
       "</style>\n",
       "<small>shape: (3, 12)</small><table border=\"1\" class=\"dataframe\"><thead><tr><th>PassengerId</th><th>Survived</th><th>Pclass</th><th>Name</th><th>Sex</th><th>Age</th><th>SibSp</th><th>Parch</th><th>Ticket</th><th>Fare</th><th>Cabin</th><th>Embarked</th></tr><tr><td>i64</td><td>i64</td><td>i64</td><td>str</td><td>str</td><td>f64</td><td>i64</td><td>i64</td><td>str</td><td>f64</td><td>str</td><td>str</td></tr></thead><tbody><tr><td>2</td><td>1</td><td>1</td><td>&quot;Cumings, Mrs. …</td><td>&quot;female&quot;</td><td>38.0</td><td>1</td><td>0</td><td>&quot;PC 17599&quot;</td><td>71.2833</td><td>&quot;C85&quot;</td><td>&quot;C&quot;</td></tr><tr><td>4</td><td>1</td><td>1</td><td>&quot;Futrelle, Mrs.…</td><td>&quot;female&quot;</td><td>35.0</td><td>1</td><td>0</td><td>&quot;113803&quot;</td><td>53.1</td><td>&quot;C123&quot;</td><td>&quot;S&quot;</td></tr><tr><td>5</td><td>0</td><td>3</td><td>&quot;Allen, Mr. Wil…</td><td>&quot;male&quot;</td><td>35.0</td><td>0</td><td>0</td><td>&quot;373450&quot;</td><td>8.05</td><td>null</td><td>&quot;S&quot;</td></tr></tbody></table></div>"
      ],
      "text/plain": [
       "shape: (3, 12)\n",
       "┌─────────────┬──────────┬────────┬────────────────────┬───┬──────────┬─────────┬───────┬──────────┐\n",
       "│ PassengerId ┆ Survived ┆ Pclass ┆ Name               ┆ … ┆ Ticket   ┆ Fare    ┆ Cabin ┆ Embarked │\n",
       "│ ---         ┆ ---      ┆ ---    ┆ ---                ┆   ┆ ---      ┆ ---     ┆ ---   ┆ ---      │\n",
       "│ i64         ┆ i64      ┆ i64    ┆ str                ┆   ┆ str      ┆ f64     ┆ str   ┆ str      │\n",
       "╞═════════════╪══════════╪════════╪════════════════════╪═══╪══════════╪═════════╪═══════╪══════════╡\n",
       "│ 2           ┆ 1        ┆ 1      ┆ Cumings, Mrs. John ┆ … ┆ PC 17599 ┆ 71.2833 ┆ C85   ┆ C        │\n",
       "│             ┆          ┆        ┆ Bradley (Flor…     ┆   ┆          ┆         ┆       ┆          │\n",
       "│ 4           ┆ 1        ┆ 1      ┆ Futrelle, Mrs.     ┆ … ┆ 113803   ┆ 53.1    ┆ C123  ┆ S        │\n",
       "│             ┆          ┆        ┆ Jacques Heath (Li… ┆   ┆          ┆         ┆       ┆          │\n",
       "│ 5           ┆ 0        ┆ 3      ┆ Allen, Mr. William ┆ … ┆ 373450   ┆ 8.05    ┆ null  ┆ S        │\n",
       "│             ┆          ┆        ┆ Henry              ┆   ┆          ┆         ┆       ┆          │\n",
       "└─────────────┴──────────┴────────┴────────────────────┴───┴──────────┴─────────┴───────┴──────────┘"
      ]
     },
     "execution_count": 40,
     "metadata": {},
     "output_type": "execute_result"
    }
   ],
   "source": [
    "df = pl.read_csv(csvFile)\n",
    "df.filter(\n",
    "    pl.col(\"Age\") > 30\n",
    ").head(3)"
   ]
  },
  {
   "cell_type": "markdown",
   "id": "638d7719-579c-421d-8643-13fc3c43c7d0",
   "metadata": {},
   "source": [
    "## Exercise 2: Filtering on row numbers\n",
    "Add a row number column"
   ]
  },
  {
   "cell_type": "code",
   "execution_count": 42,
   "id": "1ba4e8a1-981d-44ed-b34e-1b54d889c5d1",
   "metadata": {
    "tags": []
   },
   "outputs": [
    {
     "data": {
      "text/html": [
       "<div><style>\n",
       ".dataframe > thead > tr > th,\n",
       ".dataframe > tbody > tr > td {\n",
       "  text-align: right;\n",
       "}\n",
       "</style>\n",
       "<small>shape: (1, 13)</small><table border=\"1\" class=\"dataframe\"><thead><tr><th>row_nr</th><th>PassengerId</th><th>Survived</th><th>Pclass</th><th>Name</th><th>Sex</th><th>Age</th><th>SibSp</th><th>Parch</th><th>Ticket</th><th>Fare</th><th>Cabin</th><th>Embarked</th></tr><tr><td>u32</td><td>i64</td><td>i64</td><td>i64</td><td>str</td><td>str</td><td>f64</td><td>i64</td><td>i64</td><td>str</td><td>f64</td><td>str</td><td>str</td></tr></thead><tbody><tr><td>1</td><td>2</td><td>1</td><td>1</td><td>&quot;Cumings, Mrs. …</td><td>&quot;female&quot;</td><td>38.0</td><td>1</td><td>0</td><td>&quot;PC 17599&quot;</td><td>71.2833</td><td>&quot;C85&quot;</td><td>&quot;C&quot;</td></tr></tbody></table></div>"
      ],
      "text/plain": [
       "shape: (1, 13)\n",
       "┌────────┬─────────────┬──────────┬────────┬───┬──────────┬─────────┬───────┬──────────┐\n",
       "│ row_nr ┆ PassengerId ┆ Survived ┆ Pclass ┆ … ┆ Ticket   ┆ Fare    ┆ Cabin ┆ Embarked │\n",
       "│ ---    ┆ ---         ┆ ---      ┆ ---    ┆   ┆ ---      ┆ ---     ┆ ---   ┆ ---      │\n",
       "│ u32    ┆ i64         ┆ i64      ┆ i64    ┆   ┆ str      ┆ f64     ┆ str   ┆ str      │\n",
       "╞════════╪═════════════╪══════════╪════════╪═══╪══════════╪═════════╪═══════╪══════════╡\n",
       "│ 1      ┆ 2           ┆ 1        ┆ 1      ┆ … ┆ PC 17599 ┆ 71.2833 ┆ C85   ┆ C        │\n",
       "└────────┴─────────────┴──────────┴────────┴───┴──────────┴─────────┴───────┴──────────┘"
      ]
     },
     "execution_count": 42,
     "metadata": {},
     "output_type": "execute_result"
    }
   ],
   "source": [
    "df = pl.read_csv(csvFile)\n",
    "\n",
    "df = df.with_row_count(name='row_nr')\n",
    "\n",
    "df.filter(\n",
    "    pl.col(\"row_nr\") == 1\n",
    ")"
   ]
  },
  {
   "cell_type": "markdown",
   "id": "f5ad5471-a7dd-4771-8a4d-40868b27e15f",
   "metadata": {},
   "source": [
    "Exercise 2 cont: Select the first 5 rows using `filter` on the row number column"
   ]
  },
  {
   "cell_type": "code",
   "execution_count": 43,
   "id": "6a660dae-bf35-4958-83d8-5a629cf55fd7",
   "metadata": {
    "tags": []
   },
   "outputs": [
    {
     "data": {
      "text/html": [
       "<div><style>\n",
       ".dataframe > thead > tr > th,\n",
       ".dataframe > tbody > tr > td {\n",
       "  text-align: right;\n",
       "}\n",
       "</style>\n",
       "<small>shape: (6, 13)</small><table border=\"1\" class=\"dataframe\"><thead><tr><th>row_nr</th><th>PassengerId</th><th>Survived</th><th>Pclass</th><th>Name</th><th>Sex</th><th>Age</th><th>SibSp</th><th>Parch</th><th>Ticket</th><th>Fare</th><th>Cabin</th><th>Embarked</th></tr><tr><td>u32</td><td>i64</td><td>i64</td><td>i64</td><td>str</td><td>str</td><td>f64</td><td>i64</td><td>i64</td><td>str</td><td>f64</td><td>str</td><td>str</td></tr></thead><tbody><tr><td>0</td><td>1</td><td>0</td><td>3</td><td>&quot;Braund, Mr. Ow…</td><td>&quot;male&quot;</td><td>22.0</td><td>1</td><td>0</td><td>&quot;A/5 21171&quot;</td><td>7.25</td><td>null</td><td>&quot;S&quot;</td></tr><tr><td>1</td><td>2</td><td>1</td><td>1</td><td>&quot;Cumings, Mrs. …</td><td>&quot;female&quot;</td><td>38.0</td><td>1</td><td>0</td><td>&quot;PC 17599&quot;</td><td>71.2833</td><td>&quot;C85&quot;</td><td>&quot;C&quot;</td></tr><tr><td>2</td><td>3</td><td>1</td><td>3</td><td>&quot;Heikkinen, Mis…</td><td>&quot;female&quot;</td><td>26.0</td><td>0</td><td>0</td><td>&quot;STON/O2. 31012…</td><td>7.925</td><td>null</td><td>&quot;S&quot;</td></tr><tr><td>3</td><td>4</td><td>1</td><td>1</td><td>&quot;Futrelle, Mrs.…</td><td>&quot;female&quot;</td><td>35.0</td><td>1</td><td>0</td><td>&quot;113803&quot;</td><td>53.1</td><td>&quot;C123&quot;</td><td>&quot;S&quot;</td></tr><tr><td>4</td><td>5</td><td>0</td><td>3</td><td>&quot;Allen, Mr. Wil…</td><td>&quot;male&quot;</td><td>35.0</td><td>0</td><td>0</td><td>&quot;373450&quot;</td><td>8.05</td><td>null</td><td>&quot;S&quot;</td></tr><tr><td>5</td><td>6</td><td>0</td><td>3</td><td>&quot;Moran, Mr. Jam…</td><td>&quot;male&quot;</td><td>null</td><td>0</td><td>0</td><td>&quot;330877&quot;</td><td>8.4583</td><td>null</td><td>&quot;Q&quot;</td></tr></tbody></table></div>"
      ],
      "text/plain": [
       "shape: (6, 13)\n",
       "┌────────┬─────────────┬──────────┬────────┬───┬──────────────────┬─────────┬───────┬──────────┐\n",
       "│ row_nr ┆ PassengerId ┆ Survived ┆ Pclass ┆ … ┆ Ticket           ┆ Fare    ┆ Cabin ┆ Embarked │\n",
       "│ ---    ┆ ---         ┆ ---      ┆ ---    ┆   ┆ ---              ┆ ---     ┆ ---   ┆ ---      │\n",
       "│ u32    ┆ i64         ┆ i64      ┆ i64    ┆   ┆ str              ┆ f64     ┆ str   ┆ str      │\n",
       "╞════════╪═════════════╪══════════╪════════╪═══╪══════════════════╪═════════╪═══════╪══════════╡\n",
       "│ 0      ┆ 1           ┆ 0        ┆ 3      ┆ … ┆ A/5 21171        ┆ 7.25    ┆ null  ┆ S        │\n",
       "│ 1      ┆ 2           ┆ 1        ┆ 1      ┆ … ┆ PC 17599         ┆ 71.2833 ┆ C85   ┆ C        │\n",
       "│ 2      ┆ 3           ┆ 1        ┆ 3      ┆ … ┆ STON/O2. 3101282 ┆ 7.925   ┆ null  ┆ S        │\n",
       "│ 3      ┆ 4           ┆ 1        ┆ 1      ┆ … ┆ 113803           ┆ 53.1    ┆ C123  ┆ S        │\n",
       "│ 4      ┆ 5           ┆ 0        ┆ 3      ┆ … ┆ 373450           ┆ 8.05    ┆ null  ┆ S        │\n",
       "│ 5      ┆ 6           ┆ 0        ┆ 3      ┆ … ┆ 330877           ┆ 8.4583  ┆ null  ┆ Q        │\n",
       "└────────┴─────────────┴──────────┴────────┴───┴──────────────────┴─────────┴───────┴──────────┘"
      ]
     },
     "execution_count": 43,
     "metadata": {},
     "output_type": "execute_result"
    }
   ],
   "source": [
    "df = pl.read_csv(csvFile)\n",
    "\n",
    "df = df.with_row_count(name='row_nr')\n",
    "\n",
    "df.filter(\n",
    "    pl.col(\"row_nr\") < 6\n",
    ")"
   ]
  },
  {
   "cell_type": "markdown",
   "id": "80813ac1-611a-4b9a-b39a-b1479f076d71",
   "metadata": {},
   "source": [
    "## Exercise 3: Select all rows where `Age` is greater than 30 and the passenger was in 2nd class"
   ]
  },
  {
   "cell_type": "code",
   "execution_count": 46,
   "id": "35403f8f-1920-4922-91f9-c6e2a5b47d7b",
   "metadata": {
    "tags": []
   },
   "outputs": [
    {
     "data": {
      "text/html": [
       "<div><style>\n",
       ".dataframe > thead > tr > th,\n",
       ".dataframe > tbody > tr > td {\n",
       "  text-align: right;\n",
       "}\n",
       "</style>\n",
       "<small>shape: (3, 12)</small><table border=\"1\" class=\"dataframe\"><thead><tr><th>PassengerId</th><th>Survived</th><th>Pclass</th><th>Name</th><th>Sex</th><th>Age</th><th>SibSp</th><th>Parch</th><th>Ticket</th><th>Fare</th><th>Cabin</th><th>Embarked</th></tr><tr><td>i64</td><td>i64</td><td>i64</td><td>str</td><td>str</td><td>f64</td><td>i64</td><td>i64</td><td>str</td><td>f64</td><td>str</td><td>str</td></tr></thead><tbody><tr><td>16</td><td>1</td><td>2</td><td>&quot;Hewlett, Mrs. …</td><td>&quot;female&quot;</td><td>55.0</td><td>0</td><td>0</td><td>&quot;248706&quot;</td><td>16.0</td><td>null</td><td>&quot;S&quot;</td></tr><tr><td>21</td><td>0</td><td>2</td><td>&quot;Fynney, Mr. Jo…</td><td>&quot;male&quot;</td><td>35.0</td><td>0</td><td>0</td><td>&quot;239865&quot;</td><td>26.0</td><td>null</td><td>&quot;S&quot;</td></tr><tr><td>22</td><td>1</td><td>2</td><td>&quot;Beesley, Mr. L…</td><td>&quot;male&quot;</td><td>34.0</td><td>0</td><td>0</td><td>&quot;248698&quot;</td><td>13.0</td><td>&quot;D56&quot;</td><td>&quot;S&quot;</td></tr></tbody></table></div>"
      ],
      "text/plain": [
       "shape: (3, 12)\n",
       "┌─────────────┬──────────┬────────┬─────────────────────────┬───┬────────┬──────┬───────┬──────────┐\n",
       "│ PassengerId ┆ Survived ┆ Pclass ┆ Name                    ┆ … ┆ Ticket ┆ Fare ┆ Cabin ┆ Embarked │\n",
       "│ ---         ┆ ---      ┆ ---    ┆ ---                     ┆   ┆ ---    ┆ ---  ┆ ---   ┆ ---      │\n",
       "│ i64         ┆ i64      ┆ i64    ┆ str                     ┆   ┆ str    ┆ f64  ┆ str   ┆ str      │\n",
       "╞═════════════╪══════════╪════════╪═════════════════════════╪═══╪════════╪══════╪═══════╪══════════╡\n",
       "│ 16          ┆ 1        ┆ 2      ┆ Hewlett, Mrs. (Mary D   ┆ … ┆ 248706 ┆ 16.0 ┆ null  ┆ S        │\n",
       "│             ┆          ┆        ┆ Kingcome)               ┆   ┆        ┆      ┆       ┆          │\n",
       "│ 21          ┆ 0        ┆ 2      ┆ Fynney, Mr. Joseph J    ┆ … ┆ 239865 ┆ 26.0 ┆ null  ┆ S        │\n",
       "│ 22          ┆ 1        ┆ 2      ┆ Beesley, Mr. Lawrence   ┆ … ┆ 248698 ┆ 13.0 ┆ D56   ┆ S        │\n",
       "└─────────────┴──────────┴────────┴─────────────────────────┴───┴────────┴──────┴───────┴──────────┘"
      ]
     },
     "execution_count": 46,
     "metadata": {},
     "output_type": "execute_result"
    }
   ],
   "source": [
    "df = pl.read_csv(csvFile)\n",
    "df.filter(\n",
    "    (pl.col(\"Age\") > 30) & (pl.col(\"Pclass\") == 2)\n",
    ").head(3)"
   ]
  },
  {
   "cell_type": "markdown",
   "id": "8bac7ff3-d346-429a-a5a3-0e2c50090c46",
   "metadata": {},
   "source": [
    "## Exercise 4: Select all rows where `Age` is less than or equal 5 *or* `Age` is greater than 75"
   ]
  },
  {
   "cell_type": "code",
   "execution_count": 48,
   "id": "854a0f82-2947-4a20-a53c-e9e661d566c9",
   "metadata": {
    "tags": []
   },
   "outputs": [
    {
     "data": {
      "text/html": [
       "<div><style>\n",
       ".dataframe > thead > tr > th,\n",
       ".dataframe > tbody > tr > td {\n",
       "  text-align: right;\n",
       "}\n",
       "</style>\n",
       "<small>shape: (3, 12)</small><table border=\"1\" class=\"dataframe\"><thead><tr><th>PassengerId</th><th>Survived</th><th>Pclass</th><th>Name</th><th>Sex</th><th>Age</th><th>SibSp</th><th>Parch</th><th>Ticket</th><th>Fare</th><th>Cabin</th><th>Embarked</th></tr><tr><td>i64</td><td>i64</td><td>i64</td><td>str</td><td>str</td><td>f64</td><td>i64</td><td>i64</td><td>str</td><td>f64</td><td>str</td><td>str</td></tr></thead><tbody><tr><td>8</td><td>0</td><td>3</td><td>&quot;Palsson, Maste…</td><td>&quot;male&quot;</td><td>2.0</td><td>3</td><td>1</td><td>&quot;349909&quot;</td><td>21.075</td><td>null</td><td>&quot;S&quot;</td></tr><tr><td>11</td><td>1</td><td>3</td><td>&quot;Sandstrom, Mis…</td><td>&quot;female&quot;</td><td>4.0</td><td>1</td><td>1</td><td>&quot;PP 9549&quot;</td><td>16.7</td><td>&quot;G6&quot;</td><td>&quot;S&quot;</td></tr><tr><td>17</td><td>0</td><td>3</td><td>&quot;Rice, Master. …</td><td>&quot;male&quot;</td><td>2.0</td><td>4</td><td>1</td><td>&quot;382652&quot;</td><td>29.125</td><td>null</td><td>&quot;Q&quot;</td></tr></tbody></table></div>"
      ],
      "text/plain": [
       "shape: (3, 12)\n",
       "┌─────────────┬──────────┬────────┬──────────────────────┬───┬─────────┬────────┬───────┬──────────┐\n",
       "│ PassengerId ┆ Survived ┆ Pclass ┆ Name                 ┆ … ┆ Ticket  ┆ Fare   ┆ Cabin ┆ Embarked │\n",
       "│ ---         ┆ ---      ┆ ---    ┆ ---                  ┆   ┆ ---     ┆ ---    ┆ ---   ┆ ---      │\n",
       "│ i64         ┆ i64      ┆ i64    ┆ str                  ┆   ┆ str     ┆ f64    ┆ str   ┆ str      │\n",
       "╞═════════════╪══════════╪════════╪══════════════════════╪═══╪═════════╪════════╪═══════╪══════════╡\n",
       "│ 8           ┆ 0        ┆ 3      ┆ Palsson, Master.     ┆ … ┆ 349909  ┆ 21.075 ┆ null  ┆ S        │\n",
       "│             ┆          ┆        ┆ Gosta Leonard        ┆   ┆         ┆        ┆       ┆          │\n",
       "│ 11          ┆ 1        ┆ 3      ┆ Sandstrom, Miss.     ┆ … ┆ PP 9549 ┆ 16.7   ┆ G6    ┆ S        │\n",
       "│             ┆          ┆        ┆ Marguerite Rut       ┆   ┆         ┆        ┆       ┆          │\n",
       "│ 17          ┆ 0        ┆ 3      ┆ Rice, Master. Eugene ┆ … ┆ 382652  ┆ 29.125 ┆ null  ┆ Q        │\n",
       "└─────────────┴──────────┴────────┴──────────────────────┴───┴─────────┴────────┴───────┴──────────┘"
      ]
     },
     "execution_count": 48,
     "metadata": {},
     "output_type": "execute_result"
    }
   ],
   "source": [
    "df = pl.read_csv(csvFile)\n",
    "df.filter(\n",
    "    (pl.col(\"Age\") <= 5) | (pl.col(\"Age\") > 74 )\n",
    ").head(3)"
   ]
  },
  {
   "cell_type": "markdown",
   "id": "53039c6f-c4bf-4f64-853d-7dc515571dc7",
   "metadata": {},
   "source": [
    "Select all rows where `Age` is in between 5 and 75 "
   ]
  },
  {
   "cell_type": "code",
   "execution_count": 50,
   "id": "ab5dd6e5-b864-4163-ac8a-223d25f5ae49",
   "metadata": {},
   "outputs": [
    {
     "data": {
      "text/html": [
       "<div><style>\n",
       ".dataframe > thead > tr > th,\n",
       ".dataframe > tbody > tr > td {\n",
       "  text-align: right;\n",
       "}\n",
       "</style>\n",
       "<small>shape: (3, 12)</small><table border=\"1\" class=\"dataframe\"><thead><tr><th>PassengerId</th><th>Survived</th><th>Pclass</th><th>Name</th><th>Sex</th><th>Age</th><th>SibSp</th><th>Parch</th><th>Ticket</th><th>Fare</th><th>Cabin</th><th>Embarked</th></tr><tr><td>i64</td><td>i64</td><td>i64</td><td>str</td><td>str</td><td>f64</td><td>i64</td><td>i64</td><td>str</td><td>f64</td><td>str</td><td>str</td></tr></thead><tbody><tr><td>1</td><td>0</td><td>3</td><td>&quot;Braund, Mr. Ow…</td><td>&quot;male&quot;</td><td>22.0</td><td>1</td><td>0</td><td>&quot;A/5 21171&quot;</td><td>7.25</td><td>null</td><td>&quot;S&quot;</td></tr><tr><td>2</td><td>1</td><td>1</td><td>&quot;Cumings, Mrs. …</td><td>&quot;female&quot;</td><td>38.0</td><td>1</td><td>0</td><td>&quot;PC 17599&quot;</td><td>71.2833</td><td>&quot;C85&quot;</td><td>&quot;C&quot;</td></tr><tr><td>3</td><td>1</td><td>3</td><td>&quot;Heikkinen, Mis…</td><td>&quot;female&quot;</td><td>26.0</td><td>0</td><td>0</td><td>&quot;STON/O2. 31012…</td><td>7.925</td><td>null</td><td>&quot;S&quot;</td></tr></tbody></table></div>"
      ],
      "text/plain": [
       "shape: (3, 12)\n",
       "┌─────────────┬──────────┬────────┬───────────────────┬───┬───────────┬─────────┬───────┬──────────┐\n",
       "│ PassengerId ┆ Survived ┆ Pclass ┆ Name              ┆ … ┆ Ticket    ┆ Fare    ┆ Cabin ┆ Embarked │\n",
       "│ ---         ┆ ---      ┆ ---    ┆ ---               ┆   ┆ ---       ┆ ---     ┆ ---   ┆ ---      │\n",
       "│ i64         ┆ i64      ┆ i64    ┆ str               ┆   ┆ str       ┆ f64     ┆ str   ┆ str      │\n",
       "╞═════════════╪══════════╪════════╪═══════════════════╪═══╪═══════════╪═════════╪═══════╪══════════╡\n",
       "│ 1           ┆ 0        ┆ 3      ┆ Braund, Mr. Owen  ┆ … ┆ A/5 21171 ┆ 7.25    ┆ null  ┆ S        │\n",
       "│             ┆          ┆        ┆ Harris            ┆   ┆           ┆         ┆       ┆          │\n",
       "│ 2           ┆ 1        ┆ 1      ┆ Cumings, Mrs.     ┆ … ┆ PC 17599  ┆ 71.2833 ┆ C85   ┆ C        │\n",
       "│             ┆          ┆        ┆ John Bradley      ┆   ┆           ┆         ┆       ┆          │\n",
       "│             ┆          ┆        ┆ (Flor…            ┆   ┆           ┆         ┆       ┆          │\n",
       "│ 3           ┆ 1        ┆ 3      ┆ Heikkinen, Miss.  ┆ … ┆ STON/O2.  ┆ 7.925   ┆ null  ┆ S        │\n",
       "│             ┆          ┆        ┆ Laina             ┆   ┆ 3101282   ┆         ┆       ┆          │\n",
       "└─────────────┴──────────┴────────┴───────────────────┴───┴───────────┴─────────┴───────┴──────────┘"
      ]
     },
     "execution_count": 50,
     "metadata": {},
     "output_type": "execute_result"
    }
   ],
   "source": [
    "df.filter(\n",
    "    pl.col(\"Age\").is_between(5,75)\n",
    ").head(3)"
   ]
  },
  {
   "cell_type": "markdown",
   "id": "acd99200-37a9-4b7c-a2d8-25625290a26c",
   "metadata": {},
   "source": [
    "## Solutions\n",
    "\n",
    "## Solution to Exercise 1: Select all rows with `Age` greater than 30"
   ]
  },
  {
   "cell_type": "code",
   "execution_count": null,
   "id": "76586b11-4e98-4d97-a043-71932d85de84",
   "metadata": {},
   "outputs": [],
   "source": [
    "df = pl.read_csv(csvFile)\n",
    "df.filter(pl.col('Age') > 30).head(3)"
   ]
  },
  {
   "cell_type": "markdown",
   "id": "bc49cd90-a8e6-41b7-951b-2c752fc00c36",
   "metadata": {},
   "source": [
    "## Solution to Exercise 2: Filtering on row numbers\n",
    "Add a row number column"
   ]
  },
  {
   "cell_type": "code",
   "execution_count": null,
   "id": "d40af2d5-1553-4553-8b83-079a7969bdea",
   "metadata": {},
   "outputs": [],
   "source": [
    "df = pl.read_csv(csvFile)\n",
    "df = df.with_row_count(\"row_nr\")"
   ]
  },
  {
   "cell_type": "markdown",
   "id": "e597abf1-29dc-47e9-8431-0c2179f7c9ed",
   "metadata": {},
   "source": [
    "Exercise 2 cont: Select the first 5 rows using `filter` on the row number column"
   ]
  },
  {
   "cell_type": "code",
   "execution_count": null,
   "id": "6181aa22-0bf3-4f7b-b9a4-edcfbd6ba237",
   "metadata": {},
   "outputs": [],
   "source": [
    "df = pl.read_csv(csvFile)\n",
    "df = df.with_row_count(\"row_nr\")\n",
    "df.filter(pl.col(\"row_nr\")<5)"
   ]
  },
  {
   "cell_type": "markdown",
   "id": "3f082e33-52b9-4445-9e7b-5ba1c94d4e98",
   "metadata": {},
   "source": [
    "## Solution to Exercise 3: Select all rows where `Age` is greater than 30 and the passenger was in 2nd class"
   ]
  },
  {
   "cell_type": "code",
   "execution_count": null,
   "id": "8c7a0969-d162-4df4-bed6-411acaa1bc93",
   "metadata": {},
   "outputs": [],
   "source": [
    "df = pl.read_csv(csvFile)\n",
    "df.filter((pl.col('Age') > 30) & (pl.col('Pclass')==2)).head(3)"
   ]
  },
  {
   "cell_type": "markdown",
   "id": "a0b2b377-849f-4eeb-bf84-cd5b91343ba0",
   "metadata": {},
   "source": [
    "## Solution to Exercise 4: Select all rows where `Age` is less than or equal 5 *or* `Age` is greater than 75"
   ]
  },
  {
   "cell_type": "code",
   "execution_count": null,
   "id": "bf7386ca-436a-4c8e-b3a6-0f34b1495154",
   "metadata": {
    "tags": []
   },
   "outputs": [],
   "source": [
    "df = pl.read_csv(csvFile)\n",
    "df.filter( (pl.col(\"Age\") <= 5) | (pl.col(\"Age\") > 75) ).head(3)"
   ]
  },
  {
   "cell_type": "code",
   "execution_count": null,
   "id": "b6dd9725-d8b3-481c-b840-d77af2b0c9a4",
   "metadata": {
    "tags": []
   },
   "outputs": [],
   "source": [
    "df = pl.read_csv(csvFile)\n",
    "df.filter( pl.col(\"Age\").is_between(5,75) ).head(3)"
   ]
  }
 ],
 "metadata": {
  "kernelspec": {
   "display_name": "Python 3 (ipykernel)",
   "language": "python",
   "name": "python3"
  },
  "language_info": {
   "codemirror_mode": {
    "name": "ipython",
    "version": 3
   },
   "file_extension": ".py",
   "mimetype": "text/x-python",
   "name": "python",
   "nbconvert_exporter": "python",
   "pygments_lexer": "ipython3",
   "version": "3.11.4"
  }
 },
 "nbformat": 4,
 "nbformat_minor": 5
}
