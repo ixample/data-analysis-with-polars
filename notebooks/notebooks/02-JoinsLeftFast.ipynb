{
 "cells": [
  {
   "cell_type": "markdown",
   "id": "912a60fe-71eb-4891-a6b8-2fa7bff99dc7",
   "metadata": {},
   "source": [
    "# Left, inner and fast-track joins\n",
    "By the end of this lesson you will be able to:\n",
    "- do inner joins between two dataframes in eager mode\n",
    "- do left joins between two dataframes in eager mode\n",
    "- do fast-track joins on sorted integer columns"
   ]
  },
  {
   "cell_type": "code",
   "execution_count": null,
   "id": "66e378f7-70f6-464b-b582-f6f840e530e3",
   "metadata": {},
   "outputs": [],
   "source": [
    "import polars as pl"
   ]
  },
  {
   "cell_type": "markdown",
   "id": "5921de15-e10a-468b-a663-92f24c08e638",
   "metadata": {},
   "source": [
    "## CITES Dataset\n",
    "\n",
    "The CITES organisation tracks international trade in endangered species.\n",
    "\n",
    "This CSV has an extract of CITES trade data for 2021"
   ]
  },
  {
   "cell_type": "code",
   "execution_count": null,
   "id": "bbd92e71-d670-449c-88d2-8f005507424d",
   "metadata": {},
   "outputs": [],
   "source": [
    "csvFile = \"../data/cites_extract.csv\""
   ]
  },
  {
   "cell_type": "code",
   "execution_count": null,
   "id": "cccaebfc-c9e6-4fcc-81c1-c13a69a2e4fa",
   "metadata": {},
   "outputs": [],
   "source": [
    "dfCITES = pl.read_csv(csvFile)\n",
    "dfCITES"
   ]
  },
  {
   "cell_type": "markdown",
   "id": "7d59b6c4-e0c1-4141-bdd4-3c184275b0e9",
   "metadata": {},
   "source": [
    "The `DataFrame` shows:\n",
    "- the `Year` in which the trade occured\n",
    "- the `Importer` and `Exporter` country in 2-digit ISO country codes\n",
    "- the scientific name for the `Taxon` and\n",
    "- the `Quantity` of items in the trade\n",
    "\n",
    "For importers and exporters we would like to have:\n",
    "- the full country name\n",
    "- the region of that country\n",
    "\n",
    "In the following CSV we have an extract from the ISO country data"
   ]
  },
  {
   "cell_type": "code",
   "execution_count": null,
   "id": "ff10fdb7-56ad-448c-a548-b9f85df03b84",
   "metadata": {},
   "outputs": [],
   "source": [
    "isoCSVFile = \"../data/countries_extract.csv\""
   ]
  },
  {
   "cell_type": "code",
   "execution_count": null,
   "id": "5c742f08-858d-413f-8ae9-7567e14413aa",
   "metadata": {},
   "outputs": [],
   "source": [
    "dfISO = pl.read_csv(isoCSVFile)\n",
    "dfISO"
   ]
  },
  {
   "cell_type": "markdown",
   "id": "d8602dd3-380d-4267-ad5e-d5e5cc25c8fa",
   "metadata": {},
   "source": [
    "This `DataFrame` has:\n",
    "- `alpha-2`: the 2-letter country code\n",
    "- `name`: the full name of the country\n",
    "- `region`: the region of the country\n",
    "\n",
    "## Left join\n",
    "In a left join we go through the left `DataFrame` row-by-row and try to add the data from the right `DataFrame` based on a join column in each `DataFrame`"
   ]
  },
  {
   "cell_type": "code",
   "execution_count": null,
   "id": "ea5cedc7-c3e7-4002-8228-fbed0514f8b7",
   "metadata": {},
   "outputs": [],
   "source": [
    "dfCites = pl.read_csv(csvFile)\n",
    "\n",
    "(\n",
    "    dfCITES\n",
    "    .join(\n",
    "        dfISO,\n",
    "        left_on=\"Importer\",\n",
    "        right_on=\"alpha-2\", \n",
    "        how=\"left\")\n",
    ")"
   ]
  },
  {
   "cell_type": "markdown",
   "id": "0ad36534-6164-4cab-b5a3-e90591a1823d",
   "metadata": {},
   "source": [
    "We join on:\n",
    "- the `Importer` column for the left `DataFrame` and \n",
    "- `alpha-2` for the right `DataFrame`\n",
    "\n",
    "In this case:\n",
    "- we now have the `name` and `region` columns from `dfISO` that give the name and region for the importing country\n",
    "- we have `null` in the last row because the country cide \"UA\" is missing from `dfISO`.\n",
    "\n",
    "We want to rename `name` and `region` to reflect that these are the importer values"
   ]
  },
  {
   "cell_type": "code",
   "execution_count": null,
   "id": "620bed7a-f761-45b7-9792-021d584c05ea",
   "metadata": {},
   "outputs": [],
   "source": [
    "dfCites = pl.read_csv(csvFile)\n",
    "(dfCITES\n",
    " .join(\n",
    "     dfISO,\n",
    "     left_on=\"Importer\",\n",
    "     right_on=\"alpha-2\", \n",
    "     how=\"left\"\n",
    "     )\n",
    " .rename(\n",
    "     {\n",
    "         \"name\":\"name_importer\",\n",
    "         \"region\":\"region_importer\"\n",
    "     }\n",
    " )\n",
    ")"
   ]
  },
  {
   "cell_type": "markdown",
   "id": "5feb4bba-2ae4-4e29-b481-64ec6568c8bb",
   "metadata": {},
   "source": [
    "We will join the exporter values in the exercises.\n",
    "\n",
    "The `join` method also has a `suffix` option. This adds a suffix to the column names in the right `DataFrame` *for column names that occur in both `DataFrames`*.\n",
    "\n",
    "## Inner join\n",
    "In an inner join we only retain the rows in the left `DataFrame` where we can join to a value in the right `DataFrame`\n"
   ]
  },
  {
   "cell_type": "code",
   "execution_count": null,
   "id": "bdd26f3f-6bae-486f-ade6-6421a17fe5bc",
   "metadata": {},
   "outputs": [],
   "source": [
    "dfCites = pl.read_csv(csvFile)\n",
    "(\n",
    "    dfCITES\n",
    "    .join(\n",
    "        dfISO,\n",
    "        left_on=\"Importer\",\n",
    "        right_on=\"alpha-2\", \n",
    "        how=\"inner\"\n",
    "    )\n",
    ")"
   ]
  },
  {
   "cell_type": "markdown",
   "id": "68c4cbc2-a6c8-403d-b192-26910b1e9bae",
   "metadata": {},
   "source": [
    "The final row that had `null` values for `name` and `region` is not present with an inner join.\n",
    "\n",
    "## Joining on sorted columns\n",
    "When we join on **integer** columns that are sorted Polars uses a fast-track algorithm.\n",
    "\n",
    "To use the fast-track algorithm Polars needs to know the join columns are sorted. See the lecture on Sorting and fast-track algorithms in Section 3 if you want a reminder on this.\n",
    "\n",
    "We explore the performance effect of joining on sorted columns in the exercises.\n"
   ]
  },
  {
   "cell_type": "markdown",
   "id": "bb97f713-a170-425e-994c-35715a30df54",
   "metadata": {},
   "source": [
    "## Exercises\n",
    "\n",
    "In the exercises you will develop your understanding of:\n",
    "- doing a left join of two `DataFrames`\n",
    "- doing an inner join of two `DataFrames`\n",
    "- doing fast-track joins on sorted integer columns\n",
    "\n",
    "## Exercise 1\n",
    "Do a left join of the CITES trade extract with the country data on the importer column"
   ]
  },
  {
   "cell_type": "code",
   "execution_count": null,
   "id": "5bf8ed3d-46c1-4d8f-9f25-5540866e7a6c",
   "metadata": {},
   "outputs": [],
   "source": [
    "dfCITES = pl.read_csv(csvFile)\n",
    "(\n",
    "    <blank>\n",
    ")"
   ]
  },
  {
   "cell_type": "markdown",
   "id": "4af07718-80d2-4c9e-b9a2-9e4e617c23fa",
   "metadata": {},
   "source": [
    "Now add a left join with the country data on the **exporter** column"
   ]
  },
  {
   "cell_type": "code",
   "execution_count": null,
   "id": "c474475c-7c2a-4f90-98fa-bdbe62141391",
   "metadata": {},
   "outputs": [],
   "source": [
    "dfCITES = pl.read_csv(csvFile)\n",
    "(\n",
    "    <blank>\n",
    ")"
   ]
  },
  {
   "cell_type": "markdown",
   "id": "b2d1fafe-98f0-4720-9e0b-d27098e2948c",
   "metadata": {},
   "source": [
    "Do an inner join with the country data for both importer and exporter"
   ]
  },
  {
   "cell_type": "code",
   "execution_count": null,
   "id": "23506dd9-1ad3-4923-8ebc-b3703fc7df50",
   "metadata": {},
   "outputs": [],
   "source": [
    "dfCITES = pl.read_csv(csvFile)\n",
    "(\n",
    "    <blank>\n",
    ")"
   ]
  },
  {
   "cell_type": "markdown",
   "id": "90278d5d-72ea-444d-ae76-1118e54305c7",
   "metadata": {},
   "source": [
    "## Exercise 2\n",
    "In this exercise we see the effect of joins on sorted integers\n",
    "\n",
    "We first create a pre-sorted array of `N` integers to be the join keys"
   ]
  },
  {
   "cell_type": "code",
   "execution_count": null,
   "id": "46d1f57e-e888-407a-94f7-552107b9d1f1",
   "metadata": {},
   "outputs": [],
   "source": [
    "# Set for only 4 rows to be printed\n",
    "pl.Config.set_tbl_rows(4)\n",
    "import numpy as np\n",
    "np.random.seed(0)\n",
    "\n",
    "N = 100_000\n",
    "# Create a random array with values up to N/2 and then sort it\n",
    "sortedArray = np.sort(np.random.randint(0,N //2,N))"
   ]
  },
  {
   "cell_type": "markdown",
   "id": "798e69d1-e0ca-419f-8e65-f8f6d5764a86",
   "metadata": {},
   "source": [
    "We create the left-hand `DataFrame` with the sorted array"
   ]
  },
  {
   "cell_type": "code",
   "execution_count": null,
   "id": "0903d23d-5bcf-4f12-81fe-5bc3432f694a",
   "metadata": {},
   "outputs": [],
   "source": [
    "dfLeft = (\n",
    "    pl.DataFrame(\n",
    "        {\n",
    "            \"id\":[i for i in sortedArray],\n",
    "            \"values\":np.random.standard_normal(N)\n",
    "        }\n",
    "    )\n",
    ")\n",
    "dfLeft"
   ]
  },
  {
   "cell_type": "markdown",
   "id": "7264949a-0b66-490d-bba7-50ec41a8df3a",
   "metadata": {},
   "source": [
    "We create the right-hand `DataFrame` with some metadata on the `id` column"
   ]
  },
  {
   "cell_type": "code",
   "execution_count": null,
   "id": "99e7cdb5-0242-4b9c-b0df-4d058a947e82",
   "metadata": {},
   "outputs": [],
   "source": [
    "dfRight = (\n",
    "    pl.DataFrame(\n",
    "        {\n",
    "            \"id\":[i for i in range(N // 2)],\n",
    "            \"meta\":[i for i in range(N //2)]\n",
    "        }\n",
    "    )\n",
    ")\n",
    "dfRight"
   ]
  },
  {
   "cell_type": "markdown",
   "id": "60a85a6e-41ed-48a3-bdab-331e74b6ff06",
   "metadata": {},
   "source": [
    "Check the flags if Polars knows the `id` column is sorted"
   ]
  },
  {
   "cell_type": "code",
   "execution_count": null,
   "id": "b6c08e04-9677-4dd3-ba84-ed6423d9c518",
   "metadata": {},
   "outputs": [],
   "source": [
    "print(<blank>)\n",
    "print(<blank>)"
   ]
  },
  {
   "cell_type": "markdown",
   "id": "f7f5d48a-27ae-41d6-a733-c01bef70cc27",
   "metadata": {},
   "source": [
    "Time the performance for an unsorted join"
   ]
  },
  {
   "cell_type": "code",
   "execution_count": null,
   "id": "20fc837f-2b1a-49d8-9d38-f875ca9c599f",
   "metadata": {},
   "outputs": [],
   "source": [
    "%%timeit -n1 -r3\n",
    "(\n",
    "  <blank>  \n",
    ")"
   ]
  },
  {
   "cell_type": "markdown",
   "id": "601abb47-28fc-4ee1-907b-6c8a51e33fef",
   "metadata": {},
   "source": [
    "Create new `DataFrames` where Polars knows the `id` column is sorted"
   ]
  },
  {
   "cell_type": "code",
   "execution_count": null,
   "id": "eb9e1298-113c-413e-992a-2a9367e8d00b",
   "metadata": {},
   "outputs": [],
   "source": [
    "dfLeftSorted = (\n",
    "    <blank>\n",
    ")\n",
    "                \n",
    "dfRightSorted = (\n",
    "    <blank>\n",
    ")\n"
   ]
  },
  {
   "cell_type": "markdown",
   "id": "f888e8b3-2592-41d6-a2a4-3eab264d98e6",
   "metadata": {},
   "source": [
    "Check the flags to see if Polars knows the `id` column is sorted"
   ]
  },
  {
   "cell_type": "code",
   "execution_count": null,
   "id": "e6885399-f259-4131-b803-2d27281c8bbb",
   "metadata": {},
   "outputs": [],
   "source": [
    "print(<blank>)\n",
    "print(<blank>)"
   ]
  },
  {
   "cell_type": "markdown",
   "id": "28b852ae-e78c-4bcc-a52e-31d55b9d3a90",
   "metadata": {},
   "source": [
    "Time the sorted join performance"
   ]
  },
  {
   "cell_type": "code",
   "execution_count": null,
   "id": "f2552e3d-81cd-4666-bba3-5f39c46171f5",
   "metadata": {},
   "outputs": [],
   "source": [
    "%%timeit -n1 -r3\n",
    "(\n",
    "  <blank>  \n",
    ")"
   ]
  },
  {
   "cell_type": "markdown",
   "id": "a4731016-4a99-46fc-8c2c-69767108e598",
   "metadata": {},
   "source": [
    "Compare performance if only the left `DataFrame` is sorted. Hint: use `dfRight`"
   ]
  },
  {
   "cell_type": "code",
   "execution_count": null,
   "id": "439d5958-1db8-4744-bade-e22236a942db",
   "metadata": {},
   "outputs": [],
   "source": []
  },
  {
   "cell_type": "markdown",
   "id": "4a70c1ee-d2fa-4ad0-b7bd-0c2241104441",
   "metadata": {},
   "source": [
    "Change `N` to see how the relative performance differs with size"
   ]
  },
  {
   "cell_type": "markdown",
   "id": "5d538ac9-2d24-496f-ab1f-d4a4b500f776",
   "metadata": {},
   "source": [
    "## Solutions"
   ]
  },
  {
   "cell_type": "markdown",
   "id": "629170bb-15c1-4507-abdf-c82b21e30604",
   "metadata": {},
   "source": [
    "## Solution to Exercise 1\n",
    "Do a left join of the CITES trade extract with the country data on the importer column"
   ]
  },
  {
   "cell_type": "code",
   "execution_count": null,
   "id": "8a94f5ed-cc82-48e2-a9c6-c2c0b5f632b5",
   "metadata": {
    "jupyter": {
     "source_hidden": true
    },
    "tags": []
   },
   "outputs": [],
   "source": [
    "dfCITES = pl.read_csv(csvFile)\n",
    "(dfCITES\n",
    " .join(dfISO,left_on=\"Importer\",right_on=\"alpha-2\", how=\"left\")\n",
    " .rename({\"name\":\"name_importer\",\"region\":\"region_importer\"})\n",
    ")"
   ]
  },
  {
   "cell_type": "markdown",
   "id": "2ad5b604-4c85-4eb2-93f7-3cb92615aa98",
   "metadata": {},
   "source": [
    "Now add a left join with the country data on the **exporter** column"
   ]
  },
  {
   "cell_type": "code",
   "execution_count": null,
   "id": "c75480b9-27d4-470e-8aef-43ce710ead96",
   "metadata": {
    "jupyter": {
     "source_hidden": true
    },
    "tags": []
   },
   "outputs": [],
   "source": [
    "dfCITES = pl.read_csv(csvFile)\n",
    "(dfCITES\n",
    " .join(dfISO,left_on=\"Importer\",right_on=\"alpha-2\", how=\"left\")\n",
    " .rename({\"name\":\"name_importer\",\"region\":\"region_importer\"})\n",
    " .join(dfISO,left_on=\"Exporter\",right_on=\"alpha-2\", how=\"left\")\n",
    " .rename({\"name\":\"name_exporter\",\"region\":\"region_exporter\"})\n",
    ")"
   ]
  },
  {
   "cell_type": "markdown",
   "id": "0f604ce4-fe1b-4796-954e-320d2a3ff6eb",
   "metadata": {},
   "source": [
    "Do an inner join with the country data for both importer and exporter"
   ]
  },
  {
   "cell_type": "code",
   "execution_count": null,
   "id": "609a590c-cc7f-47da-9828-71decb85fe84",
   "metadata": {
    "jupyter": {
     "source_hidden": true
    },
    "tags": []
   },
   "outputs": [],
   "source": [
    "dfCITES = pl.read_csv(csvFile)\n",
    "(dfCITES\n",
    " .join(dfISO,left_on=\"Importer\",right_on=\"alpha-2\", how=\"inner\")\n",
    " .rename({\"name\":\"name_importer\",\"region\":\"region_importer\"})\n",
    " .join(dfISO,left_on=\"Exporter\",right_on=\"alpha-2\", how=\"inner\")\n",
    " .rename({\"name\":\"name_exporter\",\"region\":\"region_exporter\"})\n",
    ")"
   ]
  },
  {
   "cell_type": "markdown",
   "id": "16b140b5-56a0-4ec7-b70e-e230fc9c5198",
   "metadata": {},
   "source": [
    "## Solution to Exercise 2"
   ]
  },
  {
   "cell_type": "code",
   "execution_count": null,
   "id": "03351aa6-752a-4162-a9f7-dad4510940d8",
   "metadata": {
    "tags": []
   },
   "outputs": [],
   "source": [
    "pl.Config.set_tbl_rows(4)\n",
    "import numpy as np\n",
    "np.random.seed(0)\n",
    "N = 10_000_000\n",
    "sortedArray = np.sort(np.random.randint(0,N //2,N))\n",
    "dfLeft = (\n",
    "    pl.DataFrame(\n",
    "        {\n",
    "            \"id\":[i for i in sortedArray],\n",
    "            \"values\":np.random.standard_normal(N)\n",
    "        }\n",
    "    )\n",
    ")\n",
    "dfLeft"
   ]
  },
  {
   "cell_type": "code",
   "execution_count": null,
   "id": "c9014cd6-96ed-4243-a6b2-a027c01caf1e",
   "metadata": {
    "jupyter": {
     "source_hidden": true
    },
    "tags": []
   },
   "outputs": [],
   "source": [
    "dfRight = (\n",
    "    pl.DataFrame(\n",
    "        {\n",
    "            \"id\":[i for i in range(N // 2)],\n",
    "            \"meta\":[i for i in range(N //2)]\n",
    "        }\n",
    "    )\n",
    ")\n",
    "dfRight"
   ]
  },
  {
   "cell_type": "markdown",
   "id": "c67e0994-daf7-4558-b05d-b69d25ae3d13",
   "metadata": {},
   "source": [
    "Check the flags to see if Polars knows the `id` column is sorted"
   ]
  },
  {
   "cell_type": "code",
   "execution_count": null,
   "id": "46d54b08-e666-4181-840d-de34698b1b84",
   "metadata": {
    "jupyter": {
     "source_hidden": true
    },
    "tags": []
   },
   "outputs": [],
   "source": [
    "print(dfLeft[\"id\"].flags)\n",
    "print(dfRight[\"id\"].flags)"
   ]
  },
  {
   "cell_type": "markdown",
   "id": "83fe7f4c-288f-4c3e-9ba6-94be35f468b2",
   "metadata": {},
   "source": [
    "Time the performance for an unsorted join"
   ]
  },
  {
   "cell_type": "code",
   "execution_count": null,
   "id": "f5af4ea4-5ff1-4447-bdd8-4798950808ae",
   "metadata": {
    "jupyter": {
     "source_hidden": true
    },
    "tags": []
   },
   "outputs": [],
   "source": [
    "%%timeit -n1 -r3\n",
    "(\n",
    "    dfLeft.join(dfRight,on=\"id\")\n",
    ")"
   ]
  },
  {
   "cell_type": "markdown",
   "id": "44655d31-a848-434d-95d4-8acf0d735f0f",
   "metadata": {},
   "source": [
    "Create new `DataFrames` where Polars knows the `id` column is sorted"
   ]
  },
  {
   "cell_type": "code",
   "execution_count": null,
   "id": "82cec0dc-571b-45a2-a665-bb4c798ea4b4",
   "metadata": {
    "jupyter": {
     "source_hidden": true
    },
    "tags": []
   },
   "outputs": [],
   "source": [
    "dfLeftSorted = (\n",
    "    dfLeft\n",
    "    .with_column(pl.col(\"id\").set_sorted())\n",
    ")\n",
    "                \n",
    "dfRightSorted = (\n",
    "    dfRight\n",
    "    .with_column(pl.col(\"id\").set_sorted())\n",
    ")\n"
   ]
  },
  {
   "cell_type": "markdown",
   "id": "9e2af10e-cfeb-4164-9a93-52367270dfa9",
   "metadata": {},
   "source": [
    "Check to see if Polars knows the `id` columns are sorted"
   ]
  },
  {
   "cell_type": "code",
   "execution_count": null,
   "id": "cad61bfb-a420-48ef-ad49-7bea77810c31",
   "metadata": {
    "jupyter": {
     "source_hidden": true
    },
    "tags": []
   },
   "outputs": [],
   "source": [
    "print(dfLeftSorted[\"id\"].flags)\n",
    "print(dfRightSorted[\"id\"].flags)"
   ]
  },
  {
   "cell_type": "markdown",
   "id": "489e737e-63ac-4da7-9662-ca56118fec7a",
   "metadata": {},
   "source": [
    "Time the sorted join performance"
   ]
  },
  {
   "cell_type": "code",
   "execution_count": null,
   "id": "9529f4d5-c124-4a8b-a05e-5601b3b60429",
   "metadata": {
    "jupyter": {
     "source_hidden": true
    },
    "tags": []
   },
   "outputs": [],
   "source": [
    "%%timeit -n1 -r3\n",
    "\n",
    "(\n",
    "    dfLeftSorted.join(dfRightSorted,left_on=\"id\",right_on=\"id\")\n",
    ")"
   ]
  },
  {
   "cell_type": "markdown",
   "id": "279bf302-10c8-4ae4-9c69-9ae3b3a889e4",
   "metadata": {},
   "source": [
    "Compare performance if only the left `DataFrame` is sorted"
   ]
  },
  {
   "cell_type": "code",
   "execution_count": null,
   "id": "ddbb4831-5ee5-436c-9bdd-c81eedd05595",
   "metadata": {
    "jupyter": {
     "source_hidden": true
    },
    "tags": []
   },
   "outputs": [],
   "source": [
    "%%timeit -n1 -r3\n",
    "\n",
    "(\n",
    "    dfLeftSorted.join(dfRight,left_on=\"id\",right_on=\"id\")\n",
    ")"
   ]
  },
  {
   "cell_type": "code",
   "execution_count": null,
   "id": "1167cf83-7ec3-4511-9a40-45204cdd8124",
   "metadata": {},
   "outputs": [],
   "source": []
  }
 ],
 "metadata": {
  "kernelspec": {
   "display_name": "Python 3 (ipykernel)",
   "language": "python",
   "name": "python3"
  },
  "language_info": {
   "codemirror_mode": {
    "name": "ipython",
    "version": 3
   },
   "file_extension": ".py",
   "mimetype": "text/x-python",
   "name": "python",
   "nbconvert_exporter": "python",
   "pygments_lexer": "ipython3",
   "version": "3.10.1"
  }
 },
 "nbformat": 4,
 "nbformat_minor": 5
}
