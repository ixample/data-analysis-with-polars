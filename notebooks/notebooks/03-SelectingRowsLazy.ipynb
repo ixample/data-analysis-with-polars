{
 "cells": [
  {
   "cell_type": "markdown",
   "id": "b06a7473-8d52-4c0d-b469-37add3272a53",
   "metadata": {},
   "source": [
    "# Filtering rows 3: using `filter` in lazy mode\n",
    "By the end of this lecture you will be able to:\n",
    "- use `filter` in lazy mode\n",
    "- understand the optimized and non-optimized query plans\n",
    "- combine mulitiple conditions in lazy mode"
   ]
  },
  {
   "cell_type": "code",
   "execution_count": 1,
   "id": "9fd758ec-0727-4c1e-87ae-04fd47b267b6",
   "metadata": {
    "tags": []
   },
   "outputs": [],
   "source": [
    "import polars as pl"
   ]
  },
  {
   "cell_type": "code",
   "execution_count": 2,
   "id": "43c1d48b-a1cc-4374-bfd5-83817c491923",
   "metadata": {
    "tags": []
   },
   "outputs": [],
   "source": [
    "csvFile = \"../data/titanic.csv\""
   ]
  },
  {
   "cell_type": "markdown",
   "id": "495cd62d-7e52-4dae-ad6d-63914075fe5f",
   "metadata": {},
   "source": [
    "Create a `LazyFrame` by scanning the CSV"
   ]
  },
  {
   "cell_type": "code",
   "execution_count": 3,
   "id": "23ec4b89-5819-4654-a3c8-d43a7a7b31fd",
   "metadata": {
    "tags": []
   },
   "outputs": [
    {
     "data": {
      "text/html": [
       "<i>naive plan: (run <b>LazyFrame.explain(optimized=True)</b> to see the optimized plan)</i>\n",
       "    <p></p>\n",
       "    <div><p></p>  Csv SCAN ../data/titanic.csv<p></p>  PROJECT */12 COLUMNS</div>"
      ],
      "text/plain": [
       "<LazyFrame [12 cols, {\"PassengerId\": Int64 … \"Embarked\": Utf8}] at 0x242E2460F10>"
      ]
     },
     "execution_count": 3,
     "metadata": {},
     "output_type": "execute_result"
    }
   ],
   "source": [
    "df = pl.scan_csv(csvFile)\n",
    "df"
   ]
  },
  {
   "cell_type": "markdown",
   "id": "2f2a23f0-91cd-4f45-87b9-74f245ff8dca",
   "metadata": {},
   "source": [
    "This output is the non-optimized `naive` query plan.\n",
    "\n",
    "The `SELECTION` part is `None` as no filters have been applied.\n",
    "\n",
    "## `filter` in lazy mode\n",
    "\n",
    "When we apply a `filter` in lazy mode a `FILTER` line is added to the `naive` query plan."
   ]
  },
  {
   "cell_type": "code",
   "execution_count": 6,
   "id": "990e4e0d-818c-4b77-bfb0-60c35c5c1111",
   "metadata": {
    "tags": []
   },
   "outputs": [
    {
     "data": {
      "text/plain": [
       "'FILTER [(col(\"Age\")) > (30.0)] FROM\\n\\n  Csv SCAN ../data/titanic.csv\\n  PROJECT */12 COLUMNS'"
      ]
     },
     "execution_count": 6,
     "metadata": {},
     "output_type": "execute_result"
    }
   ],
   "source": [
    "df = pl.scan_csv(csvFile)\n",
    "df = df.filter(pl.col(\"Age\") > 30)\n",
    "\n",
    "df.explain(optimized=True)"
   ]
  },
  {
   "cell_type": "markdown",
   "id": "2b61cfdf-31cf-430a-bbbc-1b3614506e9e",
   "metadata": {},
   "source": [
    "All query plans are read from bottom to top. \n",
    "\n",
    "## Inspecting the non-optimized query plan\n",
    "We examine the non-optimized query plan above first.\n",
    "\n",
    "### Bottom row\n",
    "In this non-optimized query plan the bottom row:\n",
    "`CSV SCAN ../data/titanic.csv; PROJECT */12 COLUMNS; SELECTION: None`\n",
    "\n",
    "states what will happen as Polars reads the CSV file:\n",
    "- `CSV SCAN` reads the CSV line-by-line\n",
    "- `PROJECT */12 COLUMNS` selects all 12 of the columns (`*` is a wildcard meaning all)\n",
    "- `SELECTION: None` means no rows will be filtered out.\n",
    "\n",
    "### Top row\n",
    "In this non-optimized query plan the top row:\n",
    "`FILTER [(col(\"Age\")) > (30i32)] FROM`\n",
    "\n",
    "states that **once the entire CSV file has been read into memory** as a `DataFrame`:\n",
    "- the `DataFrame` will be filtered for rows with `Age` greater than 30\n",
    "\n",
    "## Inspecting the optimized query plan\n",
    "We compare this with the optimized query plan that Polars will actually run when the `LazyFrame` is evaluated with `collect` or `fetch`.\n",
    "\n",
    "We need to `print` the output of `describe_optimized_plan` to format it correctly."
   ]
  },
  {
   "cell_type": "code",
   "execution_count": 13,
   "id": "f74ba351-3101-43f5-b710-ea0d5c1623be",
   "metadata": {
    "tags": []
   },
   "outputs": [
    {
     "name": "stdout",
     "output_type": "stream",
     "text": [
      "FILTER [(col(\"Age\")) > (30.0)] FROM\n",
      "\n",
      "  Csv SCAN ../data/titanic.csv\n",
      "  PROJECT */12 COLUMNS\n"
     ]
    }
   ],
   "source": [
    "df = (\n",
    "    pl.scan_csv(csvFile)\n",
    "    .filter(\n",
    "        pl.col(\"Age\") > 30\n",
    "    )\n",
    ")\n",
    "print(df.explain())\n"
   ]
  },
  {
   "cell_type": "markdown",
   "id": "95e32d85-2ad3-4773-9e7e-5d2c44028284",
   "metadata": {},
   "source": [
    "There is only one row of the optimized query plan.\n",
    "\n",
    "The `CSV SCAN` and `PROJECT` parts have not changed.\n",
    "\n",
    "`SELECTION: [(col(\"Age\")) > (30f64)]` means that Polars will apply the filter on the `Age` column **as the CSV is being read**.\n",
    "\n",
    "For emphasis: in the optimized plan only the rows of the CSV that meet the filter conditions are read into a `DataFrame`. This is memory efficient."
   ]
  },
  {
   "cell_type": "markdown",
   "id": "3403a930-5f11-459f-bef1-e0220dbf7c11",
   "metadata": {},
   "source": [
    "### Multiple conditions in lazy mode\n",
    "In *lazy mode* if we pass multiple `filter` calls then the query optimizer combines these into a *single condition* inside `SELECTION`.\n",
    "\n",
    "In this example we filter for first class passengers over the age of 70."
   ]
  },
  {
   "cell_type": "code",
   "execution_count": 54,
   "id": "53c6558a-67a0-496f-b80f-2e17999f31d1",
   "metadata": {
    "tags": []
   },
   "outputs": [
    {
     "name": "stdout",
     "output_type": "stream",
     "text": [
      "FILTER [([(col(\"Pclass\")) == (1)]) & ([(col(\"Age\")) > (70.0)])] FROM\n",
      "\n",
      "  Csv SCAN ../data/titanic.csv\n",
      "  PROJECT */12 COLUMNS\n"
     ]
    }
   ],
   "source": [
    "df = (\n",
    "    pl.scan_csv(csvFile)\n",
    "    .filter(\n",
    "        pl.col('Pclass')==1\n",
    "    )\n",
    "    .filter(\n",
    "        (pl.col('Age') > 70)\n",
    "    )\n",
    ")\n",
    "print(df.explain())"
   ]
  },
  {
   "cell_type": "markdown",
   "id": "11e79823-df64-4864-b6dc-b6fd9b45279e",
   "metadata": {},
   "source": [
    "# Exercises\n",
    "In the exercises you will develop your understanding of:\n",
    "- using the `filter` method in lazy mode\n",
    "- interpreting optimized query plans\n",
    "- applying multiple conditions\n",
    "\n",
    "## Exercise 1: Create a `LazyFrame` rows where `Fare` is greater than 10 in lazy mode"
   ]
  },
  {
   "cell_type": "code",
   "execution_count": 56,
   "id": "3979c416-8da6-44cc-8408-a5930159bdd4",
   "metadata": {
    "tags": []
   },
   "outputs": [
    {
     "name": "stdout",
     "output_type": "stream",
     "text": [
      "FILTER [([([(col(\"Age\")) > (70.0)]) & ([(col(\"fare\")) > (10)])]) & ([(col(\"Pclass\")) == (1)])] FROM\n",
      "\n",
      "  Csv SCAN ../data/titanic.csv\n",
      "  PROJECT */12 COLUMNS\n",
      "FILTER [(col(\"fare\")) > (10)] FROM\n",
      "FILTER [(col(\"Age\")) > (70)] FROM\n",
      "FILTER [(col(\"Pclass\")) == (1)] FROM\n",
      "\n",
      "  Csv SCAN ../data/titanic.csv\n",
      "  PROJECT */12 COLUMNS\n"
     ]
    }
   ],
   "source": [
    "print(df.lazy().filter(pl.col(\"fare\") > 10).explain(optimized=True))\n",
    "\n",
    "print(df.lazy().filter(pl.col(\"fare\") > 10).explain(optimized=False))"
   ]
  },
  {
   "cell_type": "markdown",
   "id": "feb3289d-addc-4121-b0b1-28cd05c3fc36",
   "metadata": {},
   "source": [
    "Exercise 1 cont: print out the optimized query plan and confirm the `SELECTION` is updated"
   ]
  },
  {
   "cell_type": "code",
   "execution_count": null,
   "id": "ddd445a9-684b-48e9-9f6c-0737f581cbab",
   "metadata": {
    "tags": []
   },
   "outputs": [],
   "source": []
  },
  {
   "cell_type": "markdown",
   "id": "ec0637a4-5fad-446c-88cd-c9b7f67f4a36",
   "metadata": {},
   "source": [
    "Exercise 1 cont: evaluate this query for the first 10 rows"
   ]
  },
  {
   "cell_type": "code",
   "execution_count": null,
   "id": "c0ef9a26-fc18-418c-a972-729cb9d2f65b",
   "metadata": {
    "tags": []
   },
   "outputs": [],
   "source": []
  },
  {
   "cell_type": "markdown",
   "id": "3f4256c0-868c-4878-85a2-eaf501ce1289",
   "metadata": {},
   "source": [
    "## Exercise 2: Create a `LazyFrame` where `Age` is greater than 30 and the passenger was in 2nd class"
   ]
  },
  {
   "cell_type": "code",
   "execution_count": null,
   "id": "919561ac-e2ed-450c-aca8-c1a885e6652a",
   "metadata": {
    "tags": []
   },
   "outputs": [],
   "source": [
    "df = pl.<blank>"
   ]
  },
  {
   "cell_type": "markdown",
   "id": "8c9c465d-5d73-44f0-b9b4-8caa922c1e83",
   "metadata": {},
   "source": [
    "Exercise 2 cont: print out the optimized query plan and confirm the `SELECTION` is updated"
   ]
  },
  {
   "cell_type": "markdown",
   "id": "8d00808e-d376-4226-95dc-2bfeea4f3b9f",
   "metadata": {},
   "source": [
    "## Exercise 3: Create a lazy query with the following optimized plan\n",
    "```\n",
    "CSV SCAN ../data/titanic.csv; \n",
    "PROJECT */12 COLUMNS; \n",
    "SELECTION: [([(col(\"Fare\")) < (10f64)]) & ([(col(\"Sex\")) == (Utf8(female))])]\n",
    "```"
   ]
  },
  {
   "cell_type": "code",
   "execution_count": null,
   "id": "ef0ea6c6-469a-4a23-8bee-7f3a8443bf68",
   "metadata": {
    "tags": []
   },
   "outputs": [],
   "source": []
  },
  {
   "cell_type": "markdown",
   "id": "e374fd09-aa5a-493f-ad81-bb1d06f1f6f7",
   "metadata": {},
   "source": [
    "## Solutions\n",
    "\n",
    "## Solution to Exercise 1"
   ]
  },
  {
   "cell_type": "code",
   "execution_count": 57,
   "id": "76586b11-4e98-4d97-a043-71932d85de84",
   "metadata": {
    "jupyter": {
     "source_hidden": true
    }
   },
   "outputs": [],
   "source": [
    "df = pl.scan_csv(csvFile)\n",
    "df = df.filter(pl.col('Fare') > 10)"
   ]
  },
  {
   "cell_type": "markdown",
   "id": "41f29990-6fad-4f40-8969-abae5f93b214",
   "metadata": {},
   "source": [
    "Exercise 1 cont: print out the optimized query plan and confirm the `SELECTION` is updated"
   ]
  },
  {
   "cell_type": "code",
   "execution_count": 59,
   "id": "1625e640-0308-42fd-ac77-5b46f42cbccc",
   "metadata": {
    "jupyter": {
     "source_hidden": true
    }
   },
   "outputs": [
    {
     "name": "stdout",
     "output_type": "stream",
     "text": [
      "FILTER [(col(\"Fare\")) > (10.0)] FROM\n",
      "\n",
      "  Csv SCAN ../data/titanic.csv\n",
      "  PROJECT */12 COLUMNS\n"
     ]
    }
   ],
   "source": [
    "df = pl.scan_csv(csvFile)\n",
    "df = df.filter(pl.col('Fare') > 10)\n",
    "print(df.explain())"
   ]
  },
  {
   "cell_type": "markdown",
   "id": "32a04335-3b7e-45b5-9414-7f95eaad7365",
   "metadata": {},
   "source": [
    "Exercise 1 cont: evaluate this query for the first 10 rows"
   ]
  },
  {
   "cell_type": "code",
   "execution_count": 60,
   "id": "83cd8c92-d0a4-41d6-9fea-b6e6a290dec8",
   "metadata": {
    "jupyter": {
     "source_hidden": true
    }
   },
   "outputs": [
    {
     "data": {
      "text/html": [
       "<div><style>\n",
       ".dataframe > thead > tr > th,\n",
       ".dataframe > tbody > tr > td {\n",
       "  text-align: right;\n",
       "}\n",
       "</style>\n",
       "<small>shape: (6, 12)</small><table border=\"1\" class=\"dataframe\"><thead><tr><th>PassengerId</th><th>Survived</th><th>Pclass</th><th>Name</th><th>Sex</th><th>Age</th><th>SibSp</th><th>Parch</th><th>Ticket</th><th>Fare</th><th>Cabin</th><th>Embarked</th></tr><tr><td>i64</td><td>i64</td><td>i64</td><td>str</td><td>str</td><td>f64</td><td>i64</td><td>i64</td><td>str</td><td>f64</td><td>str</td><td>str</td></tr></thead><tbody><tr><td>2</td><td>1</td><td>1</td><td>&quot;Cumings, Mrs. …</td><td>&quot;female&quot;</td><td>38.0</td><td>1</td><td>0</td><td>&quot;PC 17599&quot;</td><td>71.2833</td><td>&quot;C85&quot;</td><td>&quot;C&quot;</td></tr><tr><td>4</td><td>1</td><td>1</td><td>&quot;Futrelle, Mrs.…</td><td>&quot;female&quot;</td><td>35.0</td><td>1</td><td>0</td><td>&quot;113803&quot;</td><td>53.1</td><td>&quot;C123&quot;</td><td>&quot;S&quot;</td></tr><tr><td>7</td><td>0</td><td>1</td><td>&quot;McCarthy, Mr. …</td><td>&quot;male&quot;</td><td>54.0</td><td>0</td><td>0</td><td>&quot;17463&quot;</td><td>51.8625</td><td>&quot;E46&quot;</td><td>&quot;S&quot;</td></tr><tr><td>8</td><td>0</td><td>3</td><td>&quot;Palsson, Maste…</td><td>&quot;male&quot;</td><td>2.0</td><td>3</td><td>1</td><td>&quot;349909&quot;</td><td>21.075</td><td>null</td><td>&quot;S&quot;</td></tr><tr><td>9</td><td>1</td><td>3</td><td>&quot;Johnson, Mrs. …</td><td>&quot;female&quot;</td><td>27.0</td><td>0</td><td>2</td><td>&quot;347742&quot;</td><td>11.1333</td><td>null</td><td>&quot;S&quot;</td></tr><tr><td>10</td><td>1</td><td>2</td><td>&quot;Nasser, Mrs. N…</td><td>&quot;female&quot;</td><td>14.0</td><td>1</td><td>0</td><td>&quot;237736&quot;</td><td>30.0708</td><td>null</td><td>&quot;C&quot;</td></tr></tbody></table></div>"
      ],
      "text/plain": [
       "shape: (6, 12)\n",
       "┌─────────────┬──────────┬────────┬────────────────────┬───┬──────────┬─────────┬───────┬──────────┐\n",
       "│ PassengerId ┆ Survived ┆ Pclass ┆ Name               ┆ … ┆ Ticket   ┆ Fare    ┆ Cabin ┆ Embarked │\n",
       "│ ---         ┆ ---      ┆ ---    ┆ ---                ┆   ┆ ---      ┆ ---     ┆ ---   ┆ ---      │\n",
       "│ i64         ┆ i64      ┆ i64    ┆ str                ┆   ┆ str      ┆ f64     ┆ str   ┆ str      │\n",
       "╞═════════════╪══════════╪════════╪════════════════════╪═══╪══════════╪═════════╪═══════╪══════════╡\n",
       "│ 2           ┆ 1        ┆ 1      ┆ Cumings, Mrs. John ┆ … ┆ PC 17599 ┆ 71.2833 ┆ C85   ┆ C        │\n",
       "│             ┆          ┆        ┆ Bradley (Flor…     ┆   ┆          ┆         ┆       ┆          │\n",
       "│ 4           ┆ 1        ┆ 1      ┆ Futrelle, Mrs.     ┆ … ┆ 113803   ┆ 53.1    ┆ C123  ┆ S        │\n",
       "│             ┆          ┆        ┆ Jacques Heath (Li… ┆   ┆          ┆         ┆       ┆          │\n",
       "│ 7           ┆ 0        ┆ 1      ┆ McCarthy, Mr.      ┆ … ┆ 17463    ┆ 51.8625 ┆ E46   ┆ S        │\n",
       "│             ┆          ┆        ┆ Timothy J          ┆   ┆          ┆         ┆       ┆          │\n",
       "│ 8           ┆ 0        ┆ 3      ┆ Palsson, Master.   ┆ … ┆ 349909   ┆ 21.075  ┆ null  ┆ S        │\n",
       "│             ┆          ┆        ┆ Gosta Leonard      ┆   ┆          ┆         ┆       ┆          │\n",
       "│ 9           ┆ 1        ┆ 3      ┆ Johnson, Mrs.      ┆ … ┆ 347742   ┆ 11.1333 ┆ null  ┆ S        │\n",
       "│             ┆          ┆        ┆ Oscar W            ┆   ┆          ┆         ┆       ┆          │\n",
       "│             ┆          ┆        ┆ (Elisabeth…        ┆   ┆          ┆         ┆       ┆          │\n",
       "│ 10          ┆ 1        ┆ 2      ┆ Nasser, Mrs.       ┆ … ┆ 237736   ┆ 30.0708 ┆ null  ┆ C        │\n",
       "│             ┆          ┆        ┆ Nicholas (Adele    ┆   ┆          ┆         ┆       ┆          │\n",
       "│             ┆          ┆        ┆ Ach…               ┆   ┆          ┆         ┆       ┆          │\n",
       "└─────────────┴──────────┴────────┴────────────────────┴───┴──────────┴─────────┴───────┴──────────┘"
      ]
     },
     "execution_count": 60,
     "metadata": {},
     "output_type": "execute_result"
    }
   ],
   "source": [
    "df.fetch(10)"
   ]
  },
  {
   "cell_type": "markdown",
   "id": "f08531e8-1030-42fd-9c55-36bf78faae63",
   "metadata": {},
   "source": [
    "## Solution to Exercise 2"
   ]
  },
  {
   "cell_type": "code",
   "execution_count": 61,
   "id": "80da22aa-ae65-4c10-890d-bee420195c49",
   "metadata": {
    "jupyter": {
     "source_hidden": true
    }
   },
   "outputs": [],
   "source": [
    "df = pl.scan_csv(csvFile)\n",
    "df = df.filter(\n",
    "    (pl.col('Age') > 30) & (pl.col('Pclass')==2)\n",
    ")"
   ]
  },
  {
   "cell_type": "markdown",
   "id": "d3a021b1-36af-4caf-a7e5-e6e482e7351b",
   "metadata": {},
   "source": [
    "Exercise 2 cont: print out the optimized query plan and confirm the `SELECTION` is updated"
   ]
  },
  {
   "cell_type": "code",
   "execution_count": 62,
   "id": "a483e251-0b77-4cdd-9e31-16a4e538f9a6",
   "metadata": {
    "jupyter": {
     "source_hidden": true
    }
   },
   "outputs": [
    {
     "name": "stdout",
     "output_type": "stream",
     "text": [
      "FILTER [([(col(\"Age\")) > (30.0)]) & ([(col(\"Pclass\")) == (2)])] FROM\n",
      "\n",
      "  Csv SCAN ../data/titanic.csv\n",
      "  PROJECT */12 COLUMNS\n"
     ]
    }
   ],
   "source": [
    "df = pl.scan_csv(csvFile)\n",
    "df = df.filter(\n",
    "    (pl.col('Age') > 30) & (pl.col('Pclass')==2)\n",
    ")\n",
    "print(df.explain())"
   ]
  },
  {
   "cell_type": "markdown",
   "id": "248c49a5-3217-4053-a5cf-9b4146405017",
   "metadata": {},
   "source": [
    "Exercise 2 cont: evaluate this query for the full `DataFrame`"
   ]
  },
  {
   "cell_type": "code",
   "execution_count": 63,
   "id": "39889493-d9fe-4b2d-9100-412a12864d03",
   "metadata": {
    "jupyter": {
     "source_hidden": true
    }
   },
   "outputs": [
    {
     "data": {
      "text/html": [
       "<div><style>\n",
       ".dataframe > thead > tr > th,\n",
       ".dataframe > tbody > tr > td {\n",
       "  text-align: right;\n",
       "}\n",
       "</style>\n",
       "<small>shape: (77, 12)</small><table border=\"1\" class=\"dataframe\"><thead><tr><th>PassengerId</th><th>Survived</th><th>Pclass</th><th>Name</th><th>Sex</th><th>Age</th><th>SibSp</th><th>Parch</th><th>Ticket</th><th>Fare</th><th>Cabin</th><th>Embarked</th></tr><tr><td>i64</td><td>i64</td><td>i64</td><td>str</td><td>str</td><td>f64</td><td>i64</td><td>i64</td><td>str</td><td>f64</td><td>str</td><td>str</td></tr></thead><tbody><tr><td>16</td><td>1</td><td>2</td><td>&quot;Hewlett, Mrs. …</td><td>&quot;female&quot;</td><td>55.0</td><td>0</td><td>0</td><td>&quot;248706&quot;</td><td>16.0</td><td>null</td><td>&quot;S&quot;</td></tr><tr><td>21</td><td>0</td><td>2</td><td>&quot;Fynney, Mr. Jo…</td><td>&quot;male&quot;</td><td>35.0</td><td>0</td><td>0</td><td>&quot;239865&quot;</td><td>26.0</td><td>null</td><td>&quot;S&quot;</td></tr><tr><td>22</td><td>1</td><td>2</td><td>&quot;Beesley, Mr. L…</td><td>&quot;male&quot;</td><td>34.0</td><td>0</td><td>0</td><td>&quot;248698&quot;</td><td>13.0</td><td>&quot;D56&quot;</td><td>&quot;S&quot;</td></tr><tr><td>34</td><td>0</td><td>2</td><td>&quot;Wheadon, Mr. E…</td><td>&quot;male&quot;</td><td>66.0</td><td>0</td><td>0</td><td>&quot;C.A. 24579&quot;</td><td>10.5</td><td>null</td><td>&quot;S&quot;</td></tr><tr><td>71</td><td>0</td><td>2</td><td>&quot;Jenkin, Mr. St…</td><td>&quot;male&quot;</td><td>32.0</td><td>0</td><td>0</td><td>&quot;C.A. 33111&quot;</td><td>10.5</td><td>null</td><td>&quot;S&quot;</td></tr><tr><td>99</td><td>1</td><td>2</td><td>&quot;Doling, Mrs. J…</td><td>&quot;female&quot;</td><td>34.0</td><td>0</td><td>1</td><td>&quot;231919&quot;</td><td>23.0</td><td>null</td><td>&quot;S&quot;</td></tr><tr><td>100</td><td>0</td><td>2</td><td>&quot;Kantor, Mr. Si…</td><td>&quot;male&quot;</td><td>34.0</td><td>1</td><td>0</td><td>&quot;244367&quot;</td><td>26.0</td><td>null</td><td>&quot;S&quot;</td></tr><tr><td>123</td><td>0</td><td>2</td><td>&quot;Nasser, Mr. Ni…</td><td>&quot;male&quot;</td><td>32.5</td><td>1</td><td>0</td><td>&quot;237736&quot;</td><td>30.0708</td><td>null</td><td>&quot;C&quot;</td></tr><tr><td>124</td><td>1</td><td>2</td><td>&quot;Webber, Miss. …</td><td>&quot;female&quot;</td><td>32.5</td><td>0</td><td>0</td><td>&quot;27267&quot;</td><td>13.0</td><td>&quot;E101&quot;</td><td>&quot;S&quot;</td></tr><tr><td>149</td><td>0</td><td>2</td><td>&quot;Navratil, Mr. …</td><td>&quot;male&quot;</td><td>36.5</td><td>0</td><td>2</td><td>&quot;230080&quot;</td><td>26.0</td><td>&quot;F2&quot;</td><td>&quot;S&quot;</td></tr><tr><td>150</td><td>0</td><td>2</td><td>&quot;Byles, Rev. Th…</td><td>&quot;male&quot;</td><td>42.0</td><td>0</td><td>0</td><td>&quot;244310&quot;</td><td>13.0</td><td>null</td><td>&quot;S&quot;</td></tr><tr><td>151</td><td>0</td><td>2</td><td>&quot;Bateman, Rev. …</td><td>&quot;male&quot;</td><td>51.0</td><td>0</td><td>0</td><td>&quot;S.O.P. 1166&quot;</td><td>12.525</td><td>null</td><td>&quot;S&quot;</td></tr><tr><td>&hellip;</td><td>&hellip;</td><td>&hellip;</td><td>&hellip;</td><td>&hellip;</td><td>&hellip;</td><td>&hellip;</td><td>&hellip;</td><td>&hellip;</td><td>&hellip;</td><td>&hellip;</td><td>&hellip;</td></tr><tr><td>724</td><td>0</td><td>2</td><td>&quot;Hodges, Mr. He…</td><td>&quot;male&quot;</td><td>50.0</td><td>0</td><td>0</td><td>&quot;250643&quot;</td><td>13.0</td><td>null</td><td>&quot;S&quot;</td></tr><tr><td>755</td><td>1</td><td>2</td><td>&quot;Herman, Mrs. S…</td><td>&quot;female&quot;</td><td>48.0</td><td>1</td><td>2</td><td>&quot;220845&quot;</td><td>65.0</td><td>null</td><td>&quot;S&quot;</td></tr><tr><td>773</td><td>0</td><td>2</td><td>&quot;Mack, Mrs. (Ma…</td><td>&quot;female&quot;</td><td>57.0</td><td>0</td><td>0</td><td>&quot;S.O./P.P. 3&quot;</td><td>10.5</td><td>&quot;E77&quot;</td><td>&quot;S&quot;</td></tr><tr><td>775</td><td>1</td><td>2</td><td>&quot;Hocking, Mrs. …</td><td>&quot;female&quot;</td><td>54.0</td><td>1</td><td>3</td><td>&quot;29105&quot;</td><td>23.0</td><td>null</td><td>&quot;S&quot;</td></tr><tr><td>796</td><td>0</td><td>2</td><td>&quot;Otter, Mr. Ric…</td><td>&quot;male&quot;</td><td>39.0</td><td>0</td><td>0</td><td>&quot;28213&quot;</td><td>13.0</td><td>null</td><td>&quot;S&quot;</td></tr><tr><td>801</td><td>0</td><td>2</td><td>&quot;Ponesell, Mr. …</td><td>&quot;male&quot;</td><td>34.0</td><td>0</td><td>0</td><td>&quot;250647&quot;</td><td>13.0</td><td>null</td><td>&quot;S&quot;</td></tr><tr><td>802</td><td>1</td><td>2</td><td>&quot;Collyer, Mrs. …</td><td>&quot;female&quot;</td><td>31.0</td><td>1</td><td>1</td><td>&quot;C.A. 31921&quot;</td><td>26.25</td><td>null</td><td>&quot;S&quot;</td></tr><tr><td>809</td><td>0</td><td>2</td><td>&quot;Meyer, Mr. Aug…</td><td>&quot;male&quot;</td><td>39.0</td><td>0</td><td>0</td><td>&quot;248723&quot;</td><td>13.0</td><td>null</td><td>&quot;S&quot;</td></tr><tr><td>813</td><td>0</td><td>2</td><td>&quot;Slemen, Mr. Ri…</td><td>&quot;male&quot;</td><td>35.0</td><td>0</td><td>0</td><td>&quot;28206&quot;</td><td>10.5</td><td>null</td><td>&quot;S&quot;</td></tr><tr><td>818</td><td>0</td><td>2</td><td>&quot;Mallet, Mr. Al…</td><td>&quot;male&quot;</td><td>31.0</td><td>1</td><td>1</td><td>&quot;S.C./PARIS 207…</td><td>37.0042</td><td>null</td><td>&quot;C&quot;</td></tr><tr><td>855</td><td>0</td><td>2</td><td>&quot;Carter, Mrs. E…</td><td>&quot;female&quot;</td><td>44.0</td><td>1</td><td>0</td><td>&quot;244252&quot;</td><td>26.0</td><td>null</td><td>&quot;S&quot;</td></tr><tr><td>866</td><td>1</td><td>2</td><td>&quot;Bystrom, Mrs. …</td><td>&quot;female&quot;</td><td>42.0</td><td>0</td><td>0</td><td>&quot;236852&quot;</td><td>13.0</td><td>null</td><td>&quot;S&quot;</td></tr></tbody></table></div>"
      ],
      "text/plain": [
       "shape: (77, 12)\n",
       "┌─────────────┬──────────┬────────┬──────────────────┬───┬────────────┬─────────┬───────┬──────────┐\n",
       "│ PassengerId ┆ Survived ┆ Pclass ┆ Name             ┆ … ┆ Ticket     ┆ Fare    ┆ Cabin ┆ Embarked │\n",
       "│ ---         ┆ ---      ┆ ---    ┆ ---              ┆   ┆ ---        ┆ ---     ┆ ---   ┆ ---      │\n",
       "│ i64         ┆ i64      ┆ i64    ┆ str              ┆   ┆ str        ┆ f64     ┆ str   ┆ str      │\n",
       "╞═════════════╪══════════╪════════╪══════════════════╪═══╪════════════╪═════════╪═══════╪══════════╡\n",
       "│ 16          ┆ 1        ┆ 2      ┆ Hewlett, Mrs.    ┆ … ┆ 248706     ┆ 16.0    ┆ null  ┆ S        │\n",
       "│             ┆          ┆        ┆ (Mary D          ┆   ┆            ┆         ┆       ┆          │\n",
       "│             ┆          ┆        ┆ Kingcome)        ┆   ┆            ┆         ┆       ┆          │\n",
       "│ 21          ┆ 0        ┆ 2      ┆ Fynney, Mr.      ┆ … ┆ 239865     ┆ 26.0    ┆ null  ┆ S        │\n",
       "│             ┆          ┆        ┆ Joseph J         ┆   ┆            ┆         ┆       ┆          │\n",
       "│ 22          ┆ 1        ┆ 2      ┆ Beesley, Mr.     ┆ … ┆ 248698     ┆ 13.0    ┆ D56   ┆ S        │\n",
       "│             ┆          ┆        ┆ Lawrence         ┆   ┆            ┆         ┆       ┆          │\n",
       "│ 34          ┆ 0        ┆ 2      ┆ Wheadon, Mr.     ┆ … ┆ C.A. 24579 ┆ 10.5    ┆ null  ┆ S        │\n",
       "│             ┆          ┆        ┆ Edward H         ┆   ┆            ┆         ┆       ┆          │\n",
       "│ …           ┆ …        ┆ …      ┆ …                ┆ … ┆ …          ┆ …       ┆ …     ┆ …        │\n",
       "│ 813         ┆ 0        ┆ 2      ┆ Slemen, Mr.      ┆ … ┆ 28206      ┆ 10.5    ┆ null  ┆ S        │\n",
       "│             ┆          ┆        ┆ Richard James    ┆   ┆            ┆         ┆       ┆          │\n",
       "│ 818         ┆ 0        ┆ 2      ┆ Mallet, Mr.      ┆ … ┆ S.C./PARIS ┆ 37.0042 ┆ null  ┆ C        │\n",
       "│             ┆          ┆        ┆ Albert           ┆   ┆ 2079       ┆         ┆       ┆          │\n",
       "│ 855         ┆ 0        ┆ 2      ┆ Carter, Mrs.     ┆ … ┆ 244252     ┆ 26.0    ┆ null  ┆ S        │\n",
       "│             ┆          ┆        ┆ Ernest Courtenay ┆   ┆            ┆         ┆       ┆          │\n",
       "│             ┆          ┆        ┆ (L…              ┆   ┆            ┆         ┆       ┆          │\n",
       "│ 866         ┆ 1        ┆ 2      ┆ Bystrom, Mrs.    ┆ … ┆ 236852     ┆ 13.0    ┆ null  ┆ S        │\n",
       "│             ┆          ┆        ┆ (Karolina)       ┆   ┆            ┆         ┆       ┆          │\n",
       "└─────────────┴──────────┴────────┴──────────────────┴───┴────────────┴─────────┴───────┴──────────┘"
      ]
     },
     "execution_count": 63,
     "metadata": {},
     "output_type": "execute_result"
    }
   ],
   "source": [
    "df.collect()"
   ]
  },
  {
   "cell_type": "markdown",
   "id": "96c30258-fba5-47ca-9fd1-695d112a3083",
   "metadata": {},
   "source": [
    "## Solution to Exercise 3"
   ]
  },
  {
   "cell_type": "code",
   "execution_count": 65,
   "id": "b6dd9725-d8b3-481c-b840-d77af2b0c9a4",
   "metadata": {
    "jupyter": {
     "source_hidden": true
    },
    "tags": []
   },
   "outputs": [
    {
     "data": {
      "text/plain": [
       "'FILTER [([(col(\"Sex\")) == (Utf8(female))]) & ([(col(\"Fare\")) < (10.0)])] FROM\\n\\n  Csv SCAN ../data/titanic.csv\\n  PROJECT */12 COLUMNS'"
      ]
     },
     "execution_count": 65,
     "metadata": {},
     "output_type": "execute_result"
    }
   ],
   "source": [
    "(\n",
    "    pl.scan_csv(csvFile)\n",
    "    .filter(pl.col('Fare') < 10)\n",
    "    .filter(pl.col('Sex') == 'female')\n",
    ").explain()"
   ]
  },
  {
   "cell_type": "code",
   "execution_count": null,
   "id": "e33dec32-6656-40be-a262-5a118773a2ce",
   "metadata": {},
   "outputs": [],
   "source": []
  }
 ],
 "metadata": {
  "kernelspec": {
   "display_name": "Python 3 (ipykernel)",
   "language": "python",
   "name": "python3"
  },
  "language_info": {
   "codemirror_mode": {
    "name": "ipython",
    "version": 3
   },
   "file_extension": ".py",
   "mimetype": "text/x-python",
   "name": "python",
   "nbconvert_exporter": "python",
   "pygments_lexer": "ipython3",
   "version": "3.11.4"
  }
 },
 "nbformat": 4,
 "nbformat_minor": 5
}
