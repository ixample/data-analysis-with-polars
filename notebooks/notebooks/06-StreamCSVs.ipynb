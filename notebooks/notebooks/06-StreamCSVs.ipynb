{
 "cells": [
  {
   "cell_type": "markdown",
   "id": "119da637-425b-4c5a-9c00-45fd1e2c50a4",
   "metadata": {},
   "source": [
    "## CSV files 4: streaming larger-than-memory datasets\n",
    "By the end of this lecture you will be able to:\n",
    "- process larger-than-memory datasets from CSVs with streaming\n",
    "\n",
    "With streaming Polars can process a full query on a larger-than-memory dataset by:\n",
    "- reading each CSV file in batches\n",
    "- adapting its standard operations to work on batches instead of the full dataset at once"
   ]
  },
  {
   "cell_type": "code",
   "execution_count": null,
   "id": "5f7cab59-f01d-49f5-81c1-65c0ec6f0d92",
   "metadata": {},
   "outputs": [],
   "source": [
    "import polars as pl"
   ]
  },
  {
   "cell_type": "markdown",
   "id": "afe1e61a-71b9-471e-97ee-b8b4794d3e03",
   "metadata": {},
   "source": [
    "Obviously it doesn't work for me to provide very large datasets with this course. Instead we will do streaming on a small dataset and you can then apply it to your own larger datasets"
   ]
  },
  {
   "cell_type": "code",
   "execution_count": null,
   "id": "959942c6-7050-487b-93bf-12e6c1bb1eb0",
   "metadata": {},
   "outputs": [],
   "source": [
    "csvFile = \"../data/nyc_trip_data_1k.csv\""
   ]
  },
  {
   "cell_type": "markdown",
   "id": "ffb3a6c9-7a84-4f04-9eb6-c3eb32d702a4",
   "metadata": {},
   "source": [
    "We start with a simple non-streaming query"
   ]
  },
  {
   "cell_type": "code",
   "execution_count": null,
   "id": "1f1769b9-1530-4626-9f38-45117a09f615",
   "metadata": {},
   "outputs": [],
   "source": [
    "(\n",
    "    pl.scan_csv(csvFile,parse_dates = True)\n",
    "    .filter(pl.col(\"passenger_count\") > 5)\n",
    "    .collect()\n",
    "    .head(3)\n",
    ")"
   ]
  },
  {
   "cell_type": "markdown",
   "id": "10010e89-017a-4d7e-8409-3e31ed1315ab",
   "metadata": {},
   "source": [
    "We make this streaming by passing `streaming = True` to `collect`"
   ]
  },
  {
   "cell_type": "code",
   "execution_count": null,
   "id": "13f5a10d-27bf-475d-88c5-0e99d1826fc9",
   "metadata": {},
   "outputs": [],
   "source": [
    "(\n",
    "    pl.scan_csv(csvFile,parse_dates = True)\n",
    "    .filter(pl.col(\"passenger_count\") > 5)\n",
    "    .collect(streaming=True)\n",
    "    .head(3)\n",
    ")"
   ]
  },
  {
   "cell_type": "markdown",
   "id": "04fc106e-b920-439a-90a2-c02521c8e4e2",
   "metadata": {},
   "source": [
    "Not all operations support streaming - for those that do not Polars uses a non-streaming approach."
   ]
  },
  {
   "cell_type": "markdown",
   "id": "f328547a-206a-4be0-aedf-16044e6e8fb2",
   "metadata": {},
   "source": [
    "## Streaming joins\n",
    "We can join data from different CSVs with streaming. In this example we join the CITES trade records with the ISO country data on the `Importer` column\n",
    "> See the lectures on joining `DataFrames` if you have not encountered these datasets yet"
   ]
  },
  {
   "cell_type": "code",
   "execution_count": null,
   "id": "947f80eb-bfe9-4dd6-a49b-34738a35d16d",
   "metadata": {},
   "outputs": [],
   "source": [
    "citesCsvFile = \"../data/cites_extract.csv\"\n",
    "isoCSVFile = \"../data/countries_extract.csv\"\n",
    "(\n",
    "    pl.scan_csv(citesCsvFile)\n",
    "    .join(\n",
    "        pl.scan_csv(isoCSVFile),\n",
    "        left_on=\"Importer\",\n",
    "        right_on=\"alpha-2\", \n",
    "        how=\"inner\"\n",
    "    )\n",
    "    .collect(streaming=True)\n",
    ")\n",
    "        "
   ]
  },
  {
   "cell_type": "markdown",
   "id": "6c5aa59b-709a-4848-a731-31426bbd111f",
   "metadata": {},
   "source": [
    "\n",
    "## Output to a file\n",
    "In the current release Polars needs to output a `DataFrame` from streaming and so the output of the query must fit in memory. \n",
    "\n",
    "In a future release Polars will support writing streaming outputs directly to a file. This lecture will be updated when this functionality is released."
   ]
  },
  {
   "cell_type": "markdown",
   "id": "2f70efd6-1dbd-4141-9537-70e15c228acd",
   "metadata": {},
   "source": [
    "## Profiling\n",
    "We can profile a query when we use streaming. \n",
    "\n",
    "> If you have not encountered `profile` see the lecture on Lazy Groupby in the section on Statistics, Counts and Grouping for an introduction"
   ]
  },
  {
   "cell_type": "code",
   "execution_count": null,
   "id": "754084be-59a0-4412-be90-16d535ec43ff",
   "metadata": {},
   "outputs": [],
   "source": [
    "groupDf, profileDF = (\n",
    "    pl.scan_csv(csvFile)\n",
    "    .groupby(\"passenger_count\")\n",
    "    .agg(\n",
    "        pl.col(\"trip_distance\").mean()\n",
    "    )\n",
    "    .sort(\"passenger_count\")\n",
    "    .profile(streaming=True,show_plot=True)\n",
    ")"
   ]
  },
  {
   "cell_type": "markdown",
   "id": "4ba95b14-f2ff-47fd-82ef-83182c372597",
   "metadata": {},
   "source": [
    "## Streaming and common subplan elimination\n",
    "The query above produced the following notification from Polars\n",
    "\n",
    "```\n",
    "Cannot combine 'streaming' with 'common_subplan_elimination'. CSE will be turned off.\n",
    "```\n",
    "Common subplan elimination is one of the ways that the query optimiser can optimise queries. It arises in queries where the same action is applied to the same `LazyFrame` in different parts of a query.\n",
    "\n",
    "## Exercises\n",
    "There are no exercises here as streaming works in a similar way to operations we have met before.\n",
    "\n",
    "Try streaming on your own data - if you encounter any problems then get in touch with me to see if we can understand the issue."
   ]
  }
 ],
 "metadata": {
  "kernelspec": {
   "display_name": "Python 3 (ipykernel)",
   "language": "python",
   "name": "python3"
  },
  "language_info": {
   "codemirror_mode": {
    "name": "ipython",
    "version": 3
   },
   "file_extension": ".py",
   "mimetype": "text/x-python",
   "name": "python",
   "nbconvert_exporter": "python",
   "pygments_lexer": "ipython3",
   "version": "3.10.1"
  }
 },
 "nbformat": 4,
 "nbformat_minor": 5
}
